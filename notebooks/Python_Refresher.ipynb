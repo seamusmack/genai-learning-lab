{
 "cells": [
  {
   "cell_type": "code",
   "execution_count": null,
   "id": "55f0332b-1338-42bb-9a8c-b081063a7553",
   "metadata": {},
   "outputs": [],
   "source": [
    "## First Script\n",
    "x = 10\n",
    "y = \"name\"\n",
    "z = 22.5\n",
    "b = 2+3j\n",
    "print(x, y, z, b)"
   ]
  },
  {
   "cell_type": "code",
   "execution_count": null,
   "id": "962fcde8-8dea-4c57-84b9-8f38627a6d06",
   "metadata": {},
   "outputs": [],
   "source": [
    "# Python Basics: Numbers, Strings, Lists, Tuples, and I/O\n",
    "\n",
    "Welcome! In this notebook, we'll learn some of the most important building blocks of Python:\n",
    "- Numbers (integers, floats)\n",
    "- Strings (text)\n",
    "- Lists and Tuples (sequences)\n",
    "- Checking data types\n",
    "- Input and Output (I/O)\n",
    "\n",
    "Let's get started with some simple examples!\n"
   ]
  },
  {
   "cell_type": "code",
   "execution_count": null,
   "id": "339a4886-06d7-4b5b-a59e-95a172d4a81e",
   "metadata": {},
   "outputs": [],
   "source": [
    "## 1. Numbers and Variables\n",
    "\n",
    "Python can handle different types of numbers:\n",
    "- **Integers**: whole numbers (e.g., 1, -10)\n",
    "- **Floats**: decimal numbers (e.g., 3.14, -0.01)\n",
    "\n",
    "Let's create some variables and see what Python does.\n"
   ]
  },
  {
   "cell_type": "code",
   "execution_count": null,
   "id": "42061f5c-603e-4d68-9ef7-89c0107efce9",
   "metadata": {},
   "outputs": [],
   "source": [
    "# Integer variable\n",
    "my_integer = 42\n",
    "\n",
    "# Float variable\n",
    "my_float = 3.1415\n",
    "\n",
    "print(\"my_integer:\", my_integer)\n",
    "print(\"my_float:\", my_float)\n",
    "print(\"Type of my_integer:\", type(my_integer))\n",
    "print(\"Type of my_float:\", type(my_float))\n"
   ]
  },
  {
   "cell_type": "code",
   "execution_count": null,
   "id": "9b5b27df-e7ef-4a0f-970b-04a546203bfc",
   "metadata": {},
   "outputs": [],
   "source": [
    "## 2. Strings\n",
    "\n",
    "A string is just text—anything inside quotes (single or double).\n",
    "Let's define and print a string.\n"
   ]
  },
  {
   "cell_type": "code",
   "execution_count": null,
   "id": "1291328c-7aed-45d0-8d4f-ac76f3f42d26",
   "metadata": {},
   "outputs": [],
   "source": [
    "my_string = \"Python is fun!\"\n",
    "\n",
    "print(\"my_string:\", my_string)\n",
    "print(\"Type of my_string:\", type(my_string))\n"
   ]
  },
  {
   "cell_type": "code",
   "execution_count": null,
   "id": "cba4d65c-f8d1-4200-b385-5455183adf6b",
   "metadata": {},
   "outputs": [],
   "source": [
    "## 3. Lists\n",
    "\n",
    "A list is an ordered collection of items. Lists can hold different types of data—even other lists!\n",
    "\n",
    "Lists use square brackets: `[item1, item2, ...]`\n"
   ]
  },
  {
   "cell_type": "code",
   "execution_count": null,
   "id": "8282e64d-6927-4724-ab4c-50d1890956ac",
   "metadata": {},
   "outputs": [],
   "source": [
    "## 4. Tuples\n",
    "\n",
    "A tuple is like a list, but *immutable* (it can't be changed after creation).\n",
    "\n",
    "Tuples use parentheses: `(item1, item2, ...)`\n"
   ]
  },
  {
   "cell_type": "code",
   "execution_count": null,
   "id": "553f3670-feb0-4517-9fbe-da7deb21ef80",
   "metadata": {},
   "outputs": [],
   "source": [
    "my_tuple = (10, \"data\", 8.6)\n",
    "print(\"my_tuple:\", my_tuple)\n",
    "print(\"Second item:\", my_tuple[1])\n",
    "print(\"Type of my_tuple:\", type(my_tuple))\n"
   ]
  },
  {
   "cell_type": "code",
   "execution_count": null,
   "id": "9c8f5c8e-88c3-4dbb-9945-eda2de04989e",
   "metadata": {},
   "outputs": [],
   "source": [
    "## 5. Checking Data Types\n",
    "\n",
    "The `type()` function tells you what kind of data a variable contains.\n",
    "Try checking the types of the variables you created above.\n"
   ]
  },
  {
   "cell_type": "code",
   "execution_count": null,
   "id": "9fa03f3b-cd2a-4520-8744-67e5db9c8cfa",
   "metadata": {},
   "outputs": [],
   "source": [
    "# Define all variables first\n",
    "my_integer = 42\n",
    "my_float = 3.14\n",
    "my_string = \"Python is fun!\"\n",
    "my_list = [1, \"hello\", 3.5, [2, 4, 6]]\n",
    "my_tuple = (10, \"data\", 8.6)\n",
    "\n",
    "# Now check the types\n",
    "print(type(my_integer))  # Should show <class 'int'>\n",
    "print(type(my_float))    # Should show <class 'float'>\n",
    "print(type(my_string))   # Should show <class 'str'>\n",
    "print(type(my_list))     # Should show <class 'list'>\n",
    "print(type(my_tuple))    # Should show <class 'tuple'>\n"
   ]
  },
  {
   "cell_type": "code",
   "execution_count": null,
   "id": "24f088a4-c3c9-4c5f-83a4-4dec55a27d98",
   "metadata": {},
   "outputs": [],
   "source": [
    "name = input(\"What's your name? \")\n",
    "favorite_number = float(input(\"Enter your favorite number: \"))\n",
    "\n",
    "print(\"Hello,\", name + \"!\")\n",
    "print(\"Your favorite number squared is:\", favorite_number ** 2)\n"
   ]
  },
  {
   "cell_type": "code",
   "execution_count": null,
   "id": "bbb90db8-4e15-4396-a0b1-5e72da2e9275",
   "metadata": {},
   "outputs": [],
   "source": [
    "## Summary\n",
    "\n",
    "- **Numbers:** Integers and floats store numeric data.\n",
    "- **Strings:** Store text.\n",
    "- **Lists:** Store ordered, mutable sequences.\n",
    "- **Tuples:** Store ordered, immutable sequences.\n",
    "- **type():** Checks a variable's data type.\n",
    "- **print() / input():** For output and input.\n",
    "\n",
    "Try changing the examples and running the cells again. Explore!\n"
   ]
  },
  {
   "cell_type": "code",
   "execution_count": null,
   "id": "afd30225-8af7-4c0b-af79-b4d93651e8cd",
   "metadata": {},
   "outputs": [],
   "source": []
  },
  {
   "cell_type": "code",
   "execution_count": null,
   "id": "8feb5bb9-32c8-47cb-8531-471221eaf8df",
   "metadata": {},
   "outputs": [],
   "source": [
    "# Exercise 1: Basic arithmetic\n",
    "# Problem: Compute the sum, difference, product, and quotient of two numbers: a = 12, b = 4\n",
    "a = 12\n",
    "b = 4\n",
    "print(\"Sum:\", a + b)\n",
    "print(\"Difference:\", a - b)\n",
    "print(\"Product:\", a * b)\n",
    "print(\"Quotient:\", a / b)\n"
   ]
  },
  {
   "cell_type": "code",
   "execution_count": null,
   "id": "b7bb0e49-5ad5-4206-892c-d29166d6a683",
   "metadata": {},
   "outputs": [],
   "source": [
    "# Exercise 2: Modulus and exponent\n",
    "# Problem: Find the remainder when 29 is divided by 5, and compute 3 to the power of 4\n",
    "print(\"29 % 5 =\", 29 % 5)\n",
    "print(\"3 ** 4 =\", 3 ** 4)\n"
   ]
  },
  {
   "cell_type": "code",
   "execution_count": null,
   "id": "726f5be3-2ee4-4d6c-abf3-347beccc6512",
   "metadata": {},
   "outputs": [],
   "source": [
    "# Exercise 3: String concatenation\n",
    "# Problem: Combine the strings \"Hello\" and \"World\" with a space in between\n",
    "greeting = \"Hello\" + \" \" + \"World\"\n",
    "print(greeting)\n"
   ]
  },
  {
   "cell_type": "code",
   "execution_count": null,
   "id": "d4579a40-cfbe-45b5-b7c3-b10ae9e36c5d",
   "metadata": {},
   "outputs": [],
   "source": [
    "# Exercise 4: String repetition\n",
    "# Problem: Repeat the string \"Hi\" three times\n",
    "print(\"Hi\" * 3)\n"
   ]
  },
  {
   "cell_type": "code",
   "execution_count": null,
   "id": "5ceaa0a2-80f3-431e-be96-698e882629bc",
   "metadata": {},
   "outputs": [],
   "source": [
    "# Exercise 5: String indexing\n",
    "# Problem: Print the first and last letters of the word \"Python\"\n",
    "word = \"Python\"\n",
    "print(\"First letter:\", word[0])\n",
    "print(\"Last letter:\", word[-1])\n"
   ]
  },
  {
   "cell_type": "code",
   "execution_count": null,
   "id": "f6aa2834-9574-437e-852e-d2a295437969",
   "metadata": {},
   "outputs": [],
   "source": [
    "# Exercise 6: List concatenation\n",
    "# Problem: Combine the lists [1, 2, 3] and [4, 5, 6]\n",
    "a = [1, 2, 3]\n",
    "b = [4, 5, 6]\n",
    "print(a + b)\n"
   ]
  },
  {
   "cell_type": "code",
   "execution_count": null,
   "id": "33d18404-da7f-4191-b38b-999709639982",
   "metadata": {},
   "outputs": [],
   "source": [
    "# Exercise 7: List repetition\n",
    "# Problem: Repeat the list [0, 1] four times\n",
    "print([0, 1] * 4)\n"
   ]
  },
  {
   "cell_type": "code",
   "execution_count": null,
   "id": "a01244ae-3bb3-4d81-a49d-248b4a2ec1d7",
   "metadata": {},
   "outputs": [],
   "source": [
    "# Exercise 8: List indexing\n",
    "# Problem: Print the second and second-to-last values of the list [10, 20, 30, 40, 50]\n",
    "nums = [10, 20, 30, 40, 50]\n",
    "print(\"Second:\", nums[1])\n",
    "print(\"Second-to-last:\", nums[-2])\n"
   ]
  },
  {
   "cell_type": "code",
   "execution_count": null,
   "id": "34a17ec9-7eb1-41ac-a3c5-9cdb2e8a22bd",
   "metadata": {},
   "outputs": [],
   "source": [
    "# Exercise 9: Mixed math + string\n",
    "# Problem: Display a string message showing total cost (price * quantity)\n",
    "price = 5\n",
    "quantity = 7\n",
    "print(\"Total cost: $\" + str(price * quantity))\n"
   ]
  },
  {
   "cell_type": "code",
   "execution_count": null,
   "id": "422dc4a0-670e-4fd6-931a-4e3df8316463",
   "metadata": {},
   "outputs": [],
   "source": [
    "# Exercise 10: Modify a list\n",
    "# Problem: Replace the first item in ['apple', 'banana', 'cherry'] with 'orange'\n",
    "fruits = ['apple', 'banana', 'cherry']\n",
    "fruits[0] = 'orange'\n",
    "print(fruits)\n"
   ]
  },
  {
   "cell_type": "code",
   "execution_count": null,
   "id": "865d674c-299a-4666-8b77-99d7fc4358d6",
   "metadata": {},
   "outputs": [],
   "source": []
  },
  {
   "cell_type": "markdown",
   "id": "47861563-51de-43f3-9177-8391f71411f9",
   "metadata": {},
   "source": [
    "Dell Python Refresh Class Problems - 30.07.25\n"
   ]
  },
  {
   "cell_type": "code",
   "execution_count": null,
   "id": "44186d01-e9fc-43a4-9872-cb4270b21485",
   "metadata": {},
   "outputs": [],
   "source": [
    "# 8. Class Inheritance Example\n",
    "class Shape: pass\n",
    "class Circle(Shape):\n",
    "    def __init__(self, r): self.r = r\n",
    "    def area(self): return 3.14 * self.r ** 2\n",
    "print(Circle(2).area())\n"
   ]
  },
  {
   "cell_type": "code",
   "execution_count": null,
   "id": "a9d17fbd-ef61-4541-88f0-11154b513109",
   "metadata": {},
   "outputs": [],
   "source": [
    "# 10. Simple Calculator\n",
    "def calc(a, b, op):\n",
    "    if op == '+': return a+b\n",
    "    elif op == '-': return a-b\n",
    "    elif op == '*': return a*b\n",
    "    elif op == '/': return a/b\n",
    "print(calc(10, 2, '*'))\n"
   ]
  },
  {
   "cell_type": "code",
   "execution_count": null,
   "id": "d62eb17b-6b4f-47dd-8e32-fccf952541db",
   "metadata": {},
   "outputs": [],
   "source": [
    "print(\"List creation with unpacking:\")\n",
    "list1 = [1, 2, 3]\n",
    "list2 = [4, 5, 6]\n",
    "combined = [*list1, *list2]  # Unpacks both lists\n",
    "print(f\"list1 = {list1}\")\n",
    "print(f\"list2 = {list2}\")\n",
    "print(f\"combined = [*list1, *list2] = {combined}\")\n",
    "print()"
   ]
  },
  {
   "cell_type": "code",
   "execution_count": null,
   "id": "a64eb8df-b688-4dbf-8abc-faf99bb66222",
   "metadata": {},
   "outputs": [],
   "source": [
    "# 13. Zip and Unzip Lists\n",
    "a, b = [1,2,3], ['a','b','c']\n",
    "zipped = list(zip(a, b))\n",
    "print(zipped)\n",
    "a2, b2 = zip(*zipped)\n",
    "print(list(a2), list(b2))\n"
   ]
  },
  {
   "cell_type": "code",
   "execution_count": null,
   "id": "ceabfef2-adba-4611-ae69-59a2bc1c0bf9",
   "metadata": {},
   "outputs": [],
   "source": [
    "# 14. Argument Unpacking\n",
    "def summer(*args): return sum(args)\n",
    "print(summer(1,2,3,4))\n"
   ]
  },
  {
   "cell_type": "code",
   "execution_count": null,
   "id": "c327a232-e95b-40ad-a3cd-f711e0d84fbd",
   "metadata": {},
   "outputs": [],
   "source": [
    "# 9. Function Argument Unpacking\n",
    "def show(x, y, z): print(x, y, z)\n",
    "lst = [1, 2, 3]\n",
    "show(*lst)  # Unpacks lst into arguments\n"
   ]
  },
  {
   "cell_type": "code",
   "execution_count": null,
   "id": "215428b5-8be0-492b-a89d-bd85bd307fe9",
   "metadata": {},
   "outputs": [],
   "source": [
    "# 14. Extract Numbers from String\n",
    "import re\n",
    "s = 'ID99 Age34 Weight-8'\n",
    "print(re.findall(r'-?\\d+', s))  # ['99', '34', '-8']\n"
   ]
  },
  {
   "cell_type": "code",
   "execution_count": null,
   "id": "d104a893-be12-44ae-907a-82a491942be9",
   "metadata": {},
   "outputs": [],
   "source": [
    "# 15. OOP: Inventory Item Class\n",
    "class Item:\n",
    "    def __init__(self, name, qty): self.name, self.qty = name, qty\n",
    "    def update(self, change): self.qty += change\n",
    "    def display(self): print(f\"{self.name}: {self.qty}\")\n",
    "x = Item(\"Pencil\", 10); x.update(-2); x.display()\n"
   ]
  },
  {
   "cell_type": "code",
   "execution_count": null,
   "id": "07427b9b-d4f1-4738-8808-acbfc6a62efe",
   "metadata": {},
   "outputs": [],
   "source": [
    "class GradeBook:\n",
    "    def __init__(self):\n",
    "        self.grades = {}  # {name: [grades]}\n",
    "    def add(self, name, grade):\n",
    "        self.grades.setdefault(name, []).append(grade)\n",
    "    def average(self):\n",
    "        return round(sum(g for grades in self.grades.values() for g in grades) /\n",
    "                     (sum(len(grades) for grades in self.grades.values())), 2)\n",
    "    def report(self):\n",
    "        for name, grades in self.grades.items():\n",
    "            avg = sum(grades) / len(grades)\n",
    "            print(f\"{name}: {grades} (Avg: {avg:.2f})\")\n",
    "        print(f\"Class Average: {self.average()}\")\n",
    "\n",
    "gb = GradeBook()\n",
    "gb.add(\"Ada\", 92)\n",
    "gb.add(\"Ada\", 100)\n",
    "gb.add(\"Alan\", 85)\n",
    "gb.add(\"Alan\", 80)\n",
    "gb.report()\n"
   ]
  },
  {
   "cell_type": "code",
   "execution_count": null,
   "id": "3aeb1b77-e471-4ccb-9ad7-390b53068018",
   "metadata": {},
   "outputs": [],
   "source": [
    "class Password:\n",
    "    def __init__(self, pwd):\n",
    "        self.pwd = pwd\n",
    "    def check_strength(self):\n",
    "        l, u, d, s = 0, 0, 0, 0\n",
    "        for c in self.pwd:\n",
    "            if c.islower(): l += 1\n",
    "            elif c.isupper(): u += 1\n",
    "            elif c.isdigit(): d += 1\n",
    "            elif c in '!@#$%^&*()': s += 1\n",
    "        return (len(self.pwd) >= 8 and l and u and d and s)\n",
    "    \n",
    "p = Password(\"MySafe123!\")\n",
    "print(p.check_strength())\n"
   ]
  },
  {
   "cell_type": "code",
   "execution_count": null,
   "id": "9a1d1711-1647-461a-935b-78a4b4f255a4",
   "metadata": {},
   "outputs": [],
   "source": [
    "class ContactBook:\n",
    "    def __init__(self):\n",
    "        self.contacts = []\n",
    "    def add(self, name, phone):\n",
    "        self.contacts.append((name, phone))\n",
    "    def search(self, text):\n",
    "        return [c for c in self.contacts if text.lower() in c[0].lower()]\n",
    "\n",
    "book = ContactBook()\n",
    "book.add(\"Alice\", \"123\")\n",
    "book.add(\"Bob\", \"456\")\n",
    "print(book.search('ali'), book.search('b'))\n"
   ]
  },
  {
   "cell_type": "code",
   "execution_count": null,
   "id": "172eb2f3-f48d-465f-b22e-ca0b4dcf17dc",
   "metadata": {},
   "outputs": [],
   "source": [
    "def solve_quadratic(a, b, c):\n",
    "    disc = b**2 - 4*a*c\n",
    "    if disc < 0:\n",
    "        raise ValueError(\"Complex roots\")\n",
    "    from math import sqrt\n",
    "    r1 = (-b + sqrt(disc)) / (2*a)\n",
    "    r2 = (-b - sqrt(disc)) / (2*a)\n",
    "    return r1, r2\n",
    "\n",
    "print(solve_quadratic(1, -3, 2))  # (2.0, 1.0)\n",
    "try: solve_quadratic(1, 2, 5)\n",
    "except ValueError as e: print(e)\n"
   ]
  },
  {
   "cell_type": "code",
   "execution_count": null,
   "id": "c1b4f243-0be5-4bc7-950f-cca8bef57045",
   "metadata": {},
   "outputs": [],
   "source": [
    "class BankAccount:\n",
    "    def __init__(self, owner, balance=0, overdraft=0):\n",
    "        self.owner = owner\n",
    "        self.balance = balance\n",
    "        self.overdraft = overdraft\n",
    "        self.tx = []\n",
    "    def deposit(self, amt):\n",
    "        self.balance += amt\n",
    "        self.tx.append(('deposit', amt))\n",
    "    def withdraw(self, amt):\n",
    "        if self.balance - amt < -self.overdraft:\n",
    "            raise ValueError(\"Overdraft limit exceeded\")\n",
    "        self.balance -= amt\n",
    "        self.tx.append(('withdraw', amt))\n",
    "    def history(self):\n",
    "        print(f\"Transactions for {self.owner}:\")\n",
    "        for t, amt in self.tx: print(f\"  {t}: {amt}\")\n",
    "        print(f\"Balance: {self.balance}\")\n",
    "\n",
    "acct = BankAccount(\"Nick\", 100, 50)\n",
    "acct.deposit(30)\n",
    "acct.withdraw(120)\n",
    "try: acct.withdraw(80)\n",
    "except ValueError as e: print(e)\n",
    "acct.history()\n"
   ]
  },
  {
   "cell_type": "code",
   "execution_count": null,
   "id": "3e40e019-aea3-43a5-b339-675be2dc69f1",
   "metadata": {},
   "outputs": [],
   "source": []
  },
  {
   "cell_type": "markdown",
   "id": "11120d13-f0ab-4e08-844d-aded42fec835",
   "metadata": {},
   "source": [
    "Python pdb > Expression Evaluation with p command"
   ]
  },
  {
   "cell_type": "code",
   "execution_count": null,
   "id": "50e8da59-7855-413d-8d4b-c79a6ab4a879",
   "metadata": {},
   "outputs": [],
   "source": [
    "\"\"\"\n",
    "PDB Expression Evaluation Example\n",
    "Demonstrates evaluating expressions during debugging\n",
    "\"\"\"\n",
    "import pdb\n",
    "\n",
    "def shopping_cart():\n",
    "    \"\"\"Simple shopping cart with price calculations\"\"\"\n",
    "    items = ['apple', 'banana', 'orange']\n",
    "    prices = [1.50, 0.75, 2.00]\n",
    "    quantities = [3, 6, 2]\n",
    "    \n",
    "    pdb.set_trace()  # Debug point\n",
    "    \n",
    "    cart_total = 0\n",
    "    for i in range(len(items)):\n",
    "        item_total = prices[i] * quantities[i]\n",
    "        cart_total += item_total\n",
    "        print(f\"{items[i]}: ${item_total:.2f}\")\n",
    "    \n",
    "    tax = cart_total * 0.08\n",
    "    final_total = cart_total + tax\n",
    "    print(f\"Final total: ${final_total:.2f}\")\n",
    "\n",
    "shopping_cart()\n",
    "\n",
    "\"\"\"\n",
    "Try these expression evaluations at the debugger:\n",
    "(Pdb) p len(items)                    # Length of items list\n",
    "(Pdb) p prices[0] * quantities[0]     # Calculate first item total\n",
    "(Pdb) p sum(prices)                   # Sum of all prices\n",
    "(Pdb) p [p * q for p, q in zip(prices, quantities)]  # List comprehension\n",
    "(Pdb) p cart_total * 0.08             # Calculate tax\n",
    "(Pdb) p f\"Item: {items[i]}\"           # String formatting\n",
    "\"\"\""
   ]
  },
  {
   "cell_type": "markdown",
   "id": "e81f3f14-84a8-45d5-8386-bf9d884f95da",
   "metadata": {},
   "source": [
    "Python > Breakpoints and Continue Execution"
   ]
  },
  {
   "cell_type": "code",
   "execution_count": null,
   "id": "c6505b27-e71e-44fe-92ee-21625bcf2cbd",
   "metadata": {},
   "outputs": [],
   "source": [
    "\"\"\"\n",
    "PDB Breakpoints and Continue Example\n",
    "Shows setting breakpoints and controlling execution\n",
    "\"\"\"\n",
    "import pdb\n",
    "\n",
    "def process_numbers():\n",
    "    \"\"\"Process a list of numbers with multiple debug points\"\"\"\n",
    "    numbers = [1, 2, 3, 4, 5, 6, 7, 8, 9, 10]\n",
    "    even_numbers = []\n",
    "    odd_numbers = []\n",
    "    \n",
    "    print(\"Starting number processing...\")\n",
    "    pdb.set_trace()  # First breakpoint\n",
    "    \n",
    "    for num in numbers:\n",
    "        if num % 2 == 0:\n",
    "            even_numbers.append(num)\n",
    "            print(f\"Found even number: {num}\")\n",
    "        else:\n",
    "            odd_numbers.append(num)\n",
    "            print(f\"Found odd number: {num}\")\n",
    "        \n",
    "        # Conditional breakpoint - only stop on number 5\n",
    "        if num == 5:\n",
    "            print(\"Reached the middle number!\")\n",
    "            pdb.set_trace()  # Second breakpoint\n",
    "    \n",
    "    print(f\"Even numbers: {even_numbers}\")\n",
    "    print(f\"Odd numbers: {odd_numbers}\")\n",
    "    return even_numbers, odd_numbers\n",
    "\n",
    "process_numbers()\n",
    "\n",
    "\"\"\"\n",
    "Debugging commands to try:\n",
    "(Pdb) p num                    # Print current number\n",
    "(Pdb) p even_numbers           # Print even numbers so far\n",
    "(Pdb) b 25                     # Set breakpoint at line 25\n",
    "(Pdb) c                        # Continue to next breakpoint\n",
    "(Pdb) p len(even_numbers)      # Check how many evens found\n",
    "(Pdb) n                        # Next line (step over)\n",
    "(Pdb) l                        # List current code area\n",
    "\"\"\""
   ]
  },
  {
   "cell_type": "markdown",
   "id": "d0fca7b2-d21b-4ab1-a65a-d06ac52de4fa",
   "metadata": {},
   "source": [
    "Python pdb > Pretty Printing with pp command"
   ]
  },
  {
   "cell_type": "code",
   "execution_count": null,
   "id": "45320196-fb39-4c8f-a6c0-424890291c1c",
   "metadata": {},
   "outputs": [],
   "source": [
    "\n",
    "\"\"\"\n",
    "PDB Pretty Printing Example\n",
    "Shows the difference between p and pp commands\n",
    "\"\"\"\n",
    "import pdb\n",
    "\n",
    "def analyze_data():\n",
    "    \"\"\"Analyze nested data structures\"\"\"\n",
    "    student_data = {\n",
    "        'Alice': {'scores': [85, 92, 78, 96], 'age': 20, 'major': 'CS'},\n",
    "        'Bob': {'scores': [76, 82, 85, 79], 'age': 19, 'major': 'Math'},\n",
    "        'Carol': {'scores': [94, 89, 97, 92], 'age': 21, 'major': 'Physics'}\n",
    "    }\n",
    "    \n",
    "    complex_list = [\n",
    "        [1, 2, 3], [4, 5, 6], [7, 8, 9],\n",
    "        {'name': 'test', 'values': [10, 20, 30]}\n",
    "    ]+\n",
    "    \n",
    "    pdb.set_trace()  # Debug point\n",
    "    \n",
    "    # Process the data\n",
    "    for name, info in student_data.items():\n",
    "        average = sum(info['scores']) / len(info['scores'])\n",
    "        print(f\"{name}: {average:.1f}\")\n",
    "\n",
    "analyze_data()\n",
    "\n",
    "\"\"\"\n",
    "Compare these commands at the debugger:\n",
    "(Pdb) p student_data           # Regular print (one line)\n",
    "(Pdb) pp student_data          # Pretty print (formatted)\n",
    "\n",
    "(Pdb) p complex_list           # Regular print\n",
    "(Pdb) pp complex_list          # Pretty print\n",
    "\n",
    "(Pdb) p student_data['Alice']  # Print one student\n",
    "(Pdb) pp student_data['Alice'] # Pretty print one student\n",
    "\n",
    "(Pdb) p list(student_data.keys())     # Print keys as list\n",
    "(Pdb) pp {k: v['age'] for k, v in student_data.items()}  # Ages only\n",
    "\"\"\""
   ]
  },
  {
   "cell_type": "markdown",
   "id": "0bd3d8f7-b930-4613-b3cb-134a18311c0e",
   "metadata": {},
   "source": [
    "## Essential PDB Commands\n",
    "p variable_name - Print any variable\n",
    "p expression - Evaluate and print expressions\n",
    "pp complex_data - Pretty print nested structures\n",
    "b line_number - Set breakpoint at line\n",
    "c - Continue execution\n",
    "n - Next line\n",
    "l - List current code\n",
    "q - Quit debugger"
   ]
  },
  {
   "cell_type": "markdown",
   "id": "3d9586af-3138-4fe8-9f2c-7426369b5cc0",
   "metadata": {},
   "source": [
    "Basic thread creation - Using threading.Thread(target=function, args=tuple)\n",
    "Starting threads - Using .start() method\n",
    "Waiting for completion - Using .join() method\n",
    "Concurrent execution - Multiple threads running simultaneously\n",
    "\n",
    "What you'll see when you run it:\n",
    "\n",
    "First: A single thread runs and completes\n",
    "Then: Three threads start simultaneously but finish at different times based on their work duration\n",
    "Alice (1 sec) finishes first, Charlie (2 sec) second, Bob (3 sec) last"
   ]
  },
  {
   "cell_type": "code",
   "execution_count": null,
   "id": "72b51439-e89a-40bb-90cb-0c59796dd3cd",
   "metadata": {},
   "outputs": [],
   "source": [
    "import threading\n",
    "import time\n",
    "\n",
    "# Exercise: Create a simple threading example\n",
    "\n",
    "def worker_task(worker_name, work_time):\n",
    "    \"\"\"\n",
    "    A simple task that simulates work by sleeping\n",
    "    \"\"\"\n",
    "    print(f\"{worker_name} starting work...\")\n",
    "    time.sleep(work_time)  # Simulate work by sleeping\n",
    "    print(f\"{worker_name} finished work after {work_time} seconds!\")\n",
    "\n",
    "def main():\n",
    "    print(\"=== SIMPLE THREADING EXERCISE ===\\n\")\n",
    "    \n",
    "    # Step 1: Create and start a single thread\n",
    "    print(\"1. Creating a single thread:\")\n",
    "    thread1 = threading.Thread(target=worker_task, args=(\"Worker-1\", 2))\n",
    "    thread1.start()  # Start the thread\n",
    "    thread1.join()   # Wait for it to complete\n",
    "    print(\"Single thread completed!\\n\")\n",
    "    \n",
    "    # Step 2: Create multiple threads that run concurrently\n",
    "    print(\"2. Creating multiple concurrent threads:\")\n",
    "    \n",
    "    # Create a list to store our threads\n",
    "    threads = []\n",
    "    \n",
    "    # Create 3 threads with different work times\n",
    "    workers = [\n",
    "        (\"Alice\", 1),\n",
    "        (\"Bob\", 3), \n",
    "        (\"Charlie\", 2)\n",
    "    ]\n",
    "    \n",
    "    # Create and start all threads\n",
    "    for name, work_time in workers:\n",
    "        thread = threading.Thread(target=worker_task, args=(name, work_time))\n",
    "        threads.append(thread)\n",
    "        thread.start()\n",
    "        print(f\"Started thread for {name}\")\n",
    "    \n",
    "    print(\"\\nAll threads started! Waiting for completion...\\n\")\n",
    "    \n",
    "    # Wait for all threads to complete\n",
    "    for thread in threads:\n",
    "        thread.join()\n",
    "    \n",
    "    print(\"\\n=== ALL THREADS COMPLETED ===\")\n",
    "    print(\"Notice how they ran concurrently - Bob (3 sec) didn't block Alice (1 sec)!\")\n",
    "\n",
    "# TODO: Your turn! Try these modifications:\n",
    "# 1. Add a 4th worker with a different work time\n",
    "# 2. Create a function that prints numbers 1-5 with 0.5 sec delays\n",
    "# 3. Run that function in 2 separate threads simultaneously\n",
    "\n",
    "if __name__ == \"__main__\":\n",
    "    main()"
   ]
  },
  {
   "cell_type": "markdown",
   "id": "5fe28d4f-bef9-4777-865b-d8bf26622dad",
   "metadata": {},
   "source": [
    "Problem 1: Parallel Text File Reader\n",
    "Statement:\n",
    "Write a program that starts 3 threads; each should read a different text file and print the number of lines in its file.\n",
    "\n",
    "Hints:\n",
    "\n",
    "Use the threading.Thread class.\n",
    "\n",
    "Pass the filename as an argument.\n",
    "\n",
    "Read each file and print the count from within the thread function."
   ]
  },
  {
   "cell_type": "code",
   "execution_count": null,
   "id": "5a897ffa-e8b4-4dda-8720-afea11083cb1",
   "metadata": {},
   "outputs": [],
   "source": [
    "\n",
    "import threading\n",
    "\n",
    "def count_lines(filename):\n",
    "    try:\n",
    "        with open(filename, 'r') as f:\n",
    "            lines = f.readlines()\n",
    "        print(f\"{filename}: {len(lines)} lines\")\n",
    "    except FileNotFoundError:\n",
    "        print(f\"Error: {filename} not found\")\n",
    "    except Exception as e:\n",
    "        print(f\"Error reading {filename}: {e}\")\n",
    "\n",
    "files = [\"file1.txt\", \"file2.txt\", \"file3.txt\"]\n",
    "threads = []\n",
    "\n",
    "for fname in files:\n",
    "    t = threading.Thread(target=count_lines, args=(fname,))\n",
    "    threads.append(t)\n",
    "    t.start()\n",
    "\n",
    "for t in threads:\n",
    "    t.join()"
   ]
  },
  {
   "cell_type": "markdown",
   "id": "4c8a04fc-2742-4c99-a8f2-32b0220dd937",
   "metadata": {},
   "source": [
    "Problem 2: Thread-Safe Counter\n",
    "Statement:\n",
    "Create 10 threads. Each thread should increment a shared counter 1,000 times. Print the final value. Is it always as expected?\n",
    "\n",
    "Hints:\n",
    "\n",
    "Start by writing it without synchronization.\n",
    "\n",
    "Run several times—observe the result.\n",
    "\n",
    "Then add a threading.Lock to protect the increment operation."
   ]
  },
  {
   "cell_type": "code",
   "execution_count": null,
   "id": "142b1342-ee92-46ca-9e01-41fb49a3703b",
   "metadata": {},
   "outputs": [],
   "source": [
    "\n",
    "import threading\n",
    "\n",
    "# Demonstration of thread safety issues and solutions\n",
    "\n",
    "# Part 1: Unsafe threading (race condition)\n",
    "print(\"=== UNSAFE THREADING DEMO ===\")\n",
    "counter = 0\n",
    "\n",
    "def increment():\n",
    "    global counter\n",
    "    for _ in range(1000):\n",
    "        counter += 1  # Not thread-safe!\n",
    "\n",
    "# Create and run 10 threads\n",
    "threads = [threading.Thread(target=increment) for _ in range(10)]\n",
    "\n",
    "for t in threads:\n",
    "    t.start()\n",
    "\n",
    "for t in threads:\n",
    "    t.join()\n",
    "\n",
    "print(f\"Counter without lock: {counter}\")\n",
    "print(f\"Expected: 10000, Actual: {counter}\")\n",
    "print(f\"Race condition caused {10000 - counter} lost increments\\n\")\n",
    "\n",
    "# Part 2: Thread-safe version with lock\n",
    "print(\"=== THREAD-SAFE VERSION ===\")\n",
    "counter = 0\n",
    "lock = threading.Lock()\n",
    "\n",
    "def safe_increment():\n",
    "    global counter\n",
    "    for _ in range(1000):\n",
    "        with lock:\n",
    "            counter += 1  # Thread-safe with lock\n",
    "\n",
    "# Create and run 10 threads with synchronization\n",
    "threads = [threading.Thread(target=safe_increment) for _ in range(10)]\n",
    "\n",
    "for t in threads:\n",
    "    t.start()\n",
    "\n",
    "for t in threads:\n",
    "    t.join()\n",
    "\n",
    "print(f\"Counter with lock: {counter}\")\n",
    "print(f\"Expected: 10000, Actual: {counter}\")\n",
    "print(\"All increments preserved with proper synchronization!\")"
   ]
  },
  {
   "cell_type": "markdown",
   "id": "60552ed7-5841-4f25-936d-d3b5bf2a1a4a",
   "metadata": {},
   "source": [
    "Problem 3: Threaded Timer\n",
    "Statement:\n",
    "Write three threads that each count down from a start number to zero, pausing 0.5 seconds between counts. All threads should print their countdown in parallel. E.g., Thread 1: 3, 2, 1, 0.\n",
    "\n",
    "Hints:\n",
    "\n",
    "Use the time.sleep() function.\n",
    "\n",
    "Assign each thread a different starting value.\n",
    "\n",
    "Don't use any locks—printing is thread-safe, but observe the jumbled output.\n"
   ]
  },
  {
   "cell_type": "code",
   "execution_count": null,
   "id": "85d7f287-86e7-42c1-8451-a469074364b9",
   "metadata": {},
   "outputs": [],
   "source": [
    "import threading\n",
    "import time\n",
    "\n",
    "# Lock for synchronized printing\n",
    "print_lock = threading.Lock()\n",
    "\n",
    "def countdown(n, thread_id):\n",
    "    for i in range(n, -1, -1):\n",
    "        with print_lock:  # Synchronize print statements\n",
    "            print(f\"Thread {thread_id}: {i}\")\n",
    "        time.sleep(0.5)\n",
    "    \n",
    "    with print_lock:\n",
    "        print(f\"Thread {thread_id}: FINISHED!\")\n",
    "\n",
    "print(\"=== CONCURRENT COUNTDOWN DEMO ===\")\n",
    "print(\"Starting countdowns from different numbers...\\n\")\n",
    "\n",
    "starts = [3, 5, 7]\n",
    "threads = []\n",
    "\n",
    "# Create and start all threads\n",
    "for idx, start in enumerate(starts, 1):\n",
    "    t = threading.Thread(target=countdown, args=(start, idx))\n",
    "    threads.append(t)\n",
    "    t.start()\n",
    "\n",
    "# Wait for all threads to complete\n",
    "for t in threads:\n",
    "    t.join()\n",
    "\n",
    "print(\"\\n=== ALL COUNTDOWNS COMPLETED ===\")\n",
    "print(\"Notice how the threads ran concurrently!\")"
   ]
  },
  {
   "cell_type": "markdown",
   "id": "3d3d770e-3395-4b20-b78c-74d93a38fa1a",
   "metadata": {},
   "source": [
    "Python OOP Examples"
   ]
  },
  {
   "cell_type": "markdown",
   "id": "13e466c2-8dfa-442a-8e32-5389bbd91d54",
   "metadata": {},
   "source": [
    "Class: A template for creating objects (Person).\n",
    "\n",
    "Object: A specific instance made from the class (p1, p2).\n",
    "\n",
    "Initialization: __init__ method sets starting values.\n",
    "\n",
    "Attributes: Data stored in each object (name, age).\n",
    "\n",
    "Method: A function defined in a class that works on that class's objects "
   ]
  },
  {
   "cell_type": "code",
   "execution_count": null,
   "id": "7489b481-7ab8-4431-a539-944a3c5994ed",
   "metadata": {},
   "outputs": [],
   "source": [
    "# Define a simple class\n",
    "class Person:\n",
    "    def __init__(self, name, age):\n",
    "        self.name = name      # Instance attribute\n",
    "        self.age = age\n",
    "\n",
    "    def greet(self):\n",
    "        print(f\"Hello, my name is {self.name} and I'm {self.age} years old.\")\n",
    "\n",
    "# Create objects (instances) from the class\n",
    "p1 = Person(\"Alice\", 30)\n",
    "p2 = Person(\"Bob\", 24)\n",
    "\n",
    "# Call methods on the objects\n",
    "p1.greet()    # Output: Hello, my name is Alice and I'm 30 years old.\n",
    "p2.greet()    # Output: Hello, my name is Bob and I'm 24 years old.\n"
   ]
  },
  {
   "cell_type": "markdown",
   "id": "88ed25f6-4629-478a-a3f5-03413442ee72",
   "metadata": {},
   "source": [
    "NumPy Demo: Fast Array Math & Broadcasting\n",
    "Creation and basic math with large arrays.\n",
    "\n",
    "Super-fast statistics.\n",
    "\n",
    "Vectorized (no loop needed!) math operations.\n",
    "\n",
    "Array slicing and “broadcasting” (different shapes can often be added!)."
   ]
  },
  {
   "cell_type": "code",
   "execution_count": null,
   "id": "807dacdb-a0ad-4fb3-b2fa-df04b19d324e",
   "metadata": {},
   "outputs": [],
   "source": [
    "import numpy as np\n",
    "\n",
    "# Create an array of 10,000 random numbers\n",
    "data = np.random.randn(10000)\n",
    "\n",
    "# Compute mean and standard deviation instantly\n",
    "mean = np.mean(data)\n",
    "std = np.std(data)\n",
    "print(f\"Mean: {mean:.3f}  Std: {std:.3f}\")\n",
    "\n",
    "# Try vectorized math: add 10 to every number, then square them\n",
    "result = (data + 10) ** 2\n",
    "\n",
    "# Take every 1000th element\n",
    "print(\"Sampled:\", result[::1000])\n",
    "\n",
    "# Show powerful \"broadcasting\"\n",
    "matrix = np.arange(9).reshape(3, 3)\n",
    "print(\"Original matrix:\\n\", matrix)\n",
    "print(\"Add row-wise [1,2,3]:\\n\", matrix + np.array([1, 2, 3]))\n"
   ]
  },
  {
   "cell_type": "markdown",
   "id": "1a42b121-ba18-40ff-96d1-013bdf5389d2",
   "metadata": {},
   "source": [
    "Pandas Demo: Spreadsheet Power in PythonCreating and viewing DataFrames (like an Excel sheet).\n",
    "\n",
    "Column operations and easy statistics.\n",
    "\n",
    "Fast filtering based on conditions.\n",
    "\n",
    "Adding columns and boolean logic.\n",
    "\n",
    "Quick grouping and aggregation."
   ]
  },
  {
   "cell_type": "code",
   "execution_count": null,
   "id": "0413b465-f59f-42eb-b9ce-bd205a3e383a",
   "metadata": {},
   "outputs": [],
   "source": [
    "import pandas as pd\n",
    "\n",
    "# Create sample data\n",
    "data = {\n",
    "    'Name': ['Alice', 'Bob', 'Charlie', 'Diana'],\n",
    "    'Age': [25, 32, 18, 29],\n",
    "    'Score': [88, 92, 79, 95]\n",
    "}\n",
    "\n",
    "# Create a DataFrame\n",
    "df = pd.DataFrame(data)\n",
    "\n",
    "# View the table\n",
    "print(\"Full DataFrame:\\n\", df)\n",
    "\n",
    "# Access a column, calculate mean:\n",
    "print(\"Average Age:\", df['Age'].mean())\n",
    "\n",
    "# Filter: Who scored over 90?\n",
    "print(\"High Scorers:\\n\", df[df['Score'] > 90])\n",
    "\n",
    "# Add a new computed column\n",
    "df['Passed'] = df['Score'] >= 90\n",
    "print(\"With 'Passed' column:\\n\", df)\n",
    "\n",
    "# Group by 'Passed' and show average score\n",
    "print(\"Average Score by Passing Status:\\n\", df.groupby('Passed')['Score'].mean())\n",
    "\n"
   ]
  },
  {
   "cell_type": "code",
   "execution_count": null,
   "id": "3a46e8d2-d164-41e4-9fd7-9a28d5b3fbad",
   "metadata": {},
   "outputs": [],
   "source": []
  }
 ],
 "metadata": {
  "kernelspec": {
   "display_name": "Python 3 (ipykernel)",
   "language": "python",
   "name": "python3"
  },
  "language_info": {
   "codemirror_mode": {
    "name": "ipython",
    "version": 3
   },
   "file_extension": ".py",
   "mimetype": "text/x-python",
   "name": "python",
   "nbconvert_exporter": "python",
   "pygments_lexer": "ipython3",
   "version": "3.12.7"
  }
 },
 "nbformat": 4,
 "nbformat_minor": 5
}
