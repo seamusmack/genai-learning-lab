{
 "cells": [
  {
   "cell_type": "code",
   "execution_count": 1,
   "id": "17e3d28e",
   "metadata": {},
   "outputs": [],
   "source": [
    "## Imports\n",
    "\n",
    "# Core imports\n",
    "import os\n",
    "import json\n",
    "from typing import List, Optional, Dict, Any\n",
    "from enum import Enum\n",
    "\n",
    "# Pydantic imports\n",
    "from pydantic import BaseModel, Field, validator\n",
    "\n",
    "# LangChain imports\n",
    "from langchain.prompts import PromptTemplate\n",
    "from langchain.output_parsers import PydanticOutputParser, OutputFixingParser\n",
    "from langchain.output_parsers import StructuredOutputParser, ResponseSchema\n",
    "from langchain.output_parsers import CommaSeparatedListOutputParser\n",
    "from langchain.output_parsers import DatetimeOutputParser\n",
    "from langchain.output_parsers import EnumOutputParser\n",
    "from langchain_openai import ChatOpenAI\n",
    "from langchain.schema import OutputParserException\n",
    "\n",
    "# Optional imports for enhanced functionality\n",
    "from datetime import datetime\n",
    "import warnings\n",
    "warnings.filterwarnings('ignore')"
   ]
  },
  {
   "cell_type": "code",
   "execution_count": null,
   "id": "18c4feb2",
   "metadata": {},
   "outputs": [],
   "source": [
    "## Setup\n",
    "\n",
    "# Set your OpenAI API key\n",
    "os.environ[\"OPENAI_API_KEY\"] = \" \"\n",
    "\n",
    "# Initialize LLM\n",
    "llm = ChatOpenAI(temperature=0, model=\"gpt-3.5-turbo\")\n",
    "\n"
   ]
  },
  {
   "cell_type": "code",
   "execution_count": 3,
   "id": "13c33d6a",
   "metadata": {},
   "outputs": [],
   "source": [
    "## Demo 1: Pydantic Output Parser\n",
    "\n",
    "# Define Pydantic model for structured output\n",
    "class PersonInfo(BaseModel):\n",
    "    name: str = Field(description=\"person's full name\")\n",
    "    age: int = Field(description=\"person's age in years\")\n",
    "    occupation: str = Field(description=\"person's job or profession\")\n",
    "    skills: List[str] = Field(description=\"list of key skills\")\n",
    "    \n",
    "    # Optional validator\n",
    "    @validator('age')\n",
    "    def age_must_be_positive(cls, v):\n",
    "        if v <= 0:\n",
    "            raise ValueError('Age must be positive')\n",
    "        return v\n",
    "\n",
    "# Create parser\n",
    "parser = PydanticOutputParser(pydantic_object=PersonInfo)\n",
    "\n",
    "# Create prompt with format instructions\n",
    "prompt = PromptTemplate(\n",
    "    template=\"Extract information about the following person:\\n{query}\\n{format_instructions}\",\n",
    "    input_variables=[\"query\"],\n",
    "    partial_variables={\"format_instructions\": parser.get_format_instructions()}\n",
    ")"
   ]
  },
  {
   "cell_type": "code",
   "execution_count": 4,
   "id": "3835cb8f",
   "metadata": {},
   "outputs": [
    {
     "name": "stdout",
     "output_type": "stream",
     "text": [
      "Name: John Smith\n",
      "Age: 35\n",
      "Occupation: Software Engineer\n",
      "Skills: ['Python', 'Docker', 'AWS']\n"
     ]
    }
   ],
   "source": [
    "# Example usage\n",
    "def parse_person_info(text):\n",
    "    formatted_prompt = prompt.format_prompt(query=text)\n",
    "    output = llm.predict(formatted_prompt.to_string())\n",
    "    \n",
    "    try:\n",
    "        parsed = parser.parse(output)\n",
    "        return parsed\n",
    "    except OutputParserException as e:\n",
    "        print(f\"Parsing error: {e}\")\n",
    "        # Use OutputFixingParser as fallback\n",
    "        fix_parser = OutputFixingParser.from_llm(parser=parser, llm=llm)\n",
    "        parsed = fix_parser.parse(output)\n",
    "        return parsed\n",
    "\n",
    "# Test\n",
    "text = \"John Smith is a 35-year-old software engineer skilled in Python, Docker, and AWS\"\n",
    "result = parse_person_info(text)\n",
    "print(f\"Name: {result.name}\")\n",
    "print(f\"Age: {result.age}\")\n",
    "print(f\"Occupation: {result.occupation}\")\n",
    "print(f\"Skills: {result.skills}\")"
   ]
  },
  {
   "cell_type": "code",
   "execution_count": 5,
   "id": "be94b85e",
   "metadata": {},
   "outputs": [
    {
     "name": "stdout",
     "output_type": "stream",
     "text": [
      "Languages: ['Java', 'Python', 'C++', 'JavaScript', 'Ruby']\n"
     ]
    }
   ],
   "source": [
    "## Demo 2: List Output Parser\n",
    "\n",
    "# Simple comma-separated list parser\n",
    "list_parser = CommaSeparatedListOutputParser()\n",
    "\n",
    "list_prompt = PromptTemplate(\n",
    "    template=\"List 5 {category}:\\n{format_instructions}\",\n",
    "    input_variables=[\"category\"],\n",
    "    partial_variables={\"format_instructions\": list_parser.get_format_instructions()}\n",
    ")\n",
    "\n",
    "def get_list(category):\n",
    "    prompt_text = list_prompt.format(category=category)\n",
    "    output = llm.predict(prompt_text)\n",
    "    return list_parser.parse(output)\n",
    "\n",
    "# Test\n",
    "items = get_list(\"programming languages\")\n",
    "print(\"Languages:\", items)"
   ]
  },
  {
   "cell_type": "code",
   "execution_count": 6,
   "id": "bacca855",
   "metadata": {},
   "outputs": [
    {
     "name": "stdout",
     "output_type": "stream",
     "text": [
      "Product Info: {'product': 'iPhone 15 Pro', 'price': '$999', 'in_stock': 'true'}\n"
     ]
    }
   ],
   "source": [
    "## Demo 3: Structured Output Parser (Alternative to Pydantic)\n",
    "\n",
    "# Define response schemas\n",
    "response_schemas = [\n",
    "    ResponseSchema(name=\"product\", description=\"name of the product\"),\n",
    "    ResponseSchema(name=\"price\", description=\"price in USD\"),\n",
    "    ResponseSchema(name=\"in_stock\", description=\"whether item is in stock (true/false)\")\n",
    "]\n",
    "\n",
    "structured_parser = StructuredOutputParser.from_response_schemas(response_schemas)\n",
    "\n",
    "structured_prompt = PromptTemplate(\n",
    "    template=\"Extract product information from: {text}\\n{format_instructions}\",\n",
    "    input_variables=[\"text\"],\n",
    "    partial_variables={\"format_instructions\": structured_parser.get_format_instructions()}\n",
    ")\n",
    "\n",
    "def parse_product(text):\n",
    "    prompt_text = structured_prompt.format(text=text)\n",
    "    output = llm.predict(prompt_text)\n",
    "    return structured_parser.parse(output)\n",
    "\n",
    "# Test\n",
    "product_text = \"The new iPhone 15 Pro costs $999 and is currently available\"\n",
    "product_info = parse_product(product_text)\n",
    "print(\"Product Info:\", product_info)"
   ]
  },
  {
   "cell_type": "code",
   "execution_count": 7,
   "id": "09863f8c",
   "metadata": {},
   "outputs": [
    {
     "name": "stdout",
     "output_type": "stream",
     "text": [
      "Company: TechCorp\n",
      "Employees: 500\n",
      "HQ City: San Francisco\n"
     ]
    }
   ],
   "source": [
    "## Demo 4: Complex Nested Pydantic Model\n",
    "\n",
    "class Address(BaseModel):\n",
    "    street: str\n",
    "    city: str\n",
    "    state: str\n",
    "    zip_code: str\n",
    "\n",
    "class Company(BaseModel):\n",
    "    name: str = Field(description=\"company name\")\n",
    "    industry: str = Field(description=\"primary industry\")\n",
    "    employees: int = Field(description=\"number of employees\")\n",
    "    headquarters: Address = Field(description=\"company headquarters location\")\n",
    "    departments: List[str] = Field(description=\"list of main departments\")\n",
    "\n",
    "company_parser = PydanticOutputParser(pydantic_object=Company)\n",
    "\n",
    "company_prompt = PromptTemplate(\n",
    "    template=\"Extract company information from: {text}\\n{format_instructions}\",\n",
    "    input_variables=[\"text\"],\n",
    "    partial_variables={\"format_instructions\": company_parser.get_format_instructions()}\n",
    ")\n",
    "\n",
    "def parse_company(text):\n",
    "    prompt_text = company_prompt.format(text=text)\n",
    "    output = llm.predict(prompt_text)\n",
    "    return company_parser.parse(output)\n",
    "\n",
    "# Test\n",
    "company_text = \"\"\"\n",
    "TechCorp is a software company with 500 employees headquartered at \n",
    "123 Main St, San Francisco, CA 94105. They operate in the technology \n",
    "industry with departments including Engineering, Sales, Marketing, and HR.\n",
    "\"\"\"\n",
    "company = parse_company(company_text)\n",
    "print(f\"Company: {company.name}\")\n",
    "print(f\"Employees: {company.employees}\")\n",
    "print(f\"HQ City: {company.headquarters.city}\")"
   ]
  },
  {
   "cell_type": "code",
   "execution_count": 8,
   "id": "0ba85802",
   "metadata": {},
   "outputs": [
    {
     "name": "stdout",
     "output_type": "stream",
     "text": [
      "Priority: high\n"
     ]
    }
   ],
   "source": [
    "## Demo 5: Enum Parser\n",
    "\n",
    "class Priority(Enum):\n",
    "    HIGH = \"high\"\n",
    "    MEDIUM = \"medium\"\n",
    "    LOW = \"low\"\n",
    "\n",
    "enum_parser = EnumOutputParser(enum=Priority)\n",
    "\n",
    "enum_prompt = PromptTemplate(\n",
    "    template=\"What priority level is this task: {task}\\n{format_instructions}\",\n",
    "    input_variables=[\"task\"],\n",
    "    partial_variables={\"format_instructions\": enum_parser.get_format_instructions()}\n",
    ")\n",
    "\n",
    "def get_priority(task):\n",
    "    prompt_text = enum_prompt.format(task=task)\n",
    "    output = llm.predict(prompt_text)\n",
    "    return enum_parser.parse(output)\n",
    "\n",
    "# Test\n",
    "priority = get_priority(\"Fix critical production bug\")\n",
    "print(f\"Priority: {priority.value}\")"
   ]
  },
  {
   "cell_type": "code",
   "execution_count": 9,
   "id": "628142a2",
   "metadata": {},
   "outputs": [
    {
     "name": "stdout",
     "output_type": "stream",
     "text": [
      "Testing all parsers...\n",
      "1. Pydantic: Alice Johnson - data scientist\n",
      "2. List: ['1. MySQL', '2. PostgreSQL', '3. MongoDB']\n",
      "3. Structured: {'product': 'MacBook Pro M3', 'price': '$2499', 'in_stock': 'true'}\n",
      "4. Enum: medium\n"
     ]
    }
   ],
   "source": [
    "## Quick Test Function\n",
    "\n",
    "def test_all_parsers():\n",
    "    print(\"Testing all parsers...\")\n",
    "    \n",
    "    # Test each parser with simple examples\n",
    "    try:\n",
    "        # Pydantic\n",
    "        person = parse_person_info(\"Alice Johnson, 28, data scientist, knows Python and SQL\")\n",
    "        print(f\"1. Pydantic: {person.name} - {person.occupation}\")\n",
    "        \n",
    "        # List\n",
    "        langs = get_list(\"databases\")\n",
    "        print(f\"2. List: {langs[:3]}\")\n",
    "        \n",
    "        # Structured\n",
    "        product = parse_product(\"MacBook Pro M3 available for $2499\")\n",
    "        print(f\"3. Structured: {product}\")\n",
    "        \n",
    "        # Enum\n",
    "        prio = get_priority(\"Update documentation\")\n",
    "        print(f\"4. Enum: {prio.value}\")\n",
    "        \n",
    "    except Exception as e:\n",
    "        print(f\"Error: {e}\")\n",
    "\n",
    "# Run test\n",
    "test_all_parsers()"
   ]
  },
  {
   "cell_type": "markdown",
   "id": "af3a73ed",
   "metadata": {},
   "source": [
    "LangChain Output Parser Demos\n",
    "Demo 1: Pydantic Output Parser\n",
    "\n",
    "Extracts structured person information from text\n",
    "Defines typed fields: name, age, occupation, skills list\n",
    "Includes validation to ensure age is positive\n",
    "Automatically fixes parsing errors using OutputFixingParser\n",
    "Returns strongly-typed Python object with full IDE support\n",
    "\n",
    "Demo 2: List Output Parser\n",
    "\n",
    "Generates comma-separated lists from prompts\n",
    "Simple format for brainstorming or enumeration tasks\n",
    "Example: \"List 5 programming languages\"\n",
    "Returns clean Python list ready for iteration\n",
    "No complex structure needed\n",
    "\n",
    "Demo 3: Structured Output Parser\n",
    "\n",
    "Alternative to Pydantic using ResponseSchema definitions\n",
    "Extracts product information: name, price, availability\n",
    "Returns dictionary format\n",
    "Good for quick prototypes without class definitions\n",
    "Less type safety than Pydantic\n",
    "\n",
    "Demo 4: Nested Pydantic Model\n",
    "\n",
    "Handles complex company data with nested address object\n",
    "Demonstrates multi-level data structures\n",
    "Includes departments list and headquarters location\n",
    "Shows how Pydantic handles relationships between objects\n",
    "Useful for real-world hierarchical data\n",
    "\n",
    "Demo 5: Enum Parser\n",
    "\n",
    "Classifies text into predefined categories\n",
    "Example: task priority (HIGH, MEDIUM, LOW)\n",
    "Ensures output matches exact enum values\n",
    "Prevents invalid classifications\n",
    "Perfect for status fields or category assignments\n"
   ]
  },
  {
   "cell_type": "code",
   "execution_count": null,
   "id": "417339ec",
   "metadata": {},
   "outputs": [],
   "source": []
  }
 ],
 "metadata": {
  "kernelspec": {
   "display_name": "Python 3",
   "language": "python",
   "name": "python3"
  },
  "language_info": {
   "codemirror_mode": {
    "name": "ipython",
    "version": 3
   },
   "file_extension": ".py",
   "mimetype": "text/x-python",
   "name": "python",
   "nbconvert_exporter": "python",
   "pygments_lexer": "ipython3",
   "version": "3.11.9"
  }
 },
 "nbformat": 4,
 "nbformat_minor": 5
}
