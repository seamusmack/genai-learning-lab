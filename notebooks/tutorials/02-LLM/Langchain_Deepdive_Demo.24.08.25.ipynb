{
 "cells": [
  {
   "cell_type": "markdown",
   "id": "58b8c9d6",
   "metadata": {},
   "source": [
    "User Question\n",
    "    │\n",
    "    ├─▶ Retriever (BM25 by default; FAISS+embeddings optional)\n",
    "    │        ▲\n",
    "    │        │    Synthetic Docs (manual pages)\n",
    "    │        └──  Ingestion → Split → Index\n",
    "    │\n",
    "    ├─▶ Context Composer (combine top-k docs)\n",
    "    │\n",
    "    ├─▶ PromptTemplate (system + context + question + chat history)\n",
    "    │\n",
    "    ├─▶ LLM (offline Mock LLM or OpenAI if available)\n",
    "    │\n",
    "    └─▶ Output Parser + Source Attributions\n"
   ]
  },
  {
   "cell_type": "markdown",
   "id": "d29e5f17",
   "metadata": {},
   "source": [
    "Cell 1 — Dependency Install (if not prebuilt)\n",
    "\n",
    "Install core libs and BM25:\n",
    "\n",
    "langchain langchain-core langchain-community rank_bm25\n",
    "\n",
    "Optional: faiss-cpu (vector index demo) and langchain-openai.\n",
    "\n",
    "Operational note: Pin versions in enterprise repos (e.g., langchain==0.x.y, langchain-core==0.x.y) to avoid API drift (e.g., get_relevant_documents → .invoke() change)."
   ]
  },
  {
   "cell_type": "code",
   "execution_count": 7,
   "id": "3ca1520d",
   "metadata": {},
   "outputs": [
    {
     "name": "stdout",
     "output_type": "stream",
     "text": [
      "Note: you may need to restart the kernel to use updated packages.\n"
     ]
    },
    {
     "name": "stderr",
     "output_type": "stream",
     "text": [
      "WARNING: Ignoring invalid distribution ~penai (c:\\Users\\jim\\AppData\\Local\\Programs\\Python\\Python311\\Lib\\site-packages)\n",
      "WARNING: Ignoring invalid distribution ~penai (c:\\Users\\jim\\AppData\\Local\\Programs\\Python\\Python311\\Lib\\site-packages)\n",
      "WARNING: Ignoring invalid distribution ~penai (c:\\Users\\jim\\AppData\\Local\\Programs\\Python\\Python311\\Lib\\site-packages)\n"
     ]
    }
   ],
   "source": [
    "# Cell 1\n",
    "%pip -q install langchain langchain-core langchain-community rank_bm25 faiss-cpu --upgrade\n",
    "\n",
    "# Optional online pieces (safe to skip if no API key / internet):\n",
    "# %pip -q install langchain-openai sentence-transformers\n"
   ]
  },
  {
   "cell_type": "markdown",
   "id": "0b0c8d0e",
   "metadata": {},
   "source": [
    "Cell 2 — Imports, Feature Flags, Constants\n",
    "\n",
    "Imports:\n",
    "\n",
    "Document, RecursiveCharacterTextSplitter\n",
    "\n",
    "BM25Retriever\n",
    "\n",
    "LCEL: RunnableLambda, RunnableParallel, RunnablePassthrough, ChatPromptTemplate, StrOutputParser\n",
    "\n",
    "Memory: ChatMessageHistory, RunnableWithMessageHistory\n",
    "\n",
    "Flags:\n",
    "\n",
    "USE_OPENAI: bool (route to OpenAI or a deterministic mock)\n",
    "\n",
    "USE_EMBEDDINGS: bool (kept False to avoid downloads)\n",
    "\n",
    "TOP_K: int (retrieval fan-in; default 4)\n",
    "\n",
    "Rationale: Feature flags make the graph stable; model providers change without touching chain topology."
   ]
  },
  {
   "cell_type": "code",
   "execution_count": 8,
   "id": "9b98e8d7",
   "metadata": {},
   "outputs": [],
   "source": [
    "# Cell 2\n",
    "import os\n",
    "from typing import List, Dict, Any\n",
    "\n",
    "# Core LangChain\n",
    "from langchain_core.prompts import ChatPromptTemplate\n",
    "from langchain_core.runnables import RunnableParallel, RunnablePassthrough, RunnableLambda\n",
    "from langchain_core.output_parsers import StrOutputParser\n",
    "from langchain_core.documents import Document\n",
    "\n",
    "# Community bits (retrievers, text splitters, vectorstores)\n",
    "from langchain_community.retrievers import BM25Retriever\n",
    "from langchain_community.vectorstores import FAISS\n",
    "from langchain_community.document_loaders import TextLoader\n",
    "from langchain_community.callbacks.manager import get_openai_callback  # harmless if OpenAI not used\n",
    "from langchain.text_splitter import RecursiveCharacterTextSplitter\n",
    "\n",
    "# LLMs\n",
    "from langchain_community.llms import FakeListLLM  # offline demo\n",
    "# Optional: from langchain_openai import ChatOpenAI\n",
    "# Optional: from langchain_openai import OpenAIEmbeddings\n",
    "# Optional: from langchain_community.embeddings import HuggingFaceEmbeddings\n",
    "\n",
    "# Conversation memory wrappers\n",
    "from langchain_core.chat_history import BaseChatMessageHistory\n",
    "from langchain_community.chat_message_histories import ChatMessageHistory\n",
    "from langchain_core.runnables.history import RunnableWithMessageHistory\n",
    "\n",
    "# ---- DEMO TOGGLES ----\n",
    "USE_OPENAI = False  # flip to True if you have OPENAI_API_KEY set\n",
    "USE_EMBEDDINGS = False  # BM25 only by default to stay offline\n",
    "TOP_K = 4\n"
   ]
  },
  {
   "cell_type": "markdown",
   "id": "75010322",
   "metadata": {},
   "source": [
    "Cell 4 — Corpus Construction (Synthetic Manual)\n",
    "\n",
    "Build 6 Documents with metadata={\"section\": \"<name>\"}:\n",
    "\n",
    "intro, setup, grind, descale, troubleshoot, warranty\n",
    "\n",
    "Text is domain-shaped and concise to avoid excessive chunking.\n",
    "\n",
    "Contract: docs: List[Document]"
   ]
  },
  {
   "cell_type": "code",
   "execution_count": 9,
   "id": "d3805c0e",
   "metadata": {},
   "outputs": [
    {
     "data": {
      "text/plain": [
       "(6, {'section': 'intro'})"
      ]
     },
     "execution_count": 9,
     "metadata": {},
     "output_type": "execute_result"
    }
   ],
   "source": [
    "# Cell 4\n",
    "manual_sections = [\n",
    "    (\"intro\", \"\"\"\n",
    "NovaPress 3000 Overview:\n",
    "- 19-bar pump, 1.8L reservoir, PID temperature control.\n",
    "- Modes: Espresso, Americano, Steam.\n",
    "- Default grind range: 1 (fine) to 15 (coarse), factory at 7.\n",
    "\"\"\"),\n",
    "    (\"setup\", \"\"\"\n",
    "Setup Steps:\n",
    "1) Rinse reservoir, fill with filtered water.\n",
    "2) Run 'Prime' cycle without coffee.\n",
    "3) Heat up until READY light.\n",
    "4) Pull a blank shot to purge air.\n",
    "\"\"\"),\n",
    "    (\"grind\", \"\"\"\n",
    "Grind Guide:\n",
    "- Espresso: 3–6; lighter roasts → finer; darker → coarser.\n",
    "- Channeling fix: even tamp ~30 lbs, pre-infuse 3s.\n",
    "- If shot <25s: grind finer; if >35s: grind coarser.\n",
    "\"\"\"),\n",
    "    (\"descale\", \"\"\"\n",
    "Descaling Procedure:\n",
    "- Use citric acid solution 20g/L.\n",
    "- Run 'Clean' cycle: 2x brew, 1x steam.\n",
    "- Rinse thoroughly: 3 tanks of clean water.\n",
    "- Frequency: every 8 weeks or 200 shots.\n",
    "\"\"\"),\n",
    "    (\"troubleshoot\", \"\"\"\n",
    "Troubleshooting:\n",
    "- Bitter taste: too fine grind, too hot, over-extracted (>40s).\n",
    "- Sour taste: too coarse, low temperature, under-extracted (<20s).\n",
    "- Low pressure: clogged basket or pump prime needed.\n",
    "\"\"\"),\n",
    "    (\"warranty\", \"\"\"\n",
    "Warranty:\n",
    "- 2 years parts & labor with proof of purchase.\n",
    "- Excludes damage from unfiltered hard water or misuse.\n",
    "- Support: support@novapress.example\n",
    "\"\"\"),\n",
    "]\n",
    "\n",
    "docs = [\n",
    "    Document(page_content=txt.strip(), metadata={\"section\": sec})\n",
    "    for sec, txt in manual_sections\n",
    "]\n",
    "\n",
    "# Split for better retrieval granularity\n",
    "splitter = RecursiveCharacterTextSplitter(chunk_size=400, chunk_overlap=40)\n",
    "doc_chunks: List[Document] = splitter.split_documents(docs)\n",
    "len(doc_chunks), doc_chunks[0].metadata\n"
   ]
  },
  {
   "cell_type": "markdown",
   "id": "437afd20",
   "metadata": {},
   "source": [
    "Cell 5 — Split & Index\n",
    "\n",
    "Splitter: RecursiveCharacterTextSplitter(chunk_size=400, chunk_overlap=40)\n",
    "\n",
    "Produces smaller, overlapping chunks to increase retrieval recall near boundaries.\n",
    "\n",
    "Index: BM25Retriever.from_documents(doc_chunks)\n",
    "\n",
    "Set bm25.k = TOP_K.\n",
    "\n",
    "Common tuning:\n",
    "\n",
    "Too small chunk_size → fragmented context; too large → prompt bloat.\n",
    "\n",
    "chunk_overlap should cover sentence bleed (20–60 chars typical)."
   ]
  },
  {
   "cell_type": "code",
   "execution_count": 10,
   "id": "6d53dc2f",
   "metadata": {},
   "outputs": [],
   "source": [
    "# Cell 5\n",
    "# BM25 (keyword) retriever – works fully offline\n",
    "bm25 = BM25Retriever.from_documents(doc_chunks)\n",
    "bm25.k = TOP_K\n",
    "\n",
    "# Optional: vector index (only if you enable embeddings)\n",
    "vector_retriever = None\n",
    "if USE_EMBEDDINGS:\n",
    "    # Pick one: OpenAI or local HF embeddings\n",
    "    # embeddings = OpenAIEmbeddings(model=\"text-embedding-3-small\")\n",
    "    # OR offline-capable (requires model download first run):\n",
    "    # embeddings = HuggingFaceEmbeddings(model_name=\"sentence-transformers/all-MiniLM-L6-v2\")\n",
    "    raise NotImplementedError(\"Flip USE_EMBEDDINGS and choose an embedding class above, then remove this line.\")\n"
   ]
  },
  {
   "cell_type": "code",
   "execution_count": 11,
   "id": "37f18636",
   "metadata": {},
   "outputs": [],
   "source": [
    "# ✅ Cell 6 — robust retriever (handles str or dict) + modern API\n",
    "\n",
    "def _to_query(x):\n",
    "    # Accept either {\"question\": \"...\"} or just \"...\"\n",
    "    return x[\"question\"] if isinstance(x, dict) else x\n",
    "\n",
    "def retrieve(x) -> List[Document]:\n",
    "    query = _to_query(x)\n",
    "    return bm25.invoke(query)  # new API; returns List[Document]\n",
    "\n",
    "# Runnable receives whatever upstream sends (str or dict) and normalizes it\n",
    "retriever_runnable = RunnableLambda(lambda x: retrieve(x))\n"
   ]
  },
  {
   "cell_type": "markdown",
   "id": "04912ad4",
   "metadata": {},
   "source": [
    "We’ll condense the retrieved docs to a single context string that flows into the prompt."
   ]
  },
  {
   "cell_type": "code",
   "execution_count": 12,
   "id": "660ef2cf",
   "metadata": {},
   "outputs": [],
   "source": [
    "# Cell 8\n",
    "def docs_to_context(docs: List[Document]) -> str:\n",
    "    lines = []\n",
    "    for i, d in enumerate(docs, 1):\n",
    "        src = d.metadata.get(\"section\", \"unknown\")\n",
    "        lines.append(f\"[{i}] ({src}) {d.page_content.strip()}\")\n",
    "    return \"\\n\".join(lines)\n",
    "\n",
    "context_builder = RunnableLambda(lambda docs: {\"context\": docs_to_context(docs), \"sources\": docs})\n"
   ]
  },
  {
   "cell_type": "markdown",
   "id": "d2b62a15",
   "metadata": {},
   "source": [
    "Cell 9 — Prompt Template\n",
    "\n",
    "ChatPromptTemplate.from_messages([(\"system\", SYSTEM), (\"placeholder\", \"{chat_history}\"), (\"human\", \"Question: {question}\\n\\nRelevant context:\\n{context}\\n\\nAnswer:\")])\n",
    "\n",
    "SYSTEM should define:\n",
    "\n",
    "directive to be procedural,\n",
    "\n",
    "citation convention [n(section)],\n",
    "\n",
    "uncertainty policy (“say you don’t know if context insufficient”).\n",
    "\n",
    "Input keys required by prompt: question, context, chat_history."
   ]
  },
  {
   "cell_type": "code",
   "execution_count": 13,
   "id": "13ffd720",
   "metadata": {},
   "outputs": [],
   "source": [
    "# Cell 9\n",
    "SYSTEM = \"\"\"You are NovaPress Support Assistant.\n",
    "Answer precisely with steps. If unsure, say so.\n",
    "Cite sources as [n(section)] at the end of sentences where relevant.\n",
    "\"\"\"\n",
    "\n",
    "prompt = ChatPromptTemplate.from_messages([\n",
    "    (\"system\", SYSTEM),\n",
    "    (\"placeholder\", \"{chat_history}\"),\n",
    "    (\"human\", \"Question: {question}\\n\\nRelevant context:\\n{context}\\n\\nAnswer:\")\n",
    "])\n"
   ]
  },
  {
   "cell_type": "code",
   "execution_count": null,
   "id": "ce527cc9",
   "metadata": {},
   "outputs": [],
   "source": [
    "import os\n",
    "os.environ[\"OPENAI_API_KEY\"] = \n"
   ]
  },
  {
   "cell_type": "markdown",
   "id": "3eaff7c0",
   "metadata": {},
   "source": [
    "Cell 10 — LLM Binding (Provider Switch)"
   ]
  },
  {
   "cell_type": "code",
   "execution_count": 15,
   "id": "b91543f7",
   "metadata": {},
   "outputs": [],
   "source": [
    "# Cell 10 — choose OpenAI or mock\n",
    "\n",
    "import os\n",
    "from langchain_core.runnables import RunnableLambda\n",
    "\n",
    "USE_OPENAI = True   # flip False if you want the offline mock\n",
    "OPENAI_API_KEY = os.environ.get(\"OPENAI_API_KEY\")\n",
    "\n",
    "def mock_answer(inputs):\n",
    "    q = inputs[\"question\"].lower()\n",
    "    ctx = inputs[\"context\"]\n",
    "    if \"descal\" in q:\n",
    "        return \"To descale: 20g/L citric acid, run Brew x2 + Steam x1, rinse 3 tanks. Every ~8wks/200 shots. [descale]\"\n",
    "    if \"grind\" in q:\n",
    "        return \"Espresso grind: 3–6. <25s → finer; >35s → coarser. Tamp ~30 lbs, pre-infuse 3s. [grind]\"\n",
    "    if \"warranty\" in q:\n",
    "        return \"2-year parts & labor warranty, excludes hard water damage. [warranty]\"\n",
    "    return \"From context: \" + ctx.splitlines()[0]\n",
    "\n",
    "if USE_OPENAI:\n",
    "    if not OPENAI_API_KEY:\n",
    "        raise RuntimeError(\"Set OPENAI_API_KEY first!\")\n",
    "    from langchain_openai import ChatOpenAI\n",
    "    llm = ChatOpenAI(model=\"gpt-4o-mini\", temperature=0.2)\n",
    "else:\n",
    "    llm = RunnableLambda(lambda x: mock_answer(x))\n"
   ]
  },
  {
   "cell_type": "markdown",
   "id": "b061260a",
   "metadata": {},
   "source": [
    "Cell 11 — Parser + Result Packer\n",
    "\n",
    "For OpenAI path, normalize to string via StrOutputParser().\n",
    "\n",
    "Pack with sources for downstream UIs / audits:"
   ]
  },
  {
   "cell_type": "code",
   "execution_count": 16,
   "id": "f635ebd1",
   "metadata": {},
   "outputs": [],
   "source": [
    "# Cell 11\n",
    "parser = StrOutputParser()\n",
    "\n",
    "def pack_result(answer: str, sources: List[Document]) -> Dict[str, Any]:\n",
    "    return {\n",
    "        \"answer\": answer,\n",
    "        \"sources\": [{\"section\": d.metadata.get(\"section\"), \"snippet\": d.page_content[:160].strip()} for d in sources]\n",
    "    }\n",
    "\n",
    "pack_runnable = RunnableLambda(lambda d: pack_result(d[\"answer\"], d[\"sources\"]))\n"
   ]
  },
  {
   "cell_type": "markdown",
   "id": "532ec0d8",
   "metadata": {},
   "source": [
    "Cell 12 — Chain Assembly (LCEL graph)"
   ]
  },
  {
   "cell_type": "code",
   "execution_count": 17,
   "id": "19ca00e0",
   "metadata": {},
   "outputs": [],
   "source": [
    "# Cell 12 — assemble rag_inputs and then base_chain\n",
    "\n",
    "# First: rag_inputs builds {\"question\", \"context\", \"sources\"}\n",
    "rag_inputs = RunnableParallel({\n",
    "    \"question\": RunnablePassthrough(),\n",
    "    \"retrieved_docs\": retriever_runnable\n",
    "}) | RunnableParallel({\n",
    "    \"question\": lambda d: d[\"question\"],\n",
    "    \"context_and_sources\": lambda d: context_builder.invoke(d[\"retrieved_docs\"])\n",
    "}) | RunnableLambda(lambda d: {\n",
    "    \"question\": d[\"question\"],\n",
    "    \"context\": d[\"context_and_sources\"][\"context\"],\n",
    "    \"sources\": d[\"context_and_sources\"][\"sources\"]\n",
    "})\n",
    "\n",
    "# Then: branch base_chain depending on USE_OPENAI\n",
    "if USE_OPENAI:\n",
    "    base_chain = (\n",
    "        RunnableParallel({\n",
    "            \"question\": RunnablePassthrough(),\n",
    "            \"context\": (rag_inputs | (lambda x: x[\"context\"]))\n",
    "        })\n",
    "        | prompt\n",
    "        | llm\n",
    "        | StrOutputParser()\n",
    "    )\n",
    "else:\n",
    "    base_chain = (\n",
    "        RunnableParallel({\n",
    "            \"question\": RunnablePassthrough(),\n",
    "            \"context\": (rag_inputs | (lambda x: x[\"context\"]))\n",
    "        })\n",
    "        | RunnableLambda(mock_answer)\n",
    "    )\n",
    "\n",
    "# Finally: wrap with sources for full_chain\n",
    "full_chain = RunnableParallel({\n",
    "    \"answer\": base_chain,\n",
    "    \"sources\": (rag_inputs | (lambda x: x[\"sources\"]))\n",
    "}) | RunnableLambda(lambda d: {\n",
    "    \"answer\": d[\"answer\"],\n",
    "    \"sources\": [{\"section\": s.metadata.get(\"section\"),\n",
    "                 \"snippet\": s.page_content[:160].strip()} for s in d[\"sources\"]]\n",
    "})\n"
   ]
  },
  {
   "cell_type": "markdown",
   "id": "21285889",
   "metadata": {},
   "source": [
    "Cell 13 — Conversational Memory"
   ]
  },
  {
   "cell_type": "code",
   "execution_count": 18,
   "id": "aee02d55",
   "metadata": {},
   "outputs": [],
   "source": [
    "# Cell 13\n",
    "# Simple chat history in-memory store (keyed per session id)\n",
    "store: Dict[str, BaseChatMessageHistory] = {}\n",
    "\n",
    "def get_history(session_id: str) -> BaseChatMessageHistory:\n",
    "    if session_id not in store:\n",
    "        store[session_id] = ChatMessageHistory()\n",
    "    return store[session_id]\n",
    "\n",
    "conversational = RunnableWithMessageHistory(\n",
    "    full_chain,\n",
    "    get_history,\n",
    "    input_messages_key=\"question\",      # what's considered user input\n",
    "    history_messages_key=\"chat_history\" # injected into the prompt placeholder\n",
    ")\n",
    "\n",
    "SESSION_ID = \"novapress-demo\"\n"
   ]
  },
  {
   "cell_type": "markdown",
   "id": "64eda12f",
   "metadata": {},
   "source": [
    "Cell 14 — First Invocation (Smoke Test)"
   ]
  },
  {
   "cell_type": "code",
   "execution_count": 19,
   "id": "6f39ca2c",
   "metadata": {},
   "outputs": [
    {
     "name": "stderr",
     "output_type": "stream",
     "text": [
      "Error in RootListenersTracer.on_chain_end callback: KeyError('output')\n"
     ]
    },
    {
     "data": {
      "text/plain": [
       "{'answer': \"To descale your machine safely, follow these steps:\\n\\n1. **Prepare Descaling Solution**: Mix a citric acid solution at a concentration of 20g per liter of water.\\n2. **Run Clean Cycle**: Execute the 'Clean' cycle on your machine, which involves:\\n   - Brewing 2 cycles of the descaling solution.\\n   - Running 1 cycle of steam.\\n3. **Rinse Thoroughly**: After descaling, rinse the machine by running 3 tanks of clean water through it to ensure all descaling solution is removed.\\n\\n**Frequency**: You should descale your machine every 8 weeks or after 200 shots, whichever comes first [3].\",\n",
       " 'sources': [{'section': 'warranty',\n",
       "   'snippet': 'Warranty:\\n- 2 years parts & labor with proof of purchase.\\n- Excludes damage from unfiltered hard water or misuse.\\n- Support: support@novapress.example'},\n",
       "  {'section': 'troubleshoot',\n",
       "   'snippet': 'Troubleshooting:\\n- Bitter taste: too fine grind, too hot, over-extracted (>40s).\\n- Sour taste: too coarse, low temperature, under-extracted (<20s).\\n- Low pressu'},\n",
       "  {'section': 'descale',\n",
       "   'snippet': \"Descaling Procedure:\\n- Use citric acid solution 20g/L.\\n- Run 'Clean' cycle: 2x brew, 1x steam.\\n- Rinse thoroughly: 3 tanks of clean water.\\n- Frequency: every 8\"},\n",
       "  {'section': 'grind',\n",
       "   'snippet': 'Grind Guide:\\n- Espresso: 3–6; lighter roasts → finer; darker → coarser.\\n- Channeling fix: even tamp ~30 lbs, pre-infuse 3s.\\n- If shot <25s: grind finer; if >35s'}]}"
      ]
     },
     "execution_count": 19,
     "metadata": {},
     "output_type": "execute_result"
    }
   ],
   "source": [
    "# Cell 14\n",
    "query = \"How do I descale this machine safely, and how often should I do it?\"\n",
    "result = conversational.invoke(\n",
    "    {\"question\": query},\n",
    "    config={\"configurable\": {\"session_id\": SESSION_ID}}\n",
    ")\n",
    "result\n"
   ]
  },
  {
   "cell_type": "markdown",
   "id": "48095e57",
   "metadata": {},
   "source": [
    "Cell 15 — Follow-up (Memory Verification)"
   ]
  },
  {
   "cell_type": "code",
   "execution_count": 20,
   "id": "b0537c51",
   "metadata": {},
   "outputs": [
    {
     "name": "stderr",
     "output_type": "stream",
     "text": [
      "Error in RootListenersTracer.on_chain_end callback: KeyError('output')\n"
     ]
    },
    {
     "data": {
      "text/plain": [
       "{'answer': 'If your shots are running fast (less than 25 seconds), you should make the following grind changes:\\n\\n1. **Grind Finer**: Adjust your grinder to a finer setting. This will increase the resistance against the water, slowing down the extraction time.\\n\\n2. **Check Your Dose**: Ensure you are using the correct amount of coffee. A standard dose is typically around 18-20 grams for a double shot.\\n\\n3. **Tamp Evenly**: Make sure you are tamping evenly with about 30 lbs of pressure to avoid channeling, which can lead to fast shots.\\n\\n4. **Consider Pre-Infusion**: If your machine allows, use a pre-infusion setting for about 3 seconds to help with even extraction.\\n\\nBy following these steps, you should be able to achieve a more balanced extraction time for your espresso shots [1].',\n",
       " 'sources': [{'section': 'grind',\n",
       "   'snippet': 'Grind Guide:\\n- Espresso: 3–6; lighter roasts → finer; darker → coarser.\\n- Channeling fix: even tamp ~30 lbs, pre-infuse 3s.\\n- If shot <25s: grind finer; if >35s'},\n",
       "  {'section': 'intro',\n",
       "   'snippet': 'NovaPress 3000 Overview:\\n- 19-bar pump, 1.8L reservoir, PID temperature control.\\n- Modes: Espresso, Americano, Steam.\\n- Default grind range: 1 (fine) to 15 (coa'},\n",
       "  {'section': 'troubleshoot',\n",
       "   'snippet': 'Troubleshooting:\\n- Bitter taste: too fine grind, too hot, over-extracted (>40s).\\n- Sour taste: too coarse, low temperature, under-extracted (<20s).\\n- Low pressu'},\n",
       "  {'section': 'warranty',\n",
       "   'snippet': 'Warranty:\\n- 2 years parts & labor with proof of purchase.\\n- Excludes damage from unfiltered hard water or misuse.\\n- Support: support@novapress.example'}]}"
      ]
     },
     "execution_count": 20,
     "metadata": {},
     "output_type": "execute_result"
    }
   ],
   "source": [
    "# Cell 15\n",
    "follow_up = \"Cool—if my shots run fast afterward, what grind changes should I make?\"\n",
    "result2 = conversational.invoke(\n",
    "    {\"question\": follow_up},\n",
    "    config={\"configurable\": {\"session_id\": SESSION_ID}}\n",
    ")\n",
    "result2\n"
   ]
  },
  {
   "cell_type": "markdown",
   "id": "8106220b",
   "metadata": {},
   "source": [
    "Cell 16 — Retrieval Inspection (Operational Visibility)"
   ]
  },
  {
   "cell_type": "code",
   "execution_count": 21,
   "id": "f525a621",
   "metadata": {},
   "outputs": [
    {
     "name": "stdout",
     "output_type": "stream",
     "text": [
      "[1] section=troubleshoot\n",
      "Troubleshooting:\n",
      "- Bitter taste: too fine grind, too hot, over-extracted (>40s).\n",
      "- Sour taste: too coarse, low temperature, under-extracted (<20s).\n",
      "- Low pressure: clogged basket or pump prime needed.\n",
      "---\n",
      "[2] section=warranty\n",
      "Warranty:\n",
      "- 2 years parts & labor with proof of purchase.\n",
      "- Excludes damage from unfiltered hard water or misuse.\n",
      "- Support: support@novapress.example\n",
      "---\n",
      "[3] section=descale\n",
      "Descaling Procedure:\n",
      "- Use citric acid solution 20g/L.\n",
      "- Run 'Clean' cycle: 2x brew, 1x steam.\n",
      "- Rinse thoroughly: 3 tanks of clean water.\n",
      "- Frequency: every 8 weeks or 200 shots.\n",
      "---\n",
      "[4] section=grind\n",
      "Grind Guide:\n",
      "- Espresso: 3–6; lighter roasts → finer; darker → coarser.\n",
      "- Channeling fix: even tamp ~30 lbs, pre-infuse 3s.\n",
      "- If shot <25s: grind finer; if >35s: grind coarser.\n",
      "---\n"
     ]
    }
   ],
   "source": [
    "# Cell 16\n",
    "def preview_retrieval(q: str, k: int = TOP_K):\n",
    "    hits = bm25.invoke(q)[:k]\n",
    "    for i, d in enumerate(hits, 1):\n",
    "        print(f\"[{i}] section={d.metadata.get('section')}\\n{d.page_content[:220].strip()}\\n---\")\n",
    "\n",
    "preview_retrieval(\"prime the pump and setup steps?\")\n"
   ]
  },
  {
   "cell_type": "markdown",
   "id": "8d21c03d",
   "metadata": {},
   "source": [
    "Cell 17 — ask() Helper (Guard + Pretty Output)"
   ]
  },
  {
   "cell_type": "code",
   "execution_count": 22,
   "id": "c7c56e5d",
   "metadata": {},
   "outputs": [
    {
     "name": "stderr",
     "output_type": "stream",
     "text": [
      "Error in RootListenersTracer.on_chain_end callback: KeyError('output')\n"
     ]
    },
    {
     "name": "stdout",
     "output_type": "stream",
     "text": [
      "Answer:\n",
      " To descale your machine safely, follow these steps:\n",
      "\n",
      "1. **Prepare the Descaling Solution**: Mix a citric acid solution at a concentration of 20g per liter of water.\n",
      "\n",
      "2. **Run the Clean Cycle**:\n",
      "   - Start by running the brew cycle twice.\n",
      "   - Then, run the steam cycle once.\n",
      "\n",
      "3. **Rinse the Machine**: After descaling, thoroughly rinse the machine by running three tanks of clean water through it.\n",
      "\n",
      "**Frequency of Descaling**: You should descale your machine every 8 weeks or after 200 shots, whichever comes first [3]. \n",
      "\n",
      "Sources:\n",
      " [1] (warranty) Warranty:\n",
      "- 2 years parts & labor with proof of purchase.\n",
      "- Excludes damage from unfiltered hard water or misuse.\n",
      "- Support: support@novapress.example\n",
      " [2] (troubleshoot) Troubleshooting:\n",
      "- Bitter taste: too fine grind, too hot, over-extracted (>40s).\n",
      "- Sour taste: too coarse, low temperature, under-extracted (<20s).\n",
      "- Low pressu\n",
      " [3] (descale) Descaling Procedure:\n",
      "- Use citric acid solution 20g/L.\n",
      "- Run 'Clean' cycle: 2x brew, 1x steam.\n",
      "- Rinse thoroughly: 3 tanks of clean water.\n",
      "- Frequency: every 8\n",
      " [4] (grind) Grind Guide:\n",
      "- Espresso: 3–6; lighter roasts → finer; darker → coarser.\n",
      "- Channeling fix: even tamp ~30 lbs, pre-infuse 3s.\n",
      "- If shot <25s: grind finer; if >35s\n"
     ]
    },
    {
     "name": "stderr",
     "output_type": "stream",
     "text": [
      "Error in RootListenersTracer.on_chain_end callback: KeyError('output')\n"
     ]
    },
    {
     "name": "stdout",
     "output_type": "stream",
     "text": [
      "Answer:\n",
      " To adjust your shot time of 15 seconds, follow these steps:\n",
      "\n",
      "1. **Check Grind Size**: Since your shot is under the ideal range (25-35 seconds), you should grind your coffee finer. The recommended grind size for espresso is between 3-6, so consider adjusting it closer to 3.\n",
      "\n",
      "2. **Tamp Pressure**: Ensure you are tamping evenly with about 30 lbs of pressure. An uneven tamp can lead to channeling, which affects extraction time.\n",
      "\n",
      "3. **Pre-Infusion**: If you're not already doing so, consider using a pre-infusion time of about 3 seconds. This can help with even extraction.\n",
      "\n",
      "4. **Test Again**: After making these adjustments, pull another shot and time it. Aim for a duration between 25-35 seconds for optimal extraction.\n",
      "\n",
      "By making these changes, you should see an improvement in your shot time. If you continue to have issues, consider reaching out to support for further assistance [1(section), 3(section)]. \n",
      "\n",
      "Sources:\n",
      " [1] (intro) NovaPress 3000 Overview:\n",
      "- 19-bar pump, 1.8L reservoir, PID temperature control.\n",
      "- Modes: Espresso, Americano, Steam.\n",
      "- Default grind range: 1 (fine) to 15 (coa\n",
      " [2] (setup) Setup Steps:\n",
      "1) Rinse reservoir, fill with filtered water.\n",
      "2) Run 'Prime' cycle without coffee.\n",
      "3) Heat up until READY light.\n",
      "4) Pull a blank shot to purge air.\n",
      " [3] (grind) Grind Guide:\n",
      "- Espresso: 3–6; lighter roasts → finer; darker → coarser.\n",
      "- Channeling fix: even tamp ~30 lbs, pre-infuse 3s.\n",
      "- If shot <25s: grind finer; if >35s\n",
      " [4] (warranty) Warranty:\n",
      "- 2 years parts & labor with proof of purchase.\n",
      "- Excludes damage from unfiltered hard water or misuse.\n",
      "- Support: support@novapress.example\n"
     ]
    },
    {
     "name": "stderr",
     "output_type": "stream",
     "text": [
      "Error in RootListenersTracer.on_chain_end callback: KeyError('output')\n"
     ]
    },
    {
     "name": "stdout",
     "output_type": "stream",
     "text": [
      "Answer:\n",
      " To prime the pump on first use, follow these steps:\n",
      "\n",
      "1. **Fill the Water Tank**: Ensure the water tank is filled with fresh, clean water.\n",
      "\n",
      "2. **Turn On the Machine**: Power on the machine and wait for it to reach the appropriate temperature.\n",
      "\n",
      "3. **Activate the Brew Cycle**: Start a brew cycle without coffee in the basket. This will help to push water through the system and prime the pump.\n",
      "\n",
      "4. **Observe Water Flow**: You should see water flowing from the group head. If no water flows, repeat the brew cycle a few times until the pump is primed.\n",
      "\n",
      "5. **Check for Air Bubbles**: If you notice air bubbles in the water flow, continue running the brew cycle until the flow is steady.\n",
      "\n",
      "6. **Ready for Use**: Once the pump is primed and water flows smoothly, you can proceed to brew your coffee.\n",
      "\n",
      "If you encounter any issues, refer to the troubleshooting section for low pressure or contact support at support@novapress.example for assistance [1]. \n",
      "\n",
      "Sources:\n",
      " [1] (troubleshoot) Troubleshooting:\n",
      "- Bitter taste: too fine grind, too hot, over-extracted (>40s).\n",
      "- Sour taste: too coarse, low temperature, under-extracted (<20s).\n",
      "- Low pressu\n",
      " [2] (warranty) Warranty:\n",
      "- 2 years parts & labor with proof of purchase.\n",
      "- Excludes damage from unfiltered hard water or misuse.\n",
      "- Support: support@novapress.example\n",
      " [3] (descale) Descaling Procedure:\n",
      "- Use citric acid solution 20g/L.\n",
      "- Run 'Clean' cycle: 2x brew, 1x steam.\n",
      "- Rinse thoroughly: 3 tanks of clean water.\n",
      "- Frequency: every 8\n",
      " [4] (grind) Grind Guide:\n",
      "- Espresso: 3–6; lighter roasts → finer; darker → coarser.\n",
      "- Channeling fix: even tamp ~30 lbs, pre-infuse 3s.\n",
      "- If shot <25s: grind finer; if >35s\n"
     ]
    },
    {
     "data": {
      "text/plain": [
       "{'answer': 'To prime the pump on first use, follow these steps:\\n\\n1. **Fill the Water Tank**: Ensure the water tank is filled with fresh, clean water.\\n\\n2. **Turn On the Machine**: Power on the machine and wait for it to reach the appropriate temperature.\\n\\n3. **Activate the Brew Cycle**: Start a brew cycle without coffee in the basket. This will help to push water through the system and prime the pump.\\n\\n4. **Observe Water Flow**: You should see water flowing from the group head. If no water flows, repeat the brew cycle a few times until the pump is primed.\\n\\n5. **Check for Air Bubbles**: If you notice air bubbles in the water flow, continue running the brew cycle until the flow is steady.\\n\\n6. **Ready for Use**: Once the pump is primed and water flows smoothly, you can proceed to brew your coffee.\\n\\nIf you encounter any issues, refer to the troubleshooting section for low pressure or contact support at support@novapress.example for assistance [1].',\n",
       " 'sources': [{'section': 'troubleshoot',\n",
       "   'snippet': 'Troubleshooting:\\n- Bitter taste: too fine grind, too hot, over-extracted (>40s).\\n- Sour taste: too coarse, low temperature, under-extracted (<20s).\\n- Low pressu'},\n",
       "  {'section': 'warranty',\n",
       "   'snippet': 'Warranty:\\n- 2 years parts & labor with proof of purchase.\\n- Excludes damage from unfiltered hard water or misuse.\\n- Support: support@novapress.example'},\n",
       "  {'section': 'descale',\n",
       "   'snippet': \"Descaling Procedure:\\n- Use citric acid solution 20g/L.\\n- Run 'Clean' cycle: 2x brew, 1x steam.\\n- Rinse thoroughly: 3 tanks of clean water.\\n- Frequency: every 8\"},\n",
       "  {'section': 'grind',\n",
       "   'snippet': 'Grind Guide:\\n- Espresso: 3–6; lighter roasts → finer; darker → coarser.\\n- Channeling fix: even tamp ~30 lbs, pre-infuse 3s.\\n- If shot <25s: grind finer; if >35s'}]}"
      ]
     },
     "execution_count": 22,
     "metadata": {},
     "output_type": "execute_result"
    }
   ],
   "source": [
    "# Cell 17\n",
    "def ask(question: str, session_id: str = SESSION_ID):\n",
    "    # quick guard: if nothing retrieved, don’t waste tokens\n",
    "    hits = bm25.invoke(question)\n",
    "    if not hits:\n",
    "        return {\n",
    "            \"answer\": \"I don’t have enough relevant context to answer. Try rephrasing or expanding the docs.\",\n",
    "            \"sources\": []\n",
    "        }\n",
    "    out = conversational.invoke(\n",
    "        {\"question\": question},\n",
    "        config={\"configurable\": {\"session_id\": session_id}}\n",
    "    )\n",
    "    # pretty print\n",
    "    print(\"Answer:\\n\", out[\"answer\"], \"\\n\")\n",
    "    if out.get(\"sources\"):\n",
    "        print(\"Sources:\")\n",
    "        for i, s in enumerate(out[\"sources\"], 1):\n",
    "            print(f\" [{i}] ({s['section']}) {s['snippet']}\")\n",
    "    return out\n",
    "\n",
    "# Try a few:\n",
    "ask(\"How do I descale this machine safely, and how often?\")\n",
    "ask(\"My shot took 15 seconds—what should I change?\")\n",
    "ask(\"How do I prime the pump on first use?\")\n"
   ]
  }
 ],
 "metadata": {
  "kernelspec": {
   "display_name": "Python 3",
   "language": "python",
   "name": "python3"
  },
  "language_info": {
   "codemirror_mode": {
    "name": "ipython",
    "version": 3
   },
   "file_extension": ".py",
   "mimetype": "text/x-python",
   "name": "python",
   "nbconvert_exporter": "python",
   "pygments_lexer": "ipython3",
   "version": "3.11.9"
  }
 },
 "nbformat": 4,
 "nbformat_minor": 5
}
