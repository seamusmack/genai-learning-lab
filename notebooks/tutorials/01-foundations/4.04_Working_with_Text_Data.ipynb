{
 "cells": [
  {
   "cell_type": "markdown",
   "id": "3ac1f235-a802-42a8-8508-3e9eccde56ed",
   "metadata": {
    "id": "3ac1f235-a802-42a8-8508-3e9eccde56ed"
   },
   "source": [
    "# __Working with Text Data in Pandas__\n",
    "\n",
    "## __Agenda__\n",
    "\n",
    "- Text Data in Pandas\n",
    "- Iteration\n",
    "  * Iterating over Rows\n",
    "  * Applying a Function to Each Element\n",
    "  * Vectorized Operations\n",
    "  * Iterating over Series\n",
    "- Sorting\n",
    "  * Sorting DataFrame by Column\n",
    "  * Sorting DataFrame by Multiple Columns\n",
    "  * Sorting DataFrame by Index\n",
    "  * Sorting a Series\n",
    "- Plotting with Pandas"
   ]
  },
  {
   "cell_type": "markdown",
   "id": "4b4e0cab-099d-41a8-9968-67b821e3b86d",
   "metadata": {
    "id": "4b4e0cab-099d-41a8-9968-67b821e3b86d"
   },
   "source": [
    "### __1. Text Data in Pandas__\n",
    "\n",
    "Working with text data in Pandas involves various operations to manipulate and analyze textual information. Here are some common text data operations using Pandas:"
   ]
  },
  {
   "cell_type": "code",
   "execution_count": null,
   "id": "0103555d-7d01-47e2-8ca5-2b05564278e5",
   "metadata": {
    "colab": {
     "base_uri": "https://localhost:8080/"
    },
    "executionInfo": {
     "elapsed": 971,
     "status": "ok",
     "timestamp": 1716223282732,
     "user": {
      "displayName": "Ashish Jangid",
      "userId": "15170006874299393728"
     },
     "user_tz": -330
    },
    "id": "0103555d-7d01-47e2-8ca5-2b05564278e5",
    "outputId": "be3c7235-a51d-4402-c481-a6abbc1a6615"
   },
   "outputs": [
    {
     "name": "stdout",
     "output_type": "stream",
     "text": [
      "Length of each string:\n",
      "         Column  Length\n",
      "0         Hello       5\n",
      "1         World       5\n",
      "2        Python       6\n",
      "3  Data Science      12\n"
     ]
    }
   ],
   "source": [
    "# Assuming 'df' is DataFrame with a 'Column' containing text data\n",
    "import pandas as pd\n",
    "\n",
    "df = pd.DataFrame({'Column': ['Hello', 'World', 'Python', 'Data Science']})\n",
    "\n",
    "# Calculates the length of each string\n",
    "df['Length'] = df['Column'].str.len()\n",
    "print(\"Length of each string:\")\n",
    "print(df[['Column', 'Length']])\n"
   ]
  },
  {
   "cell_type": "code",
   "execution_count": null,
   "id": "fa533b07-9bee-4b69-8f7f-6c3aca64e76a",
   "metadata": {
    "colab": {
     "base_uri": "https://localhost:8080/"
    },
    "executionInfo": {
     "elapsed": 8,
     "status": "ok",
     "timestamp": 1716223286547,
     "user": {
      "displayName": "Ashish Jangid",
      "userId": "15170006874299393728"
     },
     "user_tz": -330
    },
    "id": "fa533b07-9bee-4b69-8f7f-6c3aca64e76a",
    "outputId": "8b7cfecf-8cb4-401a-d810-25ac0bbe03f8"
   },
   "outputs": [
    {
     "name": "stdout",
     "output_type": "stream",
     "text": [
      "\n",
      "Text in lowercase:\n",
      "         Column     Lowercase\n",
      "0         Hello         hello\n",
      "1         World         world\n",
      "2        Python        python\n",
      "3  Data Science  data science\n"
     ]
    }
   ],
   "source": [
    "# Assuming 'df' is DataFrame with a 'Column' containing text data\n",
    "df = pd.DataFrame({'Column': ['Hello', 'World', 'Python', 'Data Science']})\n",
    "\n",
    "# Converts text to lowercase\n",
    "df['Lowercase'] = df['Column'].str.lower()\n",
    "print(\"\\nText in lowercase:\")\n",
    "print(df[['Column', 'Lowercase']])\n"
   ]
  },
  {
   "cell_type": "code",
   "execution_count": null,
   "id": "85a64573-3a36-42ac-8e01-3752fed9969c",
   "metadata": {
    "colab": {
     "base_uri": "https://localhost:8080/"
    },
    "executionInfo": {
     "elapsed": 5,
     "status": "ok",
     "timestamp": 1716223290297,
     "user": {
      "displayName": "Ashish Jangid",
      "userId": "15170006874299393728"
     },
     "user_tz": -330
    },
    "id": "85a64573-3a36-42ac-8e01-3752fed9969c",
    "outputId": "560fb3fe-8379-4cb6-edd5-5f66c2146287"
   },
   "outputs": [
    {
     "name": "stdout",
     "output_type": "stream",
     "text": [
      "\n",
      "Contains substring 'Data':\n",
      "         Column  ContainsSubstring\n",
      "0         Hello              False\n",
      "1         World              False\n",
      "2        Python              False\n",
      "3  Data Science               True\n"
     ]
    }
   ],
   "source": [
    "# Assuming 'df' is DataFrame with a 'Column' containing text data\n",
    "df = pd.DataFrame({'Column': ['Hello', 'World', 'Python', 'Data Science']})\n",
    "\n",
    "# Checks if each string contains the specified substring\n",
    "substring = 'Data'\n",
    "df['ContainsSubstring'] = df['Column'].str.contains(substring)\n",
    "print(\"\\nContains substring 'Data':\")\n",
    "print(df[['Column', 'ContainsSubstring']])\n"
   ]
  },
  {
   "cell_type": "markdown",
   "id": "ebaa3489-b22c-4c3e-a3fd-6f2492de0a7c",
   "metadata": {
    "id": "ebaa3489-b22c-4c3e-a3fd-6f2492de0a7c"
   },
   "source": [
    "## __2. Iteration__"
   ]
  },
  {
   "cell_type": "markdown",
   "id": "8b68905e-257e-4197-a592-c2656790385b",
   "metadata": {
    "id": "8b68905e-257e-4197-a592-c2656790385b"
   },
   "source": [
    "Iteration in Pandas typically involves traversing through the rows or elements of a DataFrame or Series.\n",
    "- However, it is important to note that direct iteration over DataFrame rows using Python's for loop is generally discouraged due to performance reasons.\n",
    "- Instead, Pandas provides efficient methods for iteration and applying functions to DataFrame elements."
   ]
  },
  {
   "cell_type": "markdown",
   "id": "9061737a-8b27-4b74-b39a-0c2cf6e28e51",
   "metadata": {
    "id": "9061737a-8b27-4b74-b39a-0c2cf6e28e51"
   },
   "source": [
    "![link text](https://labcontent.simplicdn.net/data-content/content-assets/Data_and_AI/ADSP_Images/Lesson_04_Working_with_Pandas/4_Working_with_Text_Data_in_Pandas/Iteration.png)"
   ]
  },
  {
   "cell_type": "markdown",
   "id": "b174ebf6-d371-4743-ad51-1c8fe8a64f24",
   "metadata": {
    "id": "b174ebf6-d371-4743-ad51-1c8fe8a64f24"
   },
   "source": [
    "### __2.1 Iterating over Rows__"
   ]
  },
  {
   "cell_type": "code",
   "execution_count": null,
   "id": "5c8e5a78-0f02-435b-9e22-0fa3bc092a02",
   "metadata": {
    "colab": {
     "base_uri": "https://localhost:8080/"
    },
    "executionInfo": {
     "elapsed": 6,
     "status": "ok",
     "timestamp": 1716223295860,
     "user": {
      "displayName": "Ashish Jangid",
      "userId": "15170006874299393728"
     },
     "user_tz": -330
    },
    "id": "5c8e5a78-0f02-435b-9e22-0fa3bc092a02",
    "outputId": "962a8c36-4d74-42fd-a0e9-8a08be1bac2c"
   },
   "outputs": [
    {
     "name": "stdout",
     "output_type": "stream",
     "text": [
      "Index: 0, Data: 1, A\n",
      "Index: 1, Data: 2, B\n",
      "Index: 2, Data: 3, C\n"
     ]
    }
   ],
   "source": [
    "import pandas as pd\n",
    "\n",
    "# Assuming 'df' is your DataFrame with columns 'Column1' and 'Column2'\n",
    "df = pd.DataFrame({'Column1': [1, 2, 3], 'Column2': ['A', 'B', 'C']})\n",
    "\n",
    "for index, row in df.iterrows():\n",
    "    print(f\"Index: {index}, Data: {row['Column1']}, {row['Column2']}\")\n"
   ]
  },
  {
   "cell_type": "markdown",
   "id": "f8c904cc-995a-4af9-87f7-19a8e82ebdef",
   "metadata": {
    "id": "f8c904cc-995a-4af9-87f7-19a8e82ebdef"
   },
   "source": [
    "### __2.2 Applying a Function to Each Element__"
   ]
  },
  {
   "cell_type": "code",
   "execution_count": null,
   "id": "660ead07-4caf-4039-bb8e-346cec70c4a9",
   "metadata": {
    "colab": {
     "base_uri": "https://localhost:8080/"
    },
    "executionInfo": {
     "elapsed": 491,
     "status": "ok",
     "timestamp": 1716223299930,
     "user": {
      "displayName": "Ashish Jangid",
      "userId": "15170006874299393728"
     },
     "user_tz": -330
    },
    "id": "660ead07-4caf-4039-bb8e-346cec70c4a9",
    "outputId": "4b545dbe-8a6a-48d1-f112-9245325d278b"
   },
   "outputs": [
    {
     "name": "stdout",
     "output_type": "stream",
     "text": [
      "   ExistingColumn  NewColumn\n",
      "0              10         20\n",
      "1              20         40\n",
      "2              30         60\n"
     ]
    }
   ],
   "source": [
    "# Assuming 'df' is your DataFrame with 'ExistingColumn'\n",
    "df = pd.DataFrame({'ExistingColumn': [10, 20, 30]})\n",
    "\n",
    "df['NewColumn'] = df['ExistingColumn'].apply(lambda x: x * 2)\n",
    "print(df)\n"
   ]
  },
  {
   "cell_type": "markdown",
   "id": "ed42ddaa-4bba-46c5-9b8a-a7d0b910c04b",
   "metadata": {
    "id": "ed42ddaa-4bba-46c5-9b8a-a7d0b910c04b"
   },
   "source": [
    "### __2.3 Vectorized Operations__"
   ]
  },
  {
   "cell_type": "code",
   "execution_count": null,
   "id": "bd599fb0-c25b-4bb8-a7b3-91df35a1daaa",
   "metadata": {
    "colab": {
     "base_uri": "https://localhost:8080/"
    },
    "executionInfo": {
     "elapsed": 471,
     "status": "ok",
     "timestamp": 1716223304763,
     "user": {
      "displayName": "Ashish Jangid",
      "userId": "15170006874299393728"
     },
     "user_tz": -330
    },
    "id": "bd599fb0-c25b-4bb8-a7b3-91df35a1daaa",
    "outputId": "026e3b21-d927-48c8-e462-07aea4004266"
   },
   "outputs": [
    {
     "name": "stdout",
     "output_type": "stream",
     "text": [
      "   ColumnA  ColumnB  ResultColumn\n",
      "0        1        4             5\n",
      "1        2        5             7\n",
      "2        3        6             9\n"
     ]
    }
   ],
   "source": [
    "# Assuming 'df' is your DataFrame with 'ColumnA' and 'ColumnB'\n",
    "df = pd.DataFrame({'ColumnA': [1, 2, 3], 'ColumnB': [4, 5, 6]})\n",
    "\n",
    "df['ResultColumn'] = df['ColumnA'] + df['ColumnB']\n",
    "print(df)"
   ]
  },
  {
   "cell_type": "markdown",
   "id": "ef8c2880-e8c7-4a6a-9782-d392ff898948",
   "metadata": {
    "id": "ef8c2880-e8c7-4a6a-9782-d392ff898948"
   },
   "source": [
    "### __2.4 Iterating over Series__"
   ]
  },
  {
   "cell_type": "code",
   "execution_count": null,
   "id": "800688f5-28ae-4d68-8ace-b1838128ad96",
   "metadata": {
    "colab": {
     "base_uri": "https://localhost:8080/"
    },
    "executionInfo": {
     "elapsed": 807,
     "status": "ok",
     "timestamp": 1716223475239,
     "user": {
      "displayName": "Ashish Jangid",
      "userId": "15170006874299393728"
     },
     "user_tz": -330
    },
    "id": "800688f5-28ae-4d68-8ace-b1838128ad96",
    "outputId": "3c9b4c92-0598-485a-e81f-3cfe2b2c619e"
   },
   "outputs": [
    {
     "name": "stdout",
     "output_type": "stream",
     "text": [
      "Index: 0, Value: 10\n",
      "Index: 1, Value: 20\n",
      "Index: 2, Value: 30\n"
     ]
    }
   ],
   "source": [
    "# Assuming 'series' is your Pandas Series\n",
    "series = pd.Series([10, 20, 30], name='Values')\n",
    "\n",
    "for index, value in series.items():\n",
    "    print(f\"Index: {index}, Value: {value}\")"
   ]
  },
  {
   "cell_type": "markdown",
   "id": "ce5bf870-426f-4c15-8b3a-0028902b75f6",
   "metadata": {
    "id": "ce5bf870-426f-4c15-8b3a-0028902b75f6"
   },
   "source": [
    "## __3. Sorting__\n",
    "Sorting in Pandas involves arranging the elements of a DataFrame or Series based on specific criteria, such as column values or indices.\n",
    "\n",
    "![link text](https://labcontent.simplicdn.net/data-content/content-assets/Data_and_AI/ADSP_Images/Updated_Images/Lesson_4/4_04/Sorting.png)"
   ]
  },
  {
   "cell_type": "markdown",
   "id": "046a75b3-63cc-4b57-8d7b-9dcff2ae2e7c",
   "metadata": {
    "id": "046a75b3-63cc-4b57-8d7b-9dcff2ae2e7c"
   },
   "source": [
    "### __3.1 Sorting DataFrame by Column__"
   ]
  },
  {
   "cell_type": "code",
   "execution_count": null,
   "id": "79191d3c-3b9e-4484-a43d-126711b5cf10",
   "metadata": {
    "colab": {
     "base_uri": "https://localhost:8080/"
    },
    "executionInfo": {
     "elapsed": 459,
     "status": "ok",
     "timestamp": 1716223485920,
     "user": {
      "displayName": "Ashish Jangid",
      "userId": "15170006874299393728"
     },
     "user_tz": -330
    },
    "id": "79191d3c-3b9e-4484-a43d-126711b5cf10",
    "outputId": "1a3350ac-23b7-4059-fc45-56e0d549ca63"
   },
   "outputs": [
    {
     "name": "stdout",
     "output_type": "stream",
     "text": [
      "Sorted DataFrame by Age:\n",
      "       Name  Age  Salary\n",
      "1      Bob   22   60000\n",
      "0    Alice   25   50000\n",
      "2  Charlie   30   75000\n"
     ]
    }
   ],
   "source": [
    "# Create a sample DataFrame\n",
    "df = pd.DataFrame({'Name': ['Alice', 'Bob', 'Charlie'],\n",
    "                   'Age': [25, 22, 30],\n",
    "                   'Salary': [50000, 60000, 75000]})\n",
    "\n",
    "# Sort DataFrame by the 'Age' column in ascending order\n",
    "df_sorted = df.sort_values(by='Age')\n",
    "print(\"Sorted DataFrame by Age:\\n\", df_sorted)"
   ]
  },
  {
   "cell_type": "markdown",
   "id": "5da5639d-46b3-40bf-9760-3bb5e1074a41",
   "metadata": {
    "id": "5da5639d-46b3-40bf-9760-3bb5e1074a41"
   },
   "source": [
    "### __3.2 Sorting DataFrame by Multiple Columns__"
   ]
  },
  {
   "cell_type": "code",
   "execution_count": null,
   "id": "7a3c5260-a9c9-460a-b7e0-6087f5ec0ab0",
   "metadata": {
    "colab": {
     "base_uri": "https://localhost:8080/"
    },
    "executionInfo": {
     "elapsed": 5,
     "status": "ok",
     "timestamp": 1716223488972,
     "user": {
      "displayName": "Ashish Jangid",
      "userId": "15170006874299393728"
     },
     "user_tz": -330
    },
    "id": "7a3c5260-a9c9-460a-b7e0-6087f5ec0ab0",
    "outputId": "c022a263-0f30-4a18-e9b2-3cfb03215558"
   },
   "outputs": [
    {
     "name": "stdout",
     "output_type": "stream",
     "text": [
      "\n",
      "Sorted DataFrame by Age and Salary:\n",
      "       Name  Age  Salary\n",
      "1      Bob   22   60000\n",
      "0    Alice   25   50000\n",
      "2  Charlie   30   75000\n"
     ]
    }
   ],
   "source": [
    "# Sort DataFrame by 'Age' in ascending order, then by 'Salary' in descending order\n",
    "df_sorted_multi = df.sort_values(by=['Age', 'Salary'], ascending=[True, False])\n",
    "print(\"\\nSorted DataFrame by Age and Salary:\\n\", df_sorted_multi)\n"
   ]
  },
  {
   "cell_type": "markdown",
   "id": "e96939ca-6dad-458b-9472-4a3206c3854b",
   "metadata": {
    "id": "e96939ca-6dad-458b-9472-4a3206c3854b"
   },
   "source": [
    "### __3.3 Sorting DataFrame by Index__"
   ]
  },
  {
   "cell_type": "code",
   "execution_count": null,
   "id": "39e8a714-5942-4e54-91e2-0c79d00c140d",
   "metadata": {
    "colab": {
     "base_uri": "https://localhost:8080/"
    },
    "executionInfo": {
     "elapsed": 436,
     "status": "ok",
     "timestamp": 1716223494882,
     "user": {
      "displayName": "Ashish Jangid",
      "userId": "15170006874299393728"
     },
     "user_tz": -330
    },
    "id": "39e8a714-5942-4e54-91e2-0c79d00c140d",
    "outputId": "97483cfc-2d4f-4a3c-e3fc-9a9b2a1c62e0"
   },
   "outputs": [
    {
     "name": "stdout",
     "output_type": "stream",
     "text": [
      "\n",
      "Sorted DataFrame by Index:\n",
      "       Name  Age  Salary\n",
      "2  Charlie   30   75000\n",
      "1      Bob   22   60000\n",
      "0    Alice   25   50000\n"
     ]
    }
   ],
   "source": [
    "# Sort DataFrame by index in descending order\n",
    "df_sorted_index = df.sort_index(ascending=False)\n",
    "print(\"\\nSorted DataFrame by Index:\\n\", df_sorted_index)\n"
   ]
  },
  {
   "cell_type": "markdown",
   "id": "fd3589ab-a3de-4b86-8323-b12a91e99291",
   "metadata": {
    "id": "fd3589ab-a3de-4b86-8323-b12a91e99291"
   },
   "source": [
    "### __3.4 Sorting a Series__"
   ]
  },
  {
   "cell_type": "code",
   "execution_count": null,
   "id": "a602a207-7e45-4f73-8b12-80d9e5bf2754",
   "metadata": {
    "colab": {
     "base_uri": "https://localhost:8080/"
    },
    "executionInfo": {
     "elapsed": 4,
     "status": "ok",
     "timestamp": 1716223498699,
     "user": {
      "displayName": "Ashish Jangid",
      "userId": "15170006874299393728"
     },
     "user_tz": -330
    },
    "id": "a602a207-7e45-4f73-8b12-80d9e5bf2754",
    "outputId": "7b7ec2fc-58ea-4fb9-9bb6-cb0b0a6634c5"
   },
   "outputs": [
    {
     "name": "stdout",
     "output_type": "stream",
     "text": [
      "\n",
      "Sorted Series by Age:\n",
      " Charlie    30\n",
      "Alice      25\n",
      "Bob        22\n",
      "Name: Age, dtype: int64\n"
     ]
    }
   ],
   "source": [
    "# Create a sample Series\n",
    "series = pd.Series([25, 22, 30], index=['Alice', 'Bob', 'Charlie'], name='Age')\n",
    "\n",
    "# Sort Series in descending order\n",
    "series_sorted = series.sort_values(ascending=False)\n",
    "print(\"\\nSorted Series by Age:\\n\", series_sorted)\n"
   ]
  },
  {
   "cell_type": "markdown",
   "id": "f8d5b2d7-6107-41c0-be03-de05e961c973",
   "metadata": {
    "id": "f8d5b2d7-6107-41c0-be03-de05e961c973"
   },
   "source": [
    "## __4. Plotting with Pandas__\n",
    "Plotting data is required to visualize the data in Python. Python uses the plot method in pandas to create plots; there are many types of plots available in pandas."
   ]
  },
  {
   "cell_type": "code",
   "execution_count": null,
   "id": "7cf1cce8-340a-40ce-8b81-849181ea0a9d",
   "metadata": {
    "colab": {
     "base_uri": "https://localhost:8080/",
     "height": 430
    },
    "executionInfo": {
     "elapsed": 1189,
     "status": "ok",
     "timestamp": 1716223503846,
     "user": {
      "displayName": "Ashish Jangid",
      "userId": "15170006874299393728"
     },
     "user_tz": -330
    },
    "id": "7cf1cce8-340a-40ce-8b81-849181ea0a9d",
    "outputId": "5eb0513b-34b4-4257-cbb6-f298991b1cac"
   },
   "outputs": [
    {
     "data": {
      "image/png": "[encoded data removed]",
      "text/plain": [
       "<Figure size 640x480 with 1 Axes>"
      ]
     },
     "metadata": {},
     "output_type": "display_data"
    }
   ],
   "source": [
    "import pandas as pd\n",
    "import matplotlib.pyplot as plt\n",
    "\n",
    "# Create a sample DataFrame\n",
    "data = {'A': [1, 2, 3, 4, 5], 'B': [5, 4, 3, 2, 1]}\n",
    "df = pd.DataFrame(data)\n",
    "\n",
    "# Plot a line chart\n",
    "df.plot()\n",
    "plt.show()"
   ]
  },
  {
   "cell_type": "code",
   "execution_count": null,
   "id": "9d80dcca-2a6b-4b91-84b0-618a6b3aecec",
   "metadata": {
    "colab": {
     "base_uri": "https://localhost:8080/",
     "height": 425
    },
    "executionInfo": {
     "elapsed": 771,
     "status": "ok",
     "timestamp": 1716223508838,
     "user": {
      "displayName": "Ashish Jangid",
      "userId": "15170006874299393728"
     },
     "user_tz": -330
    },
    "id": "9d80dcca-2a6b-4b91-84b0-618a6b3aecec",
    "outputId": "dbdbecb3-e36d-4ebf-dcc8-d5bdc676e77c"
   },
   "outputs": [
    {
     "data": {
      "image/png": "[encoded data removed]",
      "text/plain": [
       "<Figure size 640x480 with 1 Axes>"
      ]
     },
     "metadata": {},
     "output_type": "display_data"
    }
   ],
   "source": [
    "# Plot a bar chart\n",
    "df.plot(kind='bar')\n",
    "plt.show()\n"
   ]
  },
  {
   "cell_type": "markdown",
   "id": "414bc8c6-7f95-4d39-8cff-929e89d8503c",
   "metadata": {
    "id": "414bc8c6-7f95-4d39-8cff-929e89d8503c"
   },
   "source": [
    "# __Assisted Practice__"
   ]
  },
  {
   "cell_type": "markdown",
   "id": "27541f6e-5d9e-4ae6-9c76-800a777b72b6",
   "metadata": {
    "id": "27541f6e-5d9e-4ae6-9c76-800a777b72b6"
   },
   "source": [
    "## __Problem Statement:__\n",
    "Create a detailed report on the monthly weather data by performing text manipulation, data sorting, and visualization to analyze temperature and precipitation trends.\n",
    "\n",
    "__Data:__\n",
    "The dataset contains daily observations of temperature and precipitation over a month.\n",
    "\n",
    "## __Steps to Perform:__\n",
    "\n",
    "1. Textual manipulation\n",
    "- Convert 'Day' to a string format with appropriate suffixes (1st, 2nd, 3rd, and so on)\n",
    "- Classify 'Temperature' into categories (Low, Medium, High) based on predefined thresholds\n",
    "- Determine if 'Precipitation' falls under 'Light', 'Moderate', or 'Heavy' rainfall\n",
    "\n",
    "2. Iteration and data aggregation\n",
    "- Iterate over the DataFrame to calculate weekly averages of temperature and precipitation\n",
    "- Summarize findings in a new DataFrame\n",
    "\n",
    "3. Sorting\n",
    "- Sort the DataFrame by 'Temperature' and 'Precipitation' in ascending and descending order\n",
    "- Sort the DataFrame by the day of the month\n",
    "\n",
    "4. Plotting\n",
    "- Create a line plot for temperature trends\n",
    "- Create a bar plot to compare precipitation levels across the month"
   ]
  },
  {
   "cell_type": "markdown",
   "id": "b6e4744f",
   "metadata": {},
   "source": [
    "# Weather Data Analysis: Trends in Temperature and Precipitation\n",
    "\n",
    "In this report, we analyze a month's worth of daily weather observations using Pandas for text manipulation, aggregation, sorting, and visualization.\n"
   ]
  },
  {
   "cell_type": "code",
   "execution_count": 1,
   "id": "c5bcc9c7",
   "metadata": {},
   "outputs": [
    {
     "data": {
      "text/html": [
       "<div>\n",
       "<style scoped>\n",
       "    .dataframe tbody tr th:only-of-type {\n",
       "        vertical-align: middle;\n",
       "    }\n",
       "\n",
       "    .dataframe tbody tr th {\n",
       "        vertical-align: top;\n",
       "    }\n",
       "\n",
       "    .dataframe thead th {\n",
       "        text-align: right;\n",
       "    }\n",
       "</style>\n",
       "<table border=\"1\" class=\"dataframe\">\n",
       "  <thead>\n",
       "    <tr style=\"text-align: right;\">\n",
       "      <th></th>\n",
       "      <th>Day</th>\n",
       "      <th>Temperature</th>\n",
       "      <th>Precipitation</th>\n",
       "    </tr>\n",
       "  </thead>\n",
       "  <tbody>\n",
       "    <tr>\n",
       "      <th>0</th>\n",
       "      <td>1</td>\n",
       "      <td>23.232203</td>\n",
       "      <td>2.645556</td>\n",
       "    </tr>\n",
       "    <tr>\n",
       "      <th>1</th>\n",
       "      <td>2</td>\n",
       "      <td>25.727840</td>\n",
       "      <td>7.742337</td>\n",
       "    </tr>\n",
       "    <tr>\n",
       "      <th>2</th>\n",
       "      <td>3</td>\n",
       "      <td>24.041451</td>\n",
       "      <td>4.561503</td>\n",
       "    </tr>\n",
       "    <tr>\n",
       "      <th>3</th>\n",
       "      <td>4</td>\n",
       "      <td>23.173248</td>\n",
       "      <td>5.684339</td>\n",
       "    </tr>\n",
       "    <tr>\n",
       "      <th>4</th>\n",
       "      <td>5</td>\n",
       "      <td>21.354822</td>\n",
       "      <td>0.187898</td>\n",
       "    </tr>\n",
       "  </tbody>\n",
       "</table>\n",
       "</div>"
      ],
      "text/plain": [
       "   Day  Temperature  Precipitation\n",
       "0    1    23.232203       2.645556\n",
       "1    2    25.727840       7.742337\n",
       "2    3    24.041451       4.561503\n",
       "3    4    23.173248       5.684339\n",
       "4    5    21.354822       0.187898"
      ]
     },
     "execution_count": 1,
     "metadata": {},
     "output_type": "execute_result"
    }
   ],
   "source": [
    "import pandas as pd\n",
    "import matplotlib.pyplot as plt\n",
    "\n",
    "# Load weather dataset (adjust filename as needed)\n",
    "df = pd.read_csv('Weather_data.csv')\n",
    "df.head()\n"
   ]
  },
  {
   "cell_type": "markdown",
   "id": "7bbf17ae",
   "metadata": {},
   "source": [
    "## 1. Textual Manipulation\n",
    "\n",
    "- Convert the 'Day' column to strings with ordinal suffixes (1st, 2nd, 3rd, ...)\n",
    "- Categorize 'Temperature' into Low, Medium, High based on thresholds\n",
    "- Classify 'Precipitation' as 'Light', 'Moderate', or 'Heavy'\n"
   ]
  },
  {
   "cell_type": "code",
   "execution_count": 2,
   "id": "bb54f405",
   "metadata": {},
   "outputs": [
    {
     "data": {
      "text/html": [
       "<div>\n",
       "<style scoped>\n",
       "    .dataframe tbody tr th:only-of-type {\n",
       "        vertical-align: middle;\n",
       "    }\n",
       "\n",
       "    .dataframe tbody tr th {\n",
       "        vertical-align: top;\n",
       "    }\n",
       "\n",
       "    .dataframe thead th {\n",
       "        text-align: right;\n",
       "    }\n",
       "</style>\n",
       "<table border=\"1\" class=\"dataframe\">\n",
       "  <thead>\n",
       "    <tr style=\"text-align: right;\">\n",
       "      <th></th>\n",
       "      <th>Day</th>\n",
       "      <th>Day_str</th>\n",
       "      <th>Temperature</th>\n",
       "      <th>Temp_Class</th>\n",
       "      <th>Precipitation</th>\n",
       "      <th>Precip_Class</th>\n",
       "    </tr>\n",
       "  </thead>\n",
       "  <tbody>\n",
       "    <tr>\n",
       "      <th>0</th>\n",
       "      <td>1</td>\n",
       "      <td>1st</td>\n",
       "      <td>23.232203</td>\n",
       "      <td>Low</td>\n",
       "      <td>2.645556</td>\n",
       "      <td>Heavy</td>\n",
       "    </tr>\n",
       "    <tr>\n",
       "      <th>1</th>\n",
       "      <td>2</td>\n",
       "      <td>2nd</td>\n",
       "      <td>25.727840</td>\n",
       "      <td>Low</td>\n",
       "      <td>7.742337</td>\n",
       "      <td>Heavy</td>\n",
       "    </tr>\n",
       "    <tr>\n",
       "      <th>2</th>\n",
       "      <td>3</td>\n",
       "      <td>3rd</td>\n",
       "      <td>24.041451</td>\n",
       "      <td>Low</td>\n",
       "      <td>4.561503</td>\n",
       "      <td>Heavy</td>\n",
       "    </tr>\n",
       "    <tr>\n",
       "      <th>3</th>\n",
       "      <td>4</td>\n",
       "      <td>4th</td>\n",
       "      <td>23.173248</td>\n",
       "      <td>Low</td>\n",
       "      <td>5.684339</td>\n",
       "      <td>Heavy</td>\n",
       "    </tr>\n",
       "    <tr>\n",
       "      <th>4</th>\n",
       "      <td>5</td>\n",
       "      <td>5th</td>\n",
       "      <td>21.354822</td>\n",
       "      <td>Low</td>\n",
       "      <td>0.187898</td>\n",
       "      <td>Moderate</td>\n",
       "    </tr>\n",
       "  </tbody>\n",
       "</table>\n",
       "</div>"
      ],
      "text/plain": [
       "   Day Day_str  Temperature Temp_Class  Precipitation Precip_Class\n",
       "0    1     1st    23.232203        Low       2.645556        Heavy\n",
       "1    2     2nd    25.727840        Low       7.742337        Heavy\n",
       "2    3     3rd    24.041451        Low       4.561503        Heavy\n",
       "3    4     4th    23.173248        Low       5.684339        Heavy\n",
       "4    5     5th    21.354822        Low       0.187898     Moderate"
      ]
     },
     "execution_count": 2,
     "metadata": {},
     "output_type": "execute_result"
    }
   ],
   "source": [
    "# Helper function to convert integers to ordinal strings\n",
    "def ordinal(n):\n",
    "    return \"%d%s\" % (n, \"tsnrhtdd\"[(n//10%10!=1)*(n%10<4)*n%10::4])\n",
    "\n",
    "df['Day_str'] = df['Day'].apply(ordinal)\n",
    "\n",
    "# Classify Temperature: thresholds are adjustable\n",
    "def temp_category(temp):\n",
    "    if temp < 50:\n",
    "        return 'Low'\n",
    "    elif temp < 75:\n",
    "        return 'Medium'\n",
    "    else:\n",
    "        return 'High'\n",
    "df['Temp_Class'] = df['Temperature'].apply(temp_category)\n",
    "\n",
    "# Classify Precipitation: you can adjust these thresholds\n",
    "def precip_category(precip):\n",
    "    if precip == 0:\n",
    "        return 'None'\n",
    "    elif precip < 0.1:\n",
    "        return 'Light'\n",
    "    elif precip < 0.3:\n",
    "        return 'Moderate'\n",
    "    else:\n",
    "        return 'Heavy'\n",
    "df['Precip_Class'] = df['Precipitation'].apply(precip_category)\n",
    "\n",
    "df[['Day', 'Day_str', 'Temperature', 'Temp_Class', 'Precipitation', 'Precip_Class']].head()\n"
   ]
  },
  {
   "cell_type": "markdown",
   "id": "03bb98e5",
   "metadata": {},
   "source": [
    "## 2. Aggregation: Weekly Averages\n",
    "\n",
    "We’ll calculate the weekly average temperature and precipitation to summarize trends.\n"
   ]
  },
  {
   "cell_type": "code",
   "execution_count": 3,
   "id": "404ddd17",
   "metadata": {},
   "outputs": [
    {
     "data": {
      "text/html": [
       "<div>\n",
       "<style scoped>\n",
       "    .dataframe tbody tr th:only-of-type {\n",
       "        vertical-align: middle;\n",
       "    }\n",
       "\n",
       "    .dataframe tbody tr th {\n",
       "        vertical-align: top;\n",
       "    }\n",
       "\n",
       "    .dataframe thead th {\n",
       "        text-align: right;\n",
       "    }\n",
       "</style>\n",
       "<table border=\"1\" class=\"dataframe\">\n",
       "  <thead>\n",
       "    <tr style=\"text-align: right;\">\n",
       "      <th></th>\n",
       "      <th>Week</th>\n",
       "      <th>avg_temp</th>\n",
       "      <th>avg_precip</th>\n",
       "    </tr>\n",
       "  </thead>\n",
       "  <tbody>\n",
       "    <tr>\n",
       "      <th>0</th>\n",
       "      <td>1</td>\n",
       "      <td>23.397398</td>\n",
       "      <td>4.731278</td>\n",
       "    </tr>\n",
       "    <tr>\n",
       "      <th>1</th>\n",
       "      <td>2</td>\n",
       "      <td>25.828154</td>\n",
       "      <td>5.424141</td>\n",
       "    </tr>\n",
       "    <tr>\n",
       "      <th>2</th>\n",
       "      <td>3</td>\n",
       "      <td>22.795266</td>\n",
       "      <td>4.180070</td>\n",
       "    </tr>\n",
       "    <tr>\n",
       "      <th>3</th>\n",
       "      <td>4</td>\n",
       "      <td>23.330110</td>\n",
       "      <td>4.008009</td>\n",
       "    </tr>\n",
       "    <tr>\n",
       "      <th>4</th>\n",
       "      <td>5</td>\n",
       "      <td>22.023827</td>\n",
       "      <td>3.553682</td>\n",
       "    </tr>\n",
       "  </tbody>\n",
       "</table>\n",
       "</div>"
      ],
      "text/plain": [
       "   Week   avg_temp  avg_precip\n",
       "0     1  23.397398    4.731278\n",
       "1     2  25.828154    5.424141\n",
       "2     3  22.795266    4.180070\n",
       "3     4  23.330110    4.008009\n",
       "4     5  22.023827    3.553682"
      ]
     },
     "execution_count": 3,
     "metadata": {},
     "output_type": "execute_result"
    }
   ],
   "source": [
    "# Assuming 'Day' starts at 1 and increments by 1 for each day of the month\n",
    "df['Week'] = ((df['Day'] - 1) // 7) + 1\n",
    "\n",
    "weekly_summary = df.groupby('Week').agg(\n",
    "    avg_temp=('Temperature', 'mean'),\n",
    "    avg_precip=('Precipitation', 'mean')\n",
    ").reset_index()\n",
    "weekly_summary\n"
   ]
  },
  {
   "cell_type": "markdown",
   "id": "abae63eb",
   "metadata": {},
   "source": [
    "## 3. Sorting\n",
    "\n",
    "We’ll sort the DataFrame by 'Temperature', 'Precipitation', and 'Day'.\n"
   ]
  },
  {
   "cell_type": "code",
   "execution_count": 4,
   "id": "1f40d777",
   "metadata": {},
   "outputs": [],
   "source": [
    "# Sort by Temperature (ascending)\n",
    "sorted_temp_asc = df.sort_values(by='Temperature', ascending=True)\n",
    "\n",
    "# Sort by Precipitation (descending)\n",
    "sorted_precip_desc = df.sort_values(by='Precipitation', ascending=False)\n",
    "\n",
    "# Sort by Day\n",
    "sorted_by_day = df.sort_values(by='Day')\n"
   ]
  },
  {
   "cell_type": "markdown",
   "id": "1a97f9f2",
   "metadata": {},
   "source": [
    "## 4. Plotting\n",
    "\n",
    "We’ll plot:\n",
    "- Temperature trends (line plot)\n",
    "- Precipitation totals (bar plot)\n"
   ]
  },
  {
   "cell_type": "code",
   "execution_count": 5,
   "id": "2c526471",
   "metadata": {},
   "outputs": [
    {
     "data": {
      "image/png": "[encoded data removed]",
      "text/plain": [
       "<Figure size 1200x500 with 2 Axes>"
      ]
     },
     "metadata": {},
     "output_type": "display_data"
    }
   ],
   "source": [
    "plt.figure(figsize=(12,5))\n",
    "\n",
    "# Line plot for temperature\n",
    "plt.subplot(1, 2, 1)\n",
    "plt.plot(df['Day'], df['Temperature'], marker='o')\n",
    "plt.title('Daily Temperature Trend')\n",
    "plt.xlabel('Day')\n",
    "plt.ylabel('Temperature (°F)')\n",
    "\n",
    "# Bar plot for precipitation\n",
    "plt.subplot(1, 2, 2)\n",
    "plt.bar(df['Day'], df['Precipitation'])\n",
    "plt.title('Daily Precipitation Amount')\n",
    "plt.xlabel('Day')\n",
    "plt.ylabel('Precipitation (inches)')\n",
    "\n",
    "plt.tight_layout()\n",
    "plt.show()\n"
   ]
  },
  {
   "cell_type": "code",
   "execution_count": null,
   "id": "4830c1d2",
   "metadata": {},
   "outputs": [],
   "source": []
  }
 ],
 "metadata": {
  "colab": {
   "provenance": []
  },
  "kernelspec": {
   "display_name": "Python 3",
   "language": "python",
   "name": "python3"
  },
  "language_info": {
   "codemirror_mode": {
    "name": "ipython",
    "version": 3
   },
   "file_extension": ".py",
   "mimetype": "text/x-python",
   "name": "python",
   "nbconvert_exporter": "python",
   "pygments_lexer": "ipython3",
   "version": "3.11.9"
  }
 },
 "nbformat": 4,
 "nbformat_minor": 5
}
