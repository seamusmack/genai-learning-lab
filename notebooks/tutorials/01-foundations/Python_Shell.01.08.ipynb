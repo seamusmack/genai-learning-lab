{
 "cells": [
  {
   "cell_type": "markdown",
   "id": "6cce61f8",
   "metadata": {},
   "source": [
    "\n",
    "1. What is Shell Scripting?\n",
    "\n",
    "\n",
    "Concept:\n",
    "\n",
    "Shell scripting means automating tasks you’d usually do manually in a terminal—listing files, copying, renaming, etc.\n",
    "\n",
    "Python is now the language of choice for automation across all major OSes.\n",
    "\n",
    "Explanation:\n",
    "\n",
    "Lists all files and folders in the current directory, alphabetically, one per line.\n",
    "\n",
    "Use Case:\n",
    "\n",
    "Quickly inventory a working directory (e.g., before batch-processing files in a data pipeline, or after extracting a dataset).\n"
   ]
  },
  {
   "cell_type": "code",
   "execution_count": 9,
   "id": "7349d72b",
   "metadata": {},
   "outputs": [
    {
     "name": "stdout",
     "output_type": "stream",
     "text": [
      "Files and folders:\n",
      "4.01_Introduction_to_Pandas.ipynb\n",
      "4.02_Pandas_DataFrame.ipynb\n",
      "4.03_Date_and_TimeDelta_in_Pandas.ipynb\n",
      "4.04_Working_with_Text_Data.ipynb\n",
      "HousePrices.csv\n",
      "Lesson_04_Knowledge_Checks.pptx\n",
      "Python_Shell.01.08.ipynb\n",
      "Weather_data.csv\n",
      "housing_data.csv\n",
      "log_2025-08-01.txt\n",
      "sample.txt\n"
     ]
    }
   ],
   "source": [
    "import os\n",
    "print(\"Files and folders:\")\n",
    "for f in sorted(os.listdir('.')):\n",
    "    print(f)\n"
   ]
  },
  {
   "cell_type": "markdown",
   "id": "8221506a",
   "metadata": {},
   "source": [
    "2. Shell, Kernel, and Terminal\n",
    "\n",
    "Concept:\n",
    "\n",
    "In traditional scripting, the shell acts as the go-between for the user and the kernel (OS core).\n",
    "\n",
    "With Python, you interact directly with system APIs.\n",
    "\n",
    "Explanation:\n",
    "\n",
    "Identifies the running Python interpreter and OS.\n",
    "\n",
    "Use Case:\n",
    "\n",
    "Ensure scripts run correctly in heterogeneous environments (Windows, Linux, macOS)—vital for reproducibility in research or deployment."
   ]
  },
  {
   "cell_type": "code",
   "execution_count": 10,
   "id": "7ef721dd",
   "metadata": {},
   "outputs": [
    {
     "name": "stdout",
     "output_type": "stream",
     "text": [
      "Python executable: c:\\Users\\jim\\AppData\\Local\\Programs\\Python\\Python311\\python.exe\n",
      "Platform: win32\n"
     ]
    }
   ],
   "source": [
    "import sys\n",
    "print(\"Python executable:\", sys.executable)\n",
    "print(\"Platform:\", sys.platform)\n"
   ]
  },
  {
   "cell_type": "markdown",
   "id": "a8a767a9",
   "metadata": {},
   "source": [
    "3. Elements of Shell Scripting in Python\n",
    "\n",
    "\n",
    "Concept:\n",
    "\n",
    "Automate routine filesystem operations—make, list, rename, and delete directories.\n",
    "\n",
    "Explanation:\n",
    "\n",
    "Creates and deletes a directory, showing the directory list after each step.\n",
    "\n",
    "Use Case:\n",
    "\n",
    "Set up temporary directories for processing large files, or tear down staging folders in CI/CD workflows."
   ]
  },
  {
   "cell_type": "code",
   "execution_count": 11,
   "id": "9d623031",
   "metadata": {},
   "outputs": [
    {
     "name": "stdout",
     "output_type": "stream",
     "text": [
      "After mkdir:\n",
      "4.01_Introduction_to_Pandas.ipynb\n",
      "4.02_Pandas_DataFrame.ipynb\n",
      "4.03_Date_and_TimeDelta_in_Pandas.ipynb\n",
      "4.04_Working_with_Text_Data.ipynb\n",
      "HousePrices.csv\n",
      "Lesson_04_Knowledge_Checks.pptx\n",
      "Python_Shell.01.08.ipynb\n",
      "Weather_data.csv\n",
      "housing_data.csv\n",
      "log_2025-08-01.txt\n",
      "sample.txt\n",
      "testdir\n",
      "After rmdir:\n",
      "4.01_Introduction_to_Pandas.ipynb\n",
      "4.02_Pandas_DataFrame.ipynb\n",
      "4.03_Date_and_TimeDelta_in_Pandas.ipynb\n",
      "4.04_Working_with_Text_Data.ipynb\n",
      "HousePrices.csv\n",
      "Lesson_04_Knowledge_Checks.pptx\n",
      "Python_Shell.01.08.ipynb\n",
      "Weather_data.csv\n",
      "housing_data.csv\n",
      "log_2025-08-01.txt\n",
      "sample.txt\n"
     ]
    }
   ],
   "source": [
    "import os\n",
    "\n",
    "os.mkdir('testdir')\n",
    "print(\"After mkdir:\")\n",
    "for f in sorted(os.listdir('.')):\n",
    "    print(f)\n",
    "os.rmdir('testdir')\n",
    "print(\"After rmdir:\")\n",
    "for f in sorted(os.listdir('.')):\n",
    "    print(f)\n"
   ]
  },
  {
   "cell_type": "markdown",
   "id": "0b239b89",
   "metadata": {},
   "source": [
    "\n",
    "\n",
    "Concept:\n",
    "\n",
    "Python scripts are cross-platform, easily readable, and integrate seamlessly with scientific libraries and data tools.\n",
    "\n",
    "\n",
    "Explanation:\n",
    "\n",
    "Prints working directory, files, and the current date.\n",
    "\n",
    "Use Case:\n",
    "\n",
    "Timestamp automated log files, or track which version of data/scripts were used in batch runs for compliance or audit trails."
   ]
  },
  {
   "cell_type": "code",
   "execution_count": 12,
   "id": "4d902134",
   "metadata": {},
   "outputs": [
    {
     "name": "stdout",
     "output_type": "stream",
     "text": [
      "Current working directory: c:\\Users\\jim\\OneDrive\\Desktop\\AMJ Group\\Teaching\\Class Materials\\Dell_GenAI\\Applied_Data_Science_With_Python_ILT_Materials_Sept_24\\Instructor_Materials\\0.1_Instructor_Slides_and_Notebooks\\Lesson_04_Working_With_Pandas\n",
      "Files here:\n",
      "4.01_Introduction_to_Pandas.ipynb\n",
      "4.02_Pandas_DataFrame.ipynb\n",
      "4.03_Date_and_TimeDelta_in_Pandas.ipynb\n",
      "4.04_Working_with_Text_Data.ipynb\n",
      "HousePrices.csv\n",
      "Lesson_04_Knowledge_Checks.pptx\n",
      "Python_Shell.01.08.ipynb\n",
      "Weather_data.csv\n",
      "housing_data.csv\n",
      "log_2025-08-01.txt\n",
      "sample.txt\n",
      "Today is: 2025-08-01\n"
     ]
    }
   ],
   "source": [
    "import os\n",
    "import datetime\n",
    "\n",
    "print(\"Current working directory:\", os.getcwd())\n",
    "print(\"Files here:\")\n",
    "for f in sorted(os.listdir('.')):\n",
    "    print(f)\n",
    "print(\"Today is:\", datetime.date.today())\n"
   ]
  },
  {
   "cell_type": "markdown",
   "id": "6bd4473c",
   "metadata": {},
   "source": [
    "The sys Module\n",
    "\n",
    "\n",
    "Concept:\n",
    "\n",
    "The sys module gives you access to system-level details and allows scripts to accept command-line arguments for flexible automation.\n",
    "\n",
    "\n",
    "Explanation:\n",
    "\n",
    "Shows how to read arguments (for batch processing multiple files), check interpreter version, and use stdin for piped data.\n",
    "\n",
    "Use Case:\n",
    "\n",
    "Build parameterized scripts for ETL jobs or pass runtime config for ML/data pipelines."
   ]
  },
  {
   "cell_type": "code",
   "execution_count": 13,
   "id": "09bf5fd9",
   "metadata": {},
   "outputs": [
    {
     "name": "stdout",
     "output_type": "stream",
     "text": [
      "Arguments passed: ['C:\\\\Users\\\\jim\\\\AppData\\\\Roaming\\\\Python\\\\Python311\\\\site-packages\\\\ipykernel_launcher.py', '--f=c:\\\\Users\\\\jim\\\\AppData\\\\Roaming\\\\jupyter\\\\runtime\\\\kernel-v37a181e4061ce03fce78018e8d59893fa8915c6b9.json']\n",
      "Python version: 3.11.9 (tags/v3.11.9:de54cf5, Apr  2 2024, 10:12:12) [MSC v.1938 64 bit (AMD64)]\n",
      "Standard input object: <_io.TextIOWrapper name='<stdin>' mode='r' encoding='utf-8'>\n"
     ]
    }
   ],
   "source": [
    "import sys\n",
    "\n",
    "print(\"Arguments passed:\", sys.argv)\n",
    "print(\"Python version:\", sys.version)\n",
    "print(\"Standard input object:\", sys.stdin)\n"
   ]
  },
  {
   "cell_type": "markdown",
   "id": "2d56ae63",
   "metadata": {},
   "source": [
    "The os Module\n",
    "\n",
    "\n",
    "Concept:\n",
    "\n",
    "The os module is the Swiss army knife for Python automation—handle files, directories, permissions, and more.\n",
    "\n",
    "Explanation:\n",
    "\n",
    "Sequentially creates, renames, and removes a directory, always presenting the output in an organized, readable way.\n",
    "\n",
    "Use Case:\n",
    "\n",
    "Automate the creation of project folders, cleanup after data imports, or prepare directory trees for batch job outputs."
   ]
  },
  {
   "cell_type": "code",
   "execution_count": 14,
   "id": "9d72fd98",
   "metadata": {},
   "outputs": [
    {
     "name": "stdout",
     "output_type": "stream",
     "text": [
      "Before mkdir:\n",
      "4.01_Introduction_to_Pandas.ipynb\n",
      "4.02_Pandas_DataFrame.ipynb\n",
      "4.03_Date_and_TimeDelta_in_Pandas.ipynb\n",
      "4.04_Working_with_Text_Data.ipynb\n",
      "HousePrices.csv\n",
      "Lesson_04_Knowledge_Checks.pptx\n",
      "Python_Shell.01.08.ipynb\n",
      "Weather_data.csv\n",
      "housing_data.csv\n",
      "log_2025-08-01.txt\n",
      "sample.txt\n",
      "\n",
      "After mkdir:\n",
      "4.01_Introduction_to_Pandas.ipynb\n",
      "4.02_Pandas_DataFrame.ipynb\n",
      "4.03_Date_and_TimeDelta_in_Pandas.ipynb\n",
      "4.04_Working_with_Text_Data.ipynb\n",
      "HousePrices.csv\n",
      "Lesson_04_Knowledge_Checks.pptx\n",
      "Python_Shell.01.08.ipynb\n",
      "Weather_data.csv\n",
      "example_dir\n",
      "housing_data.csv\n",
      "log_2025-08-01.txt\n",
      "sample.txt\n",
      "\n",
      "After rename:\n",
      "4.01_Introduction_to_Pandas.ipynb\n",
      "4.02_Pandas_DataFrame.ipynb\n",
      "4.03_Date_and_TimeDelta_in_Pandas.ipynb\n",
      "4.04_Working_with_Text_Data.ipynb\n",
      "HousePrices.csv\n",
      "Lesson_04_Knowledge_Checks.pptx\n",
      "Python_Shell.01.08.ipynb\n",
      "Weather_data.csv\n",
      "housing_data.csv\n",
      "log_2025-08-01.txt\n",
      "renamed_dir\n",
      "sample.txt\n",
      "\n",
      "After rmdir:\n",
      "4.01_Introduction_to_Pandas.ipynb\n",
      "4.02_Pandas_DataFrame.ipynb\n",
      "4.03_Date_and_TimeDelta_in_Pandas.ipynb\n",
      "4.04_Working_with_Text_Data.ipynb\n",
      "HousePrices.csv\n",
      "Lesson_04_Knowledge_Checks.pptx\n",
      "Python_Shell.01.08.ipynb\n",
      "Weather_data.csv\n",
      "housing_data.csv\n",
      "log_2025-08-01.txt\n",
      "sample.txt\n"
     ]
    }
   ],
   "source": [
    "import os\n",
    "\n",
    "print(\"Before mkdir:\")\n",
    "for f in sorted(os.listdir('.')):\n",
    "    print(f)\n",
    "\n",
    "os.mkdir('example_dir')\n",
    "print(\"\\nAfter mkdir:\")\n",
    "for f in sorted(os.listdir('.')):\n",
    "    print(f)\n",
    "\n",
    "os.rename('example_dir', 'renamed_dir')\n",
    "print(\"\\nAfter rename:\")\n",
    "for f in sorted(os.listdir('.')):\n",
    "    print(f)\n",
    "\n",
    "os.rmdir('renamed_dir')\n",
    "print(\"\\nAfter rmdir:\")\n",
    "for f in sorted(os.listdir('.')):\n",
    "    print(f)\n"
   ]
  },
  {
   "cell_type": "markdown",
   "id": "ac1cb04e",
   "metadata": {},
   "source": [
    "The subprocess Module\n",
    "\n",
    "\n",
    "Concept:\n",
    "\n",
    "subprocess lets Python control other programs—run system commands, collect outputs, or chain tools together (as in Unix pipes).\n",
    "\n",
    "Explanation:\n",
    "\n",
    "Runs a shell command and neatly prints its output and exit status.\n",
    "\n",
    "Use Case:\n",
    "\n",
    "Integrate legacy tools or command-line utilities into Python workflows, or trigger OS-level jobs from inside data pipelines."
   ]
  },
  {
   "cell_type": "code",
   "execution_count": 16,
   "id": "cdf1f233",
   "metadata": {},
   "outputs": [
    {
     "name": "stdout",
     "output_type": "stream",
     "text": [
      "Directory listing (dir):\n",
      "Volume in drive C is OS\n",
      " Volume Serial Number is 749F-39EB\n",
      "\n",
      " Directory of c:\\Users\\jim\\OneDrive\\Desktop\\AMJ Group\\Teaching\\Class Materials\\Dell_GenAI\\Applied_Data_Science_With_Python_ILT_Materials_Sept_24\\Instructor_Materials\\0.1_Instructor_Slides_and_Notebooks\\Lesson_04_Working_With_Pandas\n",
      "\n",
      "08/01/2025  08:48 AM    <DIR>          .\n",
      "07/31/2025  06:53 PM    <DIR>          ..\n",
      "08/01/2025  05:01 AM            18,164 4.01_Introduction_to_Pandas.ipynb\n",
      "08/01/2025  06:16 AM            56,683 4.02_Pandas_DataFrame.ipynb\n",
      "08/01/2025  06:16 AM            52,029 4.03_Date_and_TimeDelta_in_Pandas.ipynb\n",
      "08/01/2025  06:15 AM           146,644 4.04_Working_with_Text_Data.ipynb\n",
      "06/05/2024  05:00 AM           526,795 HousePrices.csv\n",
      "06/05/2024  05:00 AM           477,205 housing_data.csv\n",
      "06/05/2024  04:59 AM         3,073,159 Lesson_04_Knowledge_Checks.pptx\n",
      "08/01/2025  08:29 AM               348 log_2025-08-01.txt\n",
      "08/01/2025  08:48 AM            35,863 Python_Shell.01.08.ipynb\n",
      "08/01/2025  08:26 AM               123 sample.txt\n",
      "06/05/2024  05:00 AM             1,215 Weather_data.csv\n",
      "              11 File(s)      4,388,228 bytes\n",
      "               2 Dir(s)  462,052,880,384 bytes free\n",
      "Exit code: 0\n"
     ]
    }
   ],
   "source": [
    "import subprocess\n",
    "\n",
    "# Use 'dir' for Windows. Also, shell=True is needed for built-in commands.\n",
    "result = subprocess.run('dir', capture_output=True, text=True, shell=True)\n",
    "print(\"Directory listing (dir):\")\n",
    "for line in result.stdout.strip().split('\\n'):\n",
    "    print(line)\n",
    "print(\"Exit code:\", result.returncode)\n",
    "\n"
   ]
  },
  {
   "cell_type": "markdown",
   "id": "1d248b31",
   "metadata": {},
   "source": [
    "Reading and Writing Files\n",
    "\n",
    "\n",
    "Concept:\n",
    "\n",
    "File I/O is foundational: create, read, update, or append to data and log files as part of any data pipeline or system monitoring.\n",
    "\n",
    "Explanation:\n",
    "\n",
    "Writes and then reads a file, printing each line cleanly.\n",
    "\n",
    "Use Case:\n",
    "\n",
    "Generate audit logs, save ETL checkpoints, or read configs for jobs."
   ]
  },
  {
   "cell_type": "code",
   "execution_count": 17,
   "id": "72e6d87e",
   "metadata": {},
   "outputs": [
    {
     "name": "stdout",
     "output_type": "stream",
     "text": [
      "Contents of sample.txt:\n",
      "Line one\n",
      "Line two\n",
      "Python scripting!\n"
     ]
    }
   ],
   "source": [
    "# Write and read a file with organized output\n",
    "with open('sample.txt', 'w') as f:\n",
    "    f.write('Line one\\nLine two\\nPython scripting!')\n",
    "\n",
    "print(\"Contents of sample.txt:\")\n",
    "with open('sample.txt') as f:\n",
    "    for line in f:\n",
    "        print(line.strip())\n"
   ]
  },
  {
   "cell_type": "markdown",
   "id": "c2957096",
   "metadata": {},
   "source": [
    "Miscellaneous File Operations: shutil\n",
    "\n",
    "\n",
    "Concept:\n",
    "\n",
    "Use shutil for copying, moving, and deleting files and directories—especially for workflow automation or safe archiving.\n",
    "\n",
    "Explanation:\n",
    "\n",
    "Demonstrates copy, move, and delete, with output after each action.\n",
    "\n",
    "Use Case:\n",
    "\n",
    "Stage intermediate files, implement safe ETL \"move-then-delete,\" or organize nightly data backups."
   ]
  },
  {
   "cell_type": "code",
   "execution_count": 18,
   "id": "c0e00b44",
   "metadata": {},
   "outputs": [
    {
     "name": "stdout",
     "output_type": "stream",
     "text": [
      "After copy:\n",
      "4.01_Introduction_to_Pandas.ipynb\n",
      "4.02_Pandas_DataFrame.ipynb\n",
      "4.03_Date_and_TimeDelta_in_Pandas.ipynb\n",
      "4.04_Working_with_Text_Data.ipynb\n",
      "HousePrices.csv\n",
      "Lesson_04_Knowledge_Checks.pptx\n",
      "Python_Shell.01.08.ipynb\n",
      "Weather_data.csv\n",
      "file1.txt\n",
      "file2.txt\n",
      "housing_data.csv\n",
      "log_2025-08-01.txt\n",
      "sample.txt\n",
      "\n",
      "After move:\n",
      "4.01_Introduction_to_Pandas.ipynb\n",
      "4.02_Pandas_DataFrame.ipynb\n",
      "4.03_Date_and_TimeDelta_in_Pandas.ipynb\n",
      "4.04_Working_with_Text_Data.ipynb\n",
      "HousePrices.csv\n",
      "Lesson_04_Knowledge_Checks.pptx\n",
      "Python_Shell.01.08.ipynb\n",
      "Weather_data.csv\n",
      "file1.txt\n",
      "housing_data.csv\n",
      "log_2025-08-01.txt\n",
      "moved_file.txt\n",
      "sample.txt\n",
      "\n",
      "After cleanup:\n",
      "4.01_Introduction_to_Pandas.ipynb\n",
      "4.02_Pandas_DataFrame.ipynb\n",
      "4.03_Date_and_TimeDelta_in_Pandas.ipynb\n",
      "4.04_Working_with_Text_Data.ipynb\n",
      "HousePrices.csv\n",
      "Lesson_04_Knowledge_Checks.pptx\n",
      "Python_Shell.01.08.ipynb\n",
      "Weather_data.csv\n",
      "housing_data.csv\n",
      "log_2025-08-01.txt\n",
      "sample.txt\n"
     ]
    }
   ],
   "source": [
    "import shutil, os\n",
    "\n",
    "with open('file1.txt', 'w') as f:\n",
    "    f.write('Sample data')\n",
    "\n",
    "shutil.copy2('file1.txt', 'file2.txt')\n",
    "print(\"After copy:\")\n",
    "for f in sorted(os.listdir('.')):\n",
    "    print(f)\n",
    "\n",
    "shutil.move('file2.txt', 'moved_file.txt')\n",
    "print(\"\\nAfter move:\")\n",
    "for f in sorted(os.listdir('.')):\n",
    "    print(f)\n",
    "\n",
    "os.remove('moved_file.txt')\n",
    "os.remove('file1.txt')\n",
    "print(\"\\nAfter cleanup:\")\n",
    "for f in sorted(os.listdir('.')):\n",
    "    print(f)\n"
   ]
  },
  {
   "cell_type": "markdown",
   "id": "ce45cc9c",
   "metadata": {},
   "source": [
    "Replacing sed, grep, awk: Text Processing\n",
    "\n",
    "\n",
    "Concept:\n",
    "\n",
    "Pattern search, replace, and field extraction are the backbone of log analysis, config editing, and data wrangling.\n",
    "\n",
    "Explanation:\n",
    "\n",
    "Prints only lines containing the word 'Python' (grep-like functionality).\n",
    "\n",
    "Use Case:\n",
    "\n",
    "Search for errors in log files, filter data records, or validate that ETL steps completed.[grep]\n",
    "\n",
    "Finds lines containing \"Python\" (substring search, like grep Python sample.txt).\n",
    "\n",
    "[grep with regex]\n",
    "\n",
    "Finds lines ending with \"Processing\" using a regular expression (like grep 'Processing$' sample.txt).\n",
    "\n",
    "[sed]\n",
    "\n",
    "Replaces \"Shell\" with \"Terminal\" in every line (sed 's/Shell/Terminal/g' sample.txt).\n",
    "\n",
    "[sed with regex]\n",
    "\n",
    "Uses regex to replace any word starting with Data (e.g., \"DataA\" → \"Entry\") (sed -E 's/Data\\w*/Entry/g').\n",
    "\n",
    "[awk]\n",
    "\n",
    "Prints the second field from comma-separated lines (like awk -F, '{print $2}' sample.txt)."
   ]
  },
  {
   "cell_type": "code",
   "execution_count": 19,
   "id": "783ae95c",
   "metadata": {},
   "outputs": [
    {
     "name": "stdout",
     "output_type": "stream",
     "text": [
      "\n",
      "[grep] Lines containing 'Python':\n",
      "Python Shell Automation Pythonic\n",
      "Python is powerful\n",
      "\n",
      "[grep with regex] Lines ending with 'Processing':\n",
      "Unix Shell Text Processing\n",
      "\n",
      "[sed] Replace 'Shell' with 'Terminal' in each line:\n",
      "Python Terminal Automation Pythonic\n",
      "Unix Terminal Text Processing\n",
      "Python is powerful\n",
      "Field1,Field2,Field3\n",
      "DataA,DataB,DataC\n",
      "\n",
      "[sed with regex] Replace words starting with 'Data' with 'Entry':\n",
      "Python Shell Automation Pythonic\n",
      "Unix Shell Text Processing\n",
      "Python is powerful\n",
      "Field1,Field2,Field3\n",
      "Entry,Entry,Entry\n",
      "\n",
      "[awk] Print the second field from CSV lines:\n",
      "Field2\n",
      "DataB\n"
     ]
    }
   ],
   "source": [
    "# Create a test file (simulates a log, CSV, or data dump)\n",
    "with open('sample.txt', 'w') as f:\n",
    "    f.write(\"Python Shell Automation Pythonic\\n\")\n",
    "    f.write(\"Unix Shell Text Processing\\n\")\n",
    "    f.write(\"Python is powerful\\n\")\n",
    "    f.write(\"Field1,Field2,Field3\\n\")\n",
    "    f.write(\"DataA,DataB,DataC\\n\")\n",
    "\n",
    "# --- grep-like: Print lines containing 'Python'\n",
    "print(\"\\n[grep] Lines containing 'Python':\")\n",
    "with open('sample.txt') as f:\n",
    "    for line in f:\n",
    "        if 'Python' in line:\n",
    "            print(line.strip())\n",
    "\n",
    "# --- grep with regex: Print lines ending with 'Processing'\n",
    "import re\n",
    "print(\"\\n[grep with regex] Lines ending with 'Processing':\")\n",
    "pattern = r'Processing$'\n",
    "with open('sample.txt') as f:\n",
    "    for line in f:\n",
    "        if re.search(pattern, line):\n",
    "            print(line.strip())\n",
    "\n",
    "# --- sed-like: Replace 'Shell' with 'Terminal' in every line\n",
    "print(\"\\n[sed] Replace 'Shell' with 'Terminal' in each line:\")\n",
    "with open('sample.txt') as f:\n",
    "    for line in f:\n",
    "        print(line.replace('Shell', 'Terminal').strip())\n",
    "\n",
    "# --- sed with regex: Replace any word starting with 'Data' with 'Entry'\n",
    "print(\"\\n[sed with regex] Replace words starting with 'Data' with 'Entry':\")\n",
    "pattern = r'Data\\w*'\n",
    "with open('sample.txt') as f:\n",
    "    for line in f:\n",
    "        print(re.sub(pattern, 'Entry', line).strip())\n",
    "\n",
    "# --- awk-like: Print the second field (column) from comma-separated lines\n",
    "print(\"\\n[awk] Print the second field from CSV lines:\")\n",
    "with open('sample.txt') as f:\n",
    "    for line in f:\n",
    "        if ',' in line:\n",
    "            fields = line.strip().split(',')\n",
    "            if len(fields) > 1:\n",
    "                print(fields[1])\n"
   ]
  },
  {
   "cell_type": "markdown",
   "id": "4e96e42a",
   "metadata": {},
   "source": [
    "Dealing with Exit Codes and IO\n",
    "\n",
    "Concept:\n",
    "\n",
    "Always check exit codes when automating—catch failures, trigger alerts, or take alternate actions.\n",
    "\n",
    "Explanation:\n",
    "\n",
    "Attempts to list a non-existent folder, shows exit code and error.\n",
    "\n",
    "Use Case:\n",
    "\n",
    "In robust batch jobs, use this to catch errors, log them, or send notifications when a process fails."
   ]
  },
  {
   "cell_type": "code",
   "execution_count": 21,
   "id": "53d6bbd6",
   "metadata": {},
   "outputs": [
    {
     "name": "stdout",
     "output_type": "stream",
     "text": [
      "Exit code: 1\n",
      "Error output: File Not Found\n"
     ]
    }
   ],
   "source": [
    "import subprocess\n",
    "\n",
    "# Try to list a non-existent directory on Windows\n",
    "proc = subprocess.run('dir non_existent_dir', capture_output=True, text=True, shell=True)\n",
    "print(\"Exit code:\", proc.returncode)\n",
    "if proc.returncode != 0:\n",
    "    print(\"Error output:\", proc.stderr.strip())\n",
    "\n"
   ]
  },
  {
   "cell_type": "markdown",
   "id": "35520928",
   "metadata": {},
   "source": [
    "Time and Date Utilities\n",
    "\n",
    "Concept:\n",
    "\n",
    "Time/date are crucial for logs, audit trails, timestamped filenames, or scheduling.\n",
    "\n",
    "Explanation:\n",
    "\n",
    "Prints human-readable time and full datetime.\n",
    "\n",
    "Use Case:\n",
    "\n",
    "Add timestamps to filenames, generate daily reports, or schedule cron-like tasks."
   ]
  },
  {
   "cell_type": "code",
   "execution_count": null,
   "id": "59b6f4f2",
   "metadata": {},
   "outputs": [],
   "source": [
    "import time, datetime\n",
    "\n",
    "print(\"Current time:\", time.strftime('%Y-%m-%d %H:%M:%S'))\n",
    "print(\"Datetime object:\", datetime.datetime.now())\n"
   ]
  },
  {
   "cell_type": "markdown",
   "id": "34217d90",
   "metadata": {},
   "source": [
    "Shell Scripting in Python: Mini-Project\n",
    "\n",
    "Concept:\n",
    "\n",
    "Pull together everything learned to automate and log a full workflow.\n",
    "\n",
    "Explanation:\n",
    "\n",
    "Logs the current directory contents and timestamp to a dated file, then prints it out.\n",
    "\n",
    "Use Case:\n",
    "\n",
    "Daily ETL job log, automated system inventory, or dataset change tracking."
   ]
  },
  {
   "cell_type": "code",
   "execution_count": 22,
   "id": "198cff6c",
   "metadata": {},
   "outputs": [
    {
     "name": "stdout",
     "output_type": "stream",
     "text": [
      "Wrote log file: log_2025-08-01.txt\n",
      "Log file contents:\n",
      "Files and folders:\n",
      "4.01_Introduction_to_Pandas.ipynb\n",
      "4.02_Pandas_DataFrame.ipynb\n",
      "4.03_Date_and_TimeDelta_in_Pandas.ipynb\n",
      "4.04_Working_with_Text_Data.ipynb\n",
      "HousePrices.csv\n",
      "Lesson_04_Knowledge_Checks.pptx\n",
      "Python_Shell.01.08.ipynb\n",
      "Weather_data.csv\n",
      "housing_data.csv\n",
      "log_2025-08-01.txt\n",
      "sample.txt\n",
      "\n",
      "Date completed: 2025-08-01 08:49:47.723522\n"
     ]
    }
   ],
   "source": [
    "import os, datetime\n",
    "\n",
    "log_file = f\"log_{datetime.date.today()}.txt\"\n",
    "with open(log_file, 'w') as f:\n",
    "    f.write(\"Files and folders:\\n\")\n",
    "    for file in sorted(os.listdir('.')):\n",
    "        f.write(f\"{file}\\n\")\n",
    "    f.write(\"\\nDate completed: \" + str(datetime.datetime.now()))\n",
    "\n",
    "print(\"Wrote log file:\", log_file)\n",
    "print(\"Log file contents:\")\n",
    "with open(log_file) as f:\n",
    "    for line in f:\n",
    "        print(line.strip())\n"
   ]
  },
  {
   "cell_type": "markdown",
   "id": "72c3321a",
   "metadata": {},
   "source": [
    "Web Scraping with Python (Preview)\n",
    "\n",
    "Concept:\n",
    "\n",
    "Modern Python shell scripting extends to web scraping and HTTP automation.\n",
    "\n",
    "Explanation:\n",
    "\n",
    "Fetches a page and prints its <title>—a first step in web scraping.\n",
    "\n",
    "Use Case:\n",
    "\n",
    "Automate extraction of public datasets, monitor website updates, or pipeline scraped data directly into your data lake."
   ]
  },
  {
   "cell_type": "code",
   "execution_count": 23,
   "id": "e72353de",
   "metadata": {},
   "outputs": [
    {
     "name": "stdout",
     "output_type": "stream",
     "text": [
      "Page title: Example Domain\n"
     ]
    }
   ],
   "source": [
    "import requests\n",
    "from bs4 import BeautifulSoup\n",
    "\n",
    "url = 'https://example.com'\n",
    "res = requests.get(url)\n",
    "soup = BeautifulSoup(res.text, 'html.parser')\n",
    "print(\"Page title:\", soup.title.text)\n"
   ]
  },
  {
   "cell_type": "markdown",
   "id": "3face45e",
   "metadata": {},
   "source": [
    "## Detailed Explanations: Django Minimal Class-Based View Demo\n",
    "\n",
    "---\n",
    "\n",
    "**Cell 1: Project Setup (Terminal Commands)**\n",
    "\n",
    "In this step, we install Django (if it’s not already present), create a new Django project called `mysite`, enter the project directory, and create a new application called `demo`.  \n",
    "- `django-admin startproject mysite` initializes a new Django project with all the necessary settings and management files.\n",
    "- `python manage.py startapp demo` creates a reusable application module for your Django project, where you’ll write your views and logic.\n",
    "\n",
    "---\n",
    "\n",
    "**Cell 2: Creating a Class-Based View (`demo/views.py`)**\n",
    "\n",
    "Here, we define a new Python class called `HelloDjangoView` that inherits from Django’s built-in `View` class.  \n",
    "- The `get` method is triggered for HTTP GET requests.  \n",
    "- `return HttpResponse(\"Hello, Django!\")` means any request to this view will return a simple text message as the HTTP response.  \n",
    "- Class-based views are powerful because they allow you to organize logic and use built-in Django features for more complex web apps.\n",
    "\n",
    "---\n",
    "\n",
    "**Cell 3: Mapping the View to a URL (`demo/urls.py`)**\n",
    "\n",
    "This file creates a URL mapping so Django knows which Python function or class to call for a given URL.\n",
    "- We import our `HelloDjangoView` and map the URL path `'hello/'` to it using `HelloDjangoView.as_view()`.\n",
    "- This means that any user visiting `/hello/` on the site will trigger this view and see our message.\n",
    "\n",
    "---\n",
    "\n",
    "**Cell 4: Including the App’s URLs in the Project (`mysite/urls.py`)**\n",
    "\n",
    "Django projects can have many apps. The main `urls.py` in your project tells Django to route requests to each app’s own `urls.py`.\n",
    "- We add `path('', include('demo.urls'))` to tell Django to include the URL patterns from our `demo` app at the root level.\n",
    "- Now, `/hello/` (and any other demo app URLs you define) will work when you run your project.\n",
    "\n",
    "---\n",
    "\n",
    "**Cell 5: Running the Development Server**\n",
    "\n",
    "We use `python manage.py runserver` to start Django’s built-in development web server.\n",
    "- This allows you to test your site locally in a browser.\n",
    "- When you go to [http://127.0.0.1:8000/hello/](http://127.0.0.1:8000/hello/), Django matches the URL to your `HelloDjangoView` and returns \"Hello, Django!\".\n",
    "\n",
    "---\n",
    "\n",
    "**Summary:**  \n",
    "In these five steps, you created a working Django project, set up a minimal app, built and connected a class-based view, and started the server to serve your new web page.  \n",
    "This demo illustrates the core flow of all Django projects: **routing a URL to a Python class that generates an HTTP response.**\n"
   ]
  },
  {
   "cell_type": "code",
   "execution_count": null,
   "id": "82e8cca8",
   "metadata": {},
   "outputs": [],
   "source": [
    "\n",
    "!pip install django\n",
    "!django-admin startproject mysite\n",
    "!cd mysite && python manage.py startapp demo\n",
    "\n"
   ]
  },
  {
   "cell_type": "code",
   "execution_count": null,
   "id": "1d2e0c1a",
   "metadata": {},
   "outputs": [],
   "source": [
    "from django.http import HttpResponse\n",
    "from django.views import View\n",
    "\n",
    "class HelloDjangoView(View):\n",
    "    def get(self, request):\n",
    "        return HttpResponse(\"Hello, Django!\")\n"
   ]
  },
  {
   "cell_type": "code",
   "execution_count": null,
   "id": "404e8fc9",
   "metadata": {},
   "outputs": [],
   "source": [
    "from django.urls import path\n",
    "from .views import HelloDjangoView\n",
    "\n",
    "urlpatterns = [\n",
    "    path('hello/', HelloDjangoView.as_view(), name='hello_django'),\n",
    "]\n"
   ]
  },
  {
   "cell_type": "code",
   "execution_count": null,
   "id": "2a77d9cf",
   "metadata": {},
   "outputs": [],
   "source": [
    "from django.contrib import admin\n",
    "from django.urls import path, include\n",
    "\n",
    "urlpatterns = [\n",
    "    path('admin/', admin.site.urls),\n",
    "    path('', include('demo.urls')),\n",
    "]\n"
   ]
  },
  {
   "cell_type": "code",
   "execution_count": null,
   "id": "fd050849",
   "metadata": {},
   "outputs": [],
   "source": [
    "python manage.py runserver\n"
   ]
  },
  {
   "cell_type": "code",
   "execution_count": null,
   "id": "928729af",
   "metadata": {},
   "outputs": [],
   "source": []
  },
  {
   "cell_type": "code",
   "execution_count": null,
   "id": "653cfb59",
   "metadata": {},
   "outputs": [],
   "source": []
  },
  {
   "cell_type": "code",
   "execution_count": null,
   "id": "a3405cb5",
   "metadata": {},
   "outputs": [],
   "source": []
  },
  {
   "cell_type": "code",
   "execution_count": null,
   "id": "51d4199a",
   "metadata": {},
   "outputs": [],
   "source": []
  }
 ],
 "metadata": {
  "kernelspec": {
   "display_name": "Python 3",
   "language": "python",
   "name": "python3"
  },
  "language_info": {
   "codemirror_mode": {
    "name": "ipython",
    "version": 3
   },
   "file_extension": ".py",
   "mimetype": "text/x-python",
   "name": "python",
   "nbconvert_exporter": "python",
   "pygments_lexer": "ipython3",
   "version": "3.11.9"
  }
 },
 "nbformat": 4,
 "nbformat_minor": 5
}
