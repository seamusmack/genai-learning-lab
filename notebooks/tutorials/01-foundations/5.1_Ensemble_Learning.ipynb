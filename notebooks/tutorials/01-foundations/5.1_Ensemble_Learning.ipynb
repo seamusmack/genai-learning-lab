{
  "cells": [
    {
      "cell_type": "markdown",
      "metadata": {
        "id": "NHIG1d9_l34n"
      },
      "source": [
        "# __Ensemble Learning__"
      ]
    },
    {
      "cell_type": "markdown",
      "metadata": {
        "id": "Frqpzxjtl34r"
      },
      "source": [
        "## __Agenda__"
      ]
    },
    {
      "cell_type": "markdown",
      "metadata": {
        "id": "wuAtQRq_jrIR"
      },
      "source": [
        "- Introduction to ensemble learning\n",
        "    * Goals of ensemble learning\n",
        "    * Importance of ensemble learning\n",
        "    * Weak and Strong learners in Ensemble learning\n",
        "- Categories in ensemble learning\n",
        "    * Sequential ensemble technique\n",
        "    * Parallel ensemble technique\n",
        "- Simple techniques used in ensemble learning\n",
        "    * Voting\n",
        "        * Hard Voting\n",
        "        * Soft Voting\n",
        "- Advanced techniques used in ensemble learning\n",
        "    * Bagging (bootstrap aggregating)\n",
        "        * Bagging Techniques\n",
        "        * Advantages of bagging\n",
        "        * Disadvantages of bagging\n",
        "        * Out-of-bag (OOB) concept\n",
        "    * Boosting\n",
        "        * Boosting Techniques\n",
        "        * Advantages of boosting\n",
        "        * Disadvantages of boosting\n",
        "    * Stacking\n",
        "        * Advantages of stacking\n",
        "        * Disadvantages of stacking\n",
        "\n"
      ]
    },
    {
      "cell_type": "markdown",
      "metadata": {
        "id": "ATRhnmJrl34t"
      },
      "source": [
        "## __1. Introduction to Ensemble Learning__\n",
        "\n",
        "Ensemble learning combines multiple models to enhance the overall performance of machine learning algorithms. The fundamental principle of ensemble learning is combining predictions from multiple individual models to produce a more accurate and robust prediction than any single model."
      ]
    },
    {
      "cell_type": "markdown",
      "metadata": {
        "id": "Y4O1F-Znl34u"
      },
      "source": [
        "### __1.1 Goals of Ensemble Learning__\n",
        "\n",
        "- Enhance predictive accuracy by combining multiple models.\n",
        "- Improve model robustness and generalization performance."
      ]
    },
    {
      "cell_type": "markdown",
      "metadata": {
        "id": "Wd6HSXdsl34u"
      },
      "source": [
        "\n",
        "![link text](https://labcontent.simplicdn.net/data-content/content-assets/Data_and_AI/ML/Lesson_07/ensemble_learning.png)"
      ]
    },
    {
      "cell_type": "markdown",
      "metadata": {
        "id": "IHxacRO_l34v"
      },
      "source": [
        "__Example:__ Imagine you are deciding whether to go outside based on weather predictions. Instead of relying on just one weather forecast, you check multiple sources, like the weather app, a meteorologist's report, and a weather website. You then combine these predictions to make your decision.\n",
        "\n",
        "This process mirrors ensemble learning, where combining multiple models (or weather forecasts) results in a more accurate prediction (or decision) than any single model could offer."
      ]
    },
    {
      "cell_type": "markdown",
      "metadata": {
        "id": "vHrOIMF5l34v"
      },
      "source": [
        " ### __1.2 Importance of Ensemble Learning__\n",
        "\n",
        "- Improves prediction accuracy by combining diverse models\n",
        "- Enhances model resilience and robustness against uncertainties\n",
        "- Mitigates biases and errors present in individual models\n",
        "- Captures a wide range of perspectives to achieve better performance\n",
        "- Provides reliable and robust forecasts across various domains, ensuring more dependable outcomes"
      ]
    },
    {
      "cell_type": "markdown",
      "metadata": {
        "id": "lCHMABXNUmhm"
      },
      "source": [
        " ### __1.3 Weak and Strong learners in Ensemble Learning__\n",
        "- A **Weak learner** (WL) or **Base learner** is a learning algorithm\n",
        "capable of producing classifiers with probability of error strictly (but only slightly) less than that of random guessing (0.5, in the case of binary)\n",
        "\n",
        "- On the other hand, **Strong learner** (SL) is able (given enough training data) to yield classifiers with arbitrarily small error probability. It performs much better than random guessing.\n",
        "  \n",
        "An ensemble (or committee) of classifiers is a classifier build upon some\n",
        "combination of Weak learner. The strategy of boosting, and ensembles of classifiers, is to learn many weak classifiers and combine them, instead of trying to learn a single Strong learner"
      ]
    },
    {
      "cell_type": "markdown",
      "metadata": {
        "id": "GB1krYkml34w"
      },
      "source": [
        "## __2. Categories in Ensemble Learning__"
      ]
    },
    {
      "cell_type": "markdown",
      "metadata": {
        "id": "o09_VTdHl34w"
      },
      "source": [
        "Ensemble learning can be broadly classified into two categories:\n",
        "- Sequential ensemble technique\n",
        "- Parallel ensemble technique"
      ]
    },
    {
      "cell_type": "markdown",
      "metadata": {
        "id": "NfV7RXRxl34x"
      },
      "source": [
        "### __2.1 Sequential Ensemble Technique__"
      ]
    },
    {
      "cell_type": "markdown",
      "metadata": {
        "id": "bCg-QnGCl34x"
      },
      "source": [
        "These techniques train models sequentially, with each model attempting to correct its predecessor's errors. This technique focuses on improving the overall performance of the ensemble by iteratively refining predictions. An example of this approach is boosting.\n",
        "\n",
        "__Note:__ It typically employs weak learners as base estimators because these learners initially have higher error rates."
      ]
    },
    {
      "cell_type": "markdown",
      "metadata": {
        "id": "gNqTZ94Il34x"
      },
      "source": [
        "The steps involved in the sequential ensemble technique depend on the data structure and the requirements of the application. They are:\n",
        "1. __Base Model Selection__: Choose the initial model.\n",
        "2. __Sequential Training__: Train models one after the other.\n",
        "3. __Error Correction__: Each model learns from previous mistakes.\n",
        "4. __Prediction Refinement__: Iteratively refine predictions.\n",
        "5. __Combining Predictions__: Combine predictions from all models.\n",
        "6. __Evaluation__: Assess ensemble performance using metrics."
      ]
    },
    {
      "cell_type": "markdown",
      "metadata": {
        "id": "nJBhi5bil34x"
      },
      "source": [
        "\n",
        "![link text](https://labcontent.simplicdn.net/data-content/content-assets/Data_and_AI/ML/Lesson_07/Sequential_Ensemble_Technique.png)\n",
        "\n",
        "__Note:__ If all four base models are of the same type, it is considered to be a homogeneous ensemble. If they are different, it is considered heterogeneous."
      ]
    },
    {
      "cell_type": "markdown",
      "metadata": {
        "id": "XoJpKDGbl34y"
      },
      "source": [
        "The diagram above shows the training data divided into four samples, with each sample trained on a distinct base model. Insights gained from model M1 are passed to model M2 alongside sample S2. M2 then adjusts its weights and biases based on the outcomes of M1. This process repeats for models 2, 3, and 4. Finally, all the learners are combined using a weighted averaging strategy.\n",
        "\n",
        "The summation sign ($ ∑ $) indicates the function that adjusts the model to improve its overall performance."
      ]
    },
    {
      "cell_type": "markdown",
      "metadata": {
        "id": "r8EehvwSl34y"
      },
      "source": [
        "__The sequential ensemble technique is employed when dealing with:__\n",
        "- Complex relationships between input features and the target variable\n",
        "- Diverse data types, including numerical, categorical, and textual data\n",
        "- Imbalanced datasets, where skewed class distributions pose classification challenges.\n",
        "- Incremental updates are needed to adapt models gradually to evolving data over time"
      ]
    },
    {
      "cell_type": "markdown",
      "metadata": {
        "id": "tea0RTkEl34y"
      },
      "source": [
        "### __2.2 Parallel Ensemble Technique__"
      ]
    },
    {
      "cell_type": "markdown",
      "metadata": {
        "id": "bphih-2El34z"
      },
      "source": [
        "The parallel ensemble technique concurrently trains models. They combine the predictions from multiple models to improve the final output. Bagging and Random Forest algorithms are examples of parallel ensemble techniques.\n",
        "\n",
        "__Note:__  It employs stronger learners as base estimators."
      ]
    },
    {
      "cell_type": "markdown",
      "metadata": {
        "id": "qhDXNIQ4l34z"
      },
      "source": [
        "The steps involved in the parallel ensemble technique are:\n",
        "\n",
        "1. __Data Partitioning__: Divide the dataset into subsets\n",
        "2. __Model Training__: Train models concurrently on subsets\n",
        "3. __Prediction__: Models make independent predictions\n",
        "4. __Combining Predictions__: Aggregate predictions using techniques like voting or averaging\n",
        "5. __Evaluation__: Assess ensemble performance using metrics"
      ]
    },
    {
      "cell_type": "markdown",
      "metadata": {
        "id": "DdT_g1-5l34z"
      },
      "source": [
        "\n",
        "![link text](https://labcontent.simplicdn.net/data-content/content-assets/Data_and_AI/ML/Lesson_07/Parallel_Ensemble_Technique.png)"
      ]
    },
    {
      "cell_type": "markdown",
      "metadata": {
        "id": "Y9AikuvHl34z"
      },
      "source": [
        "In the above diagram, the training data is divided into four samples, labeled S1 to S4, each trained on a distinct base model (M1 to M4). Unlike the sequential ensemble technique, the data in the base learners is independent. This independence of base learners significantly reduces the error due to the application of averages.\n",
        "\n",
        "The summation sign ($ ∑ $) indicates the aggregated model with improved performance, which has been learned from all independent base models, M1 to M4."
      ]
    },
    {
      "cell_type": "markdown",
      "metadata": {
        "id": "CiCFb0nJl34z"
      },
      "source": [
        "The parallel ensemble technique is used to:\n",
        "\n",
        "- Enhance scalability, allowing for the efficient processing of large volumes of data by distributing the workload\n",
        "-  Expedite training and prediction processes through parallel computation on multi-core systems.\n",
        "- Reduce susceptibility to noise and overfitting by averaging out individual model errors.\n",
        "- Capture diverse data patterns effectively by utilizing different models trained on varied data subsets"
      ]
    },
    {
      "cell_type": "markdown",
      "metadata": {
        "id": "oOekR2Bjl340"
      },
      "source": [
        "## __3. Technique used in Ensemble Learning__\n",
        "\n",
        "* Voting\n",
        "\n",
        "\n"
      ]
    },
    {
      "cell_type": "markdown",
      "metadata": {
        "id": "ozZMP5gkuTmE"
      },
      "source": [
        "## __3.1 Voting__\n",
        "\n",
        "Voting is one of the fundamental methods of ensemble learning. It involves aggregating the predictions from multiple models to arrive at a final prediction.\n",
        "Two common types of voting in ensemble learning are:\n",
        "* Majority voting/Hard voting\n",
        "* Weighted voting/Soft voting.\n",
        "\n"
      ]
    },
    {
      "cell_type": "markdown",
      "metadata": {
        "id": "KrCsQihDl340"
      },
      "source": [
        "### __3.1.1 Majority Voting/Hard Voting__\n",
        "\n",
        "Majority Voting or Hard Voting is an ensemble learning classification technique. It involves multiple models, making predictions for each data point. Each model's prediction is considered a __vote__. The final prediction is determined by the majority vote among the models.\n",
        "\n",
        "__Example:__\n",
        "    \n",
        "- Majority Voting ensemble works on breast cancer classification by combining predictions from multiple individual classifiers, such as Logistic Regression, Decision Tree, and Support Vector Machine.\n",
        "- Each classifier provides its prediction for whether a given sample belongs to a certain class. The voting ensemble then aggregates these predictions using a voting mechanism.\n",
        "- The final prediction is determined based on the most commonly predicted class among all classifiers.\n",
        "- This approach leverages the collective wisdom of diverse models to improve overall prediction accuracy and robustness in breast cancer classification tasks.    "
      ]
    },
    {
      "cell_type": "markdown",
      "metadata": {
        "id": "F_fZz1N0c4_P"
      },
      "source": [
        "Let's look at an implementation of majority voting using a breast cancer classification dataset."
      ]
    },
    {
      "cell_type": "code",
      "execution_count": 7,
      "metadata": {
        "id": "KJeXngLpl340"
      },
      "outputs": [],
      "source": [
        "# Import necessary libraries\n",
        "import pandas as pd\n",
        "import numpy as np\n",
        "import matplotlib.pyplot as plt\n",
        "from sklearn.metrics import classification_report\n",
        "from sklearn.metrics import confusion_matrix, ConfusionMatrixDisplay\n",
        "from sklearn.impute import SimpleImputer\n",
        "from sklearn.preprocessing import MinMaxScaler\n",
        "from sklearn.metrics import r2_score\n",
        "from sklearn.linear_model import LogisticRegression\n",
        "from sklearn.tree import DecisionTreeClassifier\n",
        "from sklearn.svm import SVC\n",
        "from sklearn.ensemble import VotingClassifier\n",
        "from sklearn import model_selection\n",
        "from sklearn.model_selection import train_test_split, KFold\n",
        "from sklearn.model_selection import cross_val_score\n"
      ]
    },
    {
      "cell_type": "code",
      "execution_count": 8,
      "metadata": {
        "id": "zxSDrklgl342"
      },
      "outputs": [],
      "source": [
        "# Load the dataset from the specified URL and assign column names to the DataFrame\n",
        "data = pd.read_csv('https://archive.ics.uci.edu/ml/machine-learning-databases/breast-cancer-wisconsin/breast-cancer-wisconsin.data', header=None)\n",
        "data.columns = ['Sample code', 'Clump Thickness', 'Uniformity of Cell Size', 'Uniformity of Cell Shape',\n",
        "                'Marginal Adhesion', 'Single Epithelial Cell Size', 'Bare Nuclei', 'Bland Chromatin',\n",
        "                'Normal Nucleoli', 'Mitoses', 'Class']"
      ]
    },
    {
      "cell_type": "code",
      "execution_count": 9,
      "metadata": {
        "id": "mU2veRIVl343"
      },
      "outputs": [],
      "source": [
        "# Drop the 'Sample code' column as it's not required for prediction\n",
        "data.drop(['Sample code'], axis=1, inplace=True)\n",
        "\n",
        "# Replace '?' with nan to handle missing data, ensuring numerical analysis accuracy and preventing calculation errors.\n",
        "data = data.replace('?', np.nan)"
      ]
    },
    {
      "cell_type": "code",
      "execution_count": 10,
      "metadata": {
        "id": "lzDD5TVz6nJ2"
      },
      "outputs": [],
      "source": [
        "# Convert the 'Bare Nuclei' column to an integer type to ensure a uniform data type across the column,\n",
        "# which is essential for consistent data manipulation and analysis.\n",
        "data['Bare Nuclei'] = pd.to_numeric(data['Bare Nuclei']).fillna(0).astype('int64')"
      ]
    },
    {
      "cell_type": "code",
      "execution_count": 11,
      "metadata": {
        "colab": {
          "base_uri": "https://localhost:8080/",
          "height": 241
        },
        "id": "uA5ULfR568qT",
        "outputId": "34fe6237-67a6-43be-fad6-d90021e75c67"
      },
      "outputs": [
        {
          "data": {
            "text/html": [
              "<div>\n",
              "<style scoped>\n",
              "    .dataframe tbody tr th:only-of-type {\n",
              "        vertical-align: middle;\n",
              "    }\n",
              "\n",
              "    .dataframe tbody tr th {\n",
              "        vertical-align: top;\n",
              "    }\n",
              "\n",
              "    .dataframe thead th {\n",
              "        text-align: right;\n",
              "    }\n",
              "</style>\n",
              "<table border=\"1\" class=\"dataframe\">\n",
              "  <thead>\n",
              "    <tr style=\"text-align: right;\">\n",
              "      <th></th>\n",
              "      <th>Clump Thickness</th>\n",
              "      <th>Uniformity of Cell Size</th>\n",
              "      <th>Uniformity of Cell Shape</th>\n",
              "      <th>Marginal Adhesion</th>\n",
              "      <th>Single Epithelial Cell Size</th>\n",
              "      <th>Bare Nuclei</th>\n",
              "      <th>Bland Chromatin</th>\n",
              "      <th>Normal Nucleoli</th>\n",
              "      <th>Mitoses</th>\n",
              "      <th>Class</th>\n",
              "    </tr>\n",
              "  </thead>\n",
              "  <tbody>\n",
              "    <tr>\n",
              "      <th>0</th>\n",
              "      <td>5</td>\n",
              "      <td>1</td>\n",
              "      <td>1</td>\n",
              "      <td>1</td>\n",
              "      <td>2</td>\n",
              "      <td>1</td>\n",
              "      <td>3</td>\n",
              "      <td>1</td>\n",
              "      <td>1</td>\n",
              "      <td>2</td>\n",
              "    </tr>\n",
              "    <tr>\n",
              "      <th>1</th>\n",
              "      <td>5</td>\n",
              "      <td>4</td>\n",
              "      <td>4</td>\n",
              "      <td>5</td>\n",
              "      <td>7</td>\n",
              "      <td>10</td>\n",
              "      <td>3</td>\n",
              "      <td>2</td>\n",
              "      <td>1</td>\n",
              "      <td>2</td>\n",
              "    </tr>\n",
              "    <tr>\n",
              "      <th>2</th>\n",
              "      <td>3</td>\n",
              "      <td>1</td>\n",
              "      <td>1</td>\n",
              "      <td>1</td>\n",
              "      <td>2</td>\n",
              "      <td>2</td>\n",
              "      <td>3</td>\n",
              "      <td>1</td>\n",
              "      <td>1</td>\n",
              "      <td>2</td>\n",
              "    </tr>\n",
              "    <tr>\n",
              "      <th>3</th>\n",
              "      <td>6</td>\n",
              "      <td>8</td>\n",
              "      <td>8</td>\n",
              "      <td>1</td>\n",
              "      <td>3</td>\n",
              "      <td>4</td>\n",
              "      <td>3</td>\n",
              "      <td>7</td>\n",
              "      <td>1</td>\n",
              "      <td>2</td>\n",
              "    </tr>\n",
              "    <tr>\n",
              "      <th>4</th>\n",
              "      <td>4</td>\n",
              "      <td>1</td>\n",
              "      <td>1</td>\n",
              "      <td>3</td>\n",
              "      <td>2</td>\n",
              "      <td>1</td>\n",
              "      <td>3</td>\n",
              "      <td>1</td>\n",
              "      <td>1</td>\n",
              "      <td>2</td>\n",
              "    </tr>\n",
              "  </tbody>\n",
              "</table>\n",
              "</div>"
            ],
            "text/plain": [
              "   Clump Thickness  Uniformity of Cell Size  Uniformity of Cell Shape  \\\n",
              "0                5                        1                         1   \n",
              "1                5                        4                         4   \n",
              "2                3                        1                         1   \n",
              "3                6                        8                         8   \n",
              "4                4                        1                         1   \n",
              "\n",
              "   Marginal Adhesion  Single Epithelial Cell Size  Bare Nuclei  \\\n",
              "0                  1                            2            1   \n",
              "1                  5                            7           10   \n",
              "2                  1                            2            2   \n",
              "3                  1                            3            4   \n",
              "4                  3                            2            1   \n",
              "\n",
              "   Bland Chromatin  Normal Nucleoli  Mitoses  Class  \n",
              "0                3                1        1      2  \n",
              "1                3                2        1      2  \n",
              "2                3                1        1      2  \n",
              "3                3                7        1      2  \n",
              "4                3                1        1      2  "
            ]
          },
          "execution_count": 11,
          "metadata": {},
          "output_type": "execute_result"
        }
      ],
      "source": [
        "data.head()"
      ]
    },
    {
      "cell_type": "code",
      "execution_count": 12,
      "metadata": {
        "id": "4X5x9MlCASCC"
      },
      "outputs": [],
      "source": [
        "# Replace class values to be binary (2 for benign, 4 for malignant)\n",
        "data['Class'] = data['Class'].replace({2: 0, 4: 1})"
      ]
    },
    {
      "cell_type": "code",
      "execution_count": 13,
      "metadata": {
        "colab": {
          "base_uri": "https://localhost:8080/"
        },
        "id": "MWmtE5lAl343",
        "outputId": "0d4142c3-d4f0-4900-e857-5cced306539e"
      },
      "outputs": [
        {
          "name": "stdout",
          "output_type": "stream",
          "text": [
            "<class 'pandas.core.frame.DataFrame'>\n",
            "RangeIndex: 699 entries, 0 to 698\n",
            "Data columns (total 10 columns):\n",
            " #   Column                       Non-Null Count  Dtype\n",
            "---  ------                       --------------  -----\n",
            " 0   Clump Thickness              699 non-null    int64\n",
            " 1   Uniformity of Cell Size      699 non-null    int64\n",
            " 2   Uniformity of Cell Shape     699 non-null    int64\n",
            " 3   Marginal Adhesion            699 non-null    int64\n",
            " 4   Single Epithelial Cell Size  699 non-null    int64\n",
            " 5   Bare Nuclei                  699 non-null    int64\n",
            " 6   Bland Chromatin              699 non-null    int64\n",
            " 7   Normal Nucleoli              699 non-null    int64\n",
            " 8   Mitoses                      699 non-null    int64\n",
            " 9   Class                        699 non-null    int64\n",
            "dtypes: int64(10)\n",
            "memory usage: 54.7 KB\n"
          ]
        }
      ],
      "source": [
        "# Display information about the dataset\n",
        "data.info()"
      ]
    },
    {
      "cell_type": "code",
      "execution_count": 14,
      "metadata": {
        "id": "AA6-poUv9bvs"
      },
      "outputs": [],
      "source": [
        "# Extract features (X) and target variable (y)\n",
        "X = data.iloc[:, :-1]  # All columns except the last one\n",
        "y = data.iloc[:, -1]   # Last column as the target variable"
      ]
    },
    {
      "cell_type": "code",
      "execution_count": 15,
      "metadata": {
        "id": "bbOtJgWnSeR-"
      },
      "outputs": [],
      "source": [
        "# Perform a train test split\n",
        "X_train, X_test, y_train, y_test = train_test_split(X, y, test_size=0.2, random_state=7)\n"
      ]
    },
    {
      "cell_type": "code",
      "execution_count": 16,
      "metadata": {
        "id": "wTbCHRumS-P9"
      },
      "outputs": [],
      "source": [
        "# Create an instance of SimpleImputer to fill in missing values with the median\n",
        "imputer = SimpleImputer(strategy='median')\n",
        "X_train_imputed = imputer.fit_transform(X_train)\n",
        "X_test_imputed = imputer.transform(X_test)\n"
      ]
    },
    {
      "cell_type": "code",
      "execution_count": 17,
      "metadata": {
        "id": "3UKVcSVlTG4w"
      },
      "outputs": [],
      "source": [
        "# Create an instance of MinMaxScaler to scale features to a range of (0, 1)\n",
        "scaler = MinMaxScaler(feature_range=(0, 1))\n",
        "X_train_scaled = scaler.fit_transform(X_train_imputed)\n",
        "X_test_scaled = scaler.transform(X_test_imputed)\n",
        "\n",
        "# Initialize list for base models\n",
        "estimators = [\n",
        "    ('logistic', LogisticRegression()),\n",
        "    ('cart', DecisionTreeClassifier()),\n",
        "    ('svm', SVC())\n",
        "]\n",
        "\n"
      ]
    },
    {
      "cell_type": "code",
      "execution_count": 18,
      "metadata": {
        "colab": {
          "base_uri": "https://localhost:8080/"
        },
        "id": "QtqBWv8tTJp2",
        "outputId": "fe148643-2f68-4e06-b508-39facca3fc45"
      },
      "outputs": [
        {
          "name": "stdout",
          "output_type": "stream",
          "text": [
            "Mean cross-validation accuracy of the ensemble model: 0.96\n",
            "Test accuracy of the ensemble model: 0.96\n"
          ]
        }
      ],
      "source": [
        "# Create Voting Classifier ensemble with estimators\n",
        "ensemble = VotingClassifier(estimators, voting=\"hard\")\n",
        "\n",
        "# Set up KFold cross-validation\n",
        "kfold = KFold(n_splits=10, shuffle=True, random_state=7)\n",
        "\n",
        "# Evaluate ensemble model using cross-validation\n",
        "results = cross_val_score(ensemble, X_train_scaled, y_train, cv=kfold)\n",
        "\n",
        "# Print mean accuracy score of the ensemble model\n",
        "print(f\"Mean cross-validation accuracy of the ensemble model: {results.mean():.2f}\")\n",
        "\n",
        "# Fit the ensemble on the scaled training set and evaluate on the scaled test set\n",
        "ensemble.fit(X_train_scaled, y_train)\n",
        "test_accuracy = ensemble.score(X_test_scaled, y_test)\n",
        "\n",
        "# Print test accuracy\n",
        "print(f\"Test accuracy of the ensemble model: {test_accuracy:.2f}\")"
      ]
    },
    {
      "cell_type": "markdown",
      "metadata": {
        "id": "JJ06Ormxl345"
      },
      "source": [
        "**Observation:**\n",
        "\n",
        "The majority voting ensemble's 96% accuracy rate demonstrates its remarkable effectiveness in predicting breast cancer classifications. By combining predictions from multiple individual classifiers, this ensemble leverages the collective insights of diverse models to achieve highly accurate results.\n",
        "\n",
        "Let us explore other performance evaluation metrics as well:"
      ]
    },
    {
      "cell_type": "code",
      "execution_count": 19,
      "metadata": {
        "colab": {
          "base_uri": "https://localhost:8080/",
          "height": 640
        },
        "id": "X-zHWomY9FlA",
        "outputId": "a02be097-df0b-41ab-ddd8-6cb76b93d35c"
      },
      "outputs": [
        {
          "name": "stdout",
          "output_type": "stream",
          "text": [
            "-------Classification report--------\n",
            "              precision    recall  f1-score   support\n",
            "\n",
            "           0       0.98      0.97      0.97        91\n",
            "           1       0.94      0.96      0.95        49\n",
            "\n",
            "    accuracy                           0.96       140\n",
            "   macro avg       0.96      0.96      0.96       140\n",
            "weighted avg       0.96      0.96      0.96       140\n",
            "\n",
            "-------Confusion matrix-------------\n"
          ]
        },
        {
          "data": {
            "image/png": "[encoded data removed]",
            "text/plain": [
              "<Figure size 640x480 with 2 Axes>"
            ]
          },
          "metadata": {},
          "output_type": "display_data"
        }
      ],
      "source": [
        "## evaluating model on test dataset\n",
        "y_pred = ensemble.predict(X_test_scaled)\n",
        "print('-------Classification report--------')\n",
        "print(classification_report(y_test,y_pred))\n",
        "print('-------Confusion matrix-------------')\n",
        "\n",
        "cm = confusion_matrix(y_test,y_pred)\n",
        "disp = ConfusionMatrixDisplay(confusion_matrix=cm, display_labels=['Benign','Malignant'])\n",
        "disp.plot(cmap=\"summer\")\n",
        "plt.show()\n"
      ]
    },
    {
      "cell_type": "markdown",
      "metadata": {
        "id": "9LuQmY93Lt6k"
      },
      "source": [
        "#### __Observation:__\n",
        "\n",
        "True Positives (TP): The model correctly predicted 47 instances as \"malignant\" when they were indeed malignant. This indicates that there were 41 true positive predictions.\n",
        "\n",
        "True Negatives (TN): The model correctly predicted 88 instances as \"benign\" when they were indeed benign. This shows 70 true negative predictions.\n",
        "\n",
        "False Positives (FP): The model incorrectly predicted 3 instance as \"malignant\" when it was actually benign. This is a false positive, also known as a Type I error.\n",
        "\n",
        "False Negatives (FN): The model incorrectly predicted 2 instances as \"benign\" when they were actually malignant. This is a false negative, also known as a Type II error.\n",
        "\n",
        "**Classification Report:**\n",
        "\n",
        "*Class 0 (Negative Class)*\n",
        "\n",
        "Precision: 0.98\n",
        "\n",
        "98% of the instances predicted as class 0 are actually class 0.\n",
        "\n",
        "Recall: 0.97\n",
        "\n",
        "97% of the actual class 0 instances are correctly predicted as class 0.\n",
        "\n",
        "F1-Score: 0.97\n",
        "\n",
        "The F1-score is the harmonic mean of precision and recall, providing a balance between the two metrics. Here, the F1-score is 0.97, indicating excellent performance.\n",
        "\n",
        "Support: 91\n",
        "\n",
        "There are 91 actual instances of class 0 in the test set.\n",
        "\n",
        "*Class 1 (Positive Class)*\n",
        "\n",
        "Precision: 0.94\n",
        "\n",
        "94% of the instances predicted as class 1 are actually class 1.\n",
        "\n",
        "Recall: 0.96\n",
        "\n",
        "96% of the actual class 1 instances are correctly predicted as class 1.\n",
        "\n",
        "F1-Score: 0.95\n",
        "\n",
        "The F1-score for class 1 is 0.95, indicating very good performance.\n",
        "\n",
        "Support: 49\n",
        "\n",
        "There are 49 actual instances of class 1 in the test set.\n",
        "\n",
        "*Overall Metrics*\n",
        "\n",
        "Accuracy: 0.96\n",
        "\n",
        "The overall accuracy of the model, indicating that 97% of the total instances are correctly classified.\n",
        "\n",
        "Macro Average\n",
        "\n",
        "Macro average calculates the metric independently for each class and then takes the average, treating all classes equally. It is useful when you have imbalanced classes.\n",
        "\n",
        "Precision: 0.96\n",
        "Recall: 0.96\n",
        "F1-Score: 0.96\n",
        "\n",
        "Weighted Average\n",
        "\n",
        "Weighted average takes into account the support (the number of true instances for each class) to calculate the average. It is more representative of the performance on imbalanced datasets.\n",
        "\n",
        "Precision: 0.96\n",
        "Recall: 0.96\n",
        "F1-Score: 0.96"
      ]
    },
    {
      "cell_type": "markdown",
      "metadata": {
        "id": "m6NqpUwG2LRi"
      },
      "source": [
        "### __3.1.2 Weighted Voting/Soft Voting__\n",
        "\n",
        "Soft voting takes into account the probability estimates for each class provided by the models, assuming the models are capable of estimating these probabilities (i.e., they have a predict_proba method). The final prediction is determined by averaging these probabilities across all models, and the class with the highest average probability is selected."
      ]
    },
    {
      "cell_type": "markdown",
      "metadata": {
        "id": "Ga3C9D1Q7vXK"
      },
      "source": [
        "### **Implementation of Hard and Soft Voting for comparison**\n",
        "\n"
      ]
    },
    {
      "cell_type": "code",
      "execution_count": 20,
      "metadata": {
        "id": "Q-PpkS86_30P"
      },
      "outputs": [],
      "source": [
        "import pandas as pd\n",
        "from sklearn.model_selection import train_test_split, KFold, cross_val_score\n",
        "from sklearn.ensemble import VotingClassifier\n",
        "from sklearn.linear_model import LogisticRegression\n",
        "from sklearn.tree import DecisionTreeClassifier\n",
        "from sklearn.svm import SVC\n",
        "from sklearn.impute import SimpleImputer\n",
        "from sklearn.pipeline import make_pipeline\n",
        "from sklearn.preprocessing import StandardScaler\n",
        "from sklearn.metrics import accuracy_score"
      ]
    },
    {
      "cell_type": "code",
      "execution_count": 21,
      "metadata": {
        "id": "pPHiBm_8760O"
      },
      "outputs": [],
      "source": [
        "# Load the Wisconsin Breast Cancer dataset\n",
        "url = 'https://archive.ics.uci.edu/ml/machine-learning-databases/breast-cancer-wisconsin/breast-cancer-wisconsin.data'\n",
        "data = pd.read_csv(url, header=None, na_values='?')\n",
        "data.columns = ['Sample code', 'Clump Thickness', 'Uniformity of Cell Size', 'Uniformity of Cell Shape',\n",
        "                'Marginal Adhesion', 'Single Epithelial Cell Size', 'Bare Nuclei', 'Bland Chromatin',\n",
        "                'Normal Nucleoli', 'Mitoses', 'Class']"
      ]
    },
    {
      "cell_type": "code",
      "execution_count": 22,
      "metadata": {
        "id": "Pm7E8SmzAAuT"
      },
      "outputs": [],
      "source": [
        "# Replace class values to be binary (2 for benign, 4 for malignant)\n",
        "data['Class'] = data['Class'].replace({2: 0, 4: 1})"
      ]
    },
    {
      "cell_type": "code",
      "execution_count": 23,
      "metadata": {
        "id": "scCRrq8FBanb"
      },
      "outputs": [],
      "source": [
        "# Replace '?' with nan to handle missing data, ensuring numerical analysis accuracy and preventing calculation errors.\n",
        "data = data.replace('?', np.nan)\n",
        "\n",
        "# Convert object type column to numeric\n",
        "data['Bare Nuclei'] = pd.to_numeric(data['Bare Nuclei']).fillna(0).astype('int64')"
      ]
    },
    {
      "cell_type": "code",
      "execution_count": 24,
      "metadata": {
        "id": "Y-U4-zw7ALef"
      },
      "outputs": [],
      "source": [
        "# Features and target\n",
        "# `Sample code`(0th column) is exempted when creating X\n",
        "X = data.iloc[:, 1:-1]\n",
        "y = data['Class']"
      ]
    },
    {
      "cell_type": "code",
      "execution_count": 25,
      "metadata": {
        "id": "Qnk-csfgVJyg"
      },
      "outputs": [],
      "source": [
        "# Split the data into training and testing sets\n",
        "X_train, X_test, y_train, y_test = train_test_split(X, y, test_size=0.2, random_state=7)"
      ]
    },
    {
      "cell_type": "markdown",
      "metadata": {
        "id": "9gZxUbeiBDTL"
      },
      "source": [
        "- `make_pipeline`: Construct a Pipeline from the given estimators.\n"
      ]
    },
    {
      "cell_type": "code",
      "execution_count": 26,
      "metadata": {
        "id": "oYlHkovCAg4J"
      },
      "outputs": [],
      "source": [
        "# Imputation to handle missing values\n",
        "imputer = SimpleImputer(strategy='median')\n",
        "\n",
        "# Define the base models with standard scaling and imputation\n",
        "model1 = make_pipeline(imputer, StandardScaler(), LogisticRegression(random_state=1, max_iter=10000))\n",
        "model2 = make_pipeline(imputer, StandardScaler(), DecisionTreeClassifier(random_state=1))\n",
        "model3 = make_pipeline(imputer, StandardScaler(), SVC(probability=True, random_state=1))\n",
        "\n",
        "# Define k-fold cross-validation procedure\n",
        "kf = KFold(n_splits=10, shuffle=True, random_state=1)\n",
        "\n",
        "# Create an ensemble of models for hard voting\n",
        "hard_voting_classifier = VotingClassifier(\n",
        "    estimators=[('lr', model1), ('dt', model2), ('svc', model3)],\n",
        "    voting='hard'\n",
        ")"
      ]
    },
    {
      "cell_type": "code",
      "execution_count": 27,
      "metadata": {
        "colab": {
          "base_uri": "https://localhost:8080/"
        },
        "id": "8Kl9BxHxkhG3",
        "outputId": "c4f0b9fb-d59d-417e-a4f7-a1cb6337ad00"
      },
      "outputs": [
        {
          "name": "stdout",
          "output_type": "stream",
          "text": [
            "Hard Voting - Mean CV Accuracy: 0.9659\n",
            "Hard Voting - Test Accuracy: 0.9643\n",
            "Hard Voting - Classification Report\n",
            "              precision    recall  f1-score   support\n",
            "\n",
            "           0       0.98      0.97      0.97        91\n",
            "           1       0.94      0.96      0.95        49\n",
            "\n",
            "    accuracy                           0.96       140\n",
            "   macro avg       0.96      0.96      0.96       140\n",
            "weighted avg       0.96      0.96      0.96       140\n",
            "\n",
            "Hard Voting - Confusion Matrix:-\n",
            "[[88  3]\n",
            " [ 2 47]]\n",
            "----------------------------------------------\n",
            "Soft Voting - Mean CV Accuracy: 0.9624\n",
            "Soft Voting - Test Accuracy: 0.9643\n",
            "Soft Voting - Classification Report:-\n",
            "              precision    recall  f1-score   support\n",
            "\n",
            "           0       0.98      0.97      0.97        91\n",
            "           1       0.94      0.96      0.95        49\n",
            "\n",
            "    accuracy                           0.96       140\n",
            "   macro avg       0.96      0.96      0.96       140\n",
            "weighted avg       0.96      0.96      0.96       140\n",
            "\n",
            "Soft Voting - Confusion Matrix\n",
            "[[88  3]\n",
            " [ 2 47]]\n"
          ]
        }
      ],
      "source": [
        "# Cross-validation on the training data\n",
        "hard_cv_scores = cross_val_score(hard_voting_classifier, X_train, y_train, cv=kf, scoring='accuracy')\n",
        "print(f\"Hard Voting - Mean CV Accuracy: {hard_cv_scores.mean():.4f}\")\n",
        "\n",
        "# Fit and evaluate on the test data\n",
        "hard_voting_classifier.fit(X_train, y_train)\n",
        "y_pred_hard = hard_voting_classifier.predict(X_test)\n",
        "hard_test_accuracy = hard_voting_classifier.score(X_test, y_test)\n",
        "print(f\"Hard Voting - Test Accuracy: {hard_test_accuracy:.4f}\")\n",
        "\n",
        "# Additional evaluation metrics for hard voting classifier\n",
        "print(\"Hard Voting - Classification Report\")\n",
        "print(classification_report(y_test, y_pred_hard))\n",
        "print(\"Hard Voting - Confusion Matrix:-\")\n",
        "print(confusion_matrix(y_test, y_pred_hard))\n",
        "print(\"----------------------------------------------\")\n",
        "# Create and evaluate a soft voting classifier\n",
        "soft_voting_classifier = VotingClassifier(\n",
        "    estimators=[('lr', model1), ('dt', model2), ('svc', model3)],\n",
        "    voting='soft'\n",
        ")\n",
        "\n",
        "# Cross-validation on the training data\n",
        "soft_cv_scores = cross_val_score(soft_voting_classifier, X_train, y_train, cv=kf, scoring='accuracy')\n",
        "print(f\"Soft Voting - Mean CV Accuracy: {soft_cv_scores.mean():.4f}\")\n",
        "\n",
        "# Fit and evaluate on the test data\n",
        "soft_voting_classifier.fit(X_train, y_train)\n",
        "y_pred_soft = soft_voting_classifier.predict(X_test)\n",
        "soft_test_accuracy = soft_voting_classifier.score(X_test, y_test)\n",
        "print(f\"Soft Voting - Test Accuracy: {soft_test_accuracy:.4f}\")\n",
        "\n",
        "# Additional evaluation metrics for soft voting classifier\n",
        "print(\"Soft Voting - Classification Report:-\")\n",
        "print(classification_report(y_test, y_pred_soft))\n",
        "print(\"Soft Voting - Confusion Matrix\")\n",
        "print(confusion_matrix(y_test, y_pred_soft))"
      ]
    },
    {
      "cell_type": "markdown",
      "metadata": {
        "id": "gxrLwlAGl35B"
      },
      "source": [
        "## __4. Advanced Techniques for Ensemble Learning__"
      ]
    },
    {
      "cell_type": "markdown",
      "metadata": {
        "id": "9_ckakMIl35B"
      },
      "source": [
        "These techniques use complex methods to merge predictions from many individual models. It aims for better predictive accuracy. They are employed for complex problems where high predictive accuracy is crucial, such as in financial forecasting, medical diagnosis, and natural language processing applications."
      ]
    },
    {
      "cell_type": "markdown",
      "metadata": {
        "id": "JBvNkoeOl35B"
      },
      "source": [
        "### __4.1 Bagging__"
      ]
    },
    {
      "cell_type": "markdown",
      "metadata": {
        "id": "1r3X3meZl35B"
      },
      "source": [
        "Bagging or Bootstrap Aggregating enhances the stability and accuracy of machine learning algorithms. This method creates multiple subsets from the original dataset, known as bootstrap samples, by selecting data points with replacement. Each subset trains a separate model.\n",
        "\n",
        "For final predictions, Bagging combines the individual models' outputs by using voting (for classification tasks) or averaging (for regression tasks). This approach effectively reduces variance and helps prevent overfitting.\n",
        "\n",
        "__Note:__ Random Forest is a popular algorithm that utilizes bagging by training multiple decision trees on different bootstrap samples and combining their predictions."
      ]
    },
    {
      "cell_type": "markdown",
      "metadata": {
        "id": "XxwKnzPJl35B"
      },
      "source": [
        "\n",
        "![link text](https://labcontent.simplicdn.net/data-content/content-assets/Data_and_AI/ML/updated/Lesson_05/Ensembled_Learning_Bagging.png)"
      ]
    },
    {
      "cell_type": "markdown",
      "metadata": {
        "id": "JKjwuWTYl35C"
      },
      "source": [
        "__Note:__ The numbering shown in the above image outlines the specific workflow for bagging."
      ]
    },
    {
      "cell_type": "code",
      "execution_count": 28,
      "metadata": {
        "id": "5V1ZRLyil35C"
      },
      "outputs": [],
      "source": [
        "# Import required libraries\n",
        "import pandas as pd\n",
        "import numpy as np\n",
        "from sklearn import model_selection\n",
        "from sklearn.model_selection import KFold\n",
        "from sklearn.ensemble import GradientBoostingClassifier\n",
        "from sklearn.ensemble import BaggingClassifier\n",
        "from sklearn.tree import DecisionTreeClassifier\n",
        "from sklearn.model_selection import train_test_split\n",
        "from sklearn.metrics import classification_report\n",
        "from sklearn.metrics import accuracy_score\n",
        "from sklearn.preprocessing import StandardScaler"
      ]
    },
    {
      "cell_type": "code",
      "execution_count": 29,
      "metadata": {
        "colab": {
          "base_uri": "https://localhost:8080/",
          "height": 206
        },
        "id": "KJZNHKUJ5Dfz",
        "outputId": "e22a48ab-6d26-4750-9716-1307ba85e8a5"
      },
      "outputs": [
        {
          "data": {
            "text/html": [
              "<div>\n",
              "<style scoped>\n",
              "    .dataframe tbody tr th:only-of-type {\n",
              "        vertical-align: middle;\n",
              "    }\n",
              "\n",
              "    .dataframe tbody tr th {\n",
              "        vertical-align: top;\n",
              "    }\n",
              "\n",
              "    .dataframe thead th {\n",
              "        text-align: right;\n",
              "    }\n",
              "</style>\n",
              "<table border=\"1\" class=\"dataframe\">\n",
              "  <thead>\n",
              "    <tr style=\"text-align: right;\">\n",
              "      <th></th>\n",
              "      <th>preg</th>\n",
              "      <th>plas</th>\n",
              "      <th>pres</th>\n",
              "      <th>skin</th>\n",
              "      <th>test</th>\n",
              "      <th>mass</th>\n",
              "      <th>pedi</th>\n",
              "      <th>age</th>\n",
              "      <th>class</th>\n",
              "    </tr>\n",
              "  </thead>\n",
              "  <tbody>\n",
              "    <tr>\n",
              "      <th>0</th>\n",
              "      <td>6</td>\n",
              "      <td>148</td>\n",
              "      <td>72</td>\n",
              "      <td>35</td>\n",
              "      <td>0</td>\n",
              "      <td>33.6</td>\n",
              "      <td>0.627</td>\n",
              "      <td>50</td>\n",
              "      <td>1</td>\n",
              "    </tr>\n",
              "    <tr>\n",
              "      <th>1</th>\n",
              "      <td>1</td>\n",
              "      <td>85</td>\n",
              "      <td>66</td>\n",
              "      <td>29</td>\n",
              "      <td>0</td>\n",
              "      <td>26.6</td>\n",
              "      <td>0.351</td>\n",
              "      <td>31</td>\n",
              "      <td>0</td>\n",
              "    </tr>\n",
              "    <tr>\n",
              "      <th>2</th>\n",
              "      <td>8</td>\n",
              "      <td>183</td>\n",
              "      <td>64</td>\n",
              "      <td>0</td>\n",
              "      <td>0</td>\n",
              "      <td>23.3</td>\n",
              "      <td>0.672</td>\n",
              "      <td>32</td>\n",
              "      <td>1</td>\n",
              "    </tr>\n",
              "    <tr>\n",
              "      <th>3</th>\n",
              "      <td>1</td>\n",
              "      <td>89</td>\n",
              "      <td>66</td>\n",
              "      <td>23</td>\n",
              "      <td>94</td>\n",
              "      <td>28.1</td>\n",
              "      <td>0.167</td>\n",
              "      <td>21</td>\n",
              "      <td>0</td>\n",
              "    </tr>\n",
              "    <tr>\n",
              "      <th>4</th>\n",
              "      <td>0</td>\n",
              "      <td>137</td>\n",
              "      <td>40</td>\n",
              "      <td>35</td>\n",
              "      <td>168</td>\n",
              "      <td>43.1</td>\n",
              "      <td>2.288</td>\n",
              "      <td>33</td>\n",
              "      <td>1</td>\n",
              "    </tr>\n",
              "  </tbody>\n",
              "</table>\n",
              "</div>"
            ],
            "text/plain": [
              "   preg  plas  pres  skin  test  mass   pedi  age  class\n",
              "0     6   148    72    35     0  33.6  0.627   50      1\n",
              "1     1    85    66    29     0  26.6  0.351   31      0\n",
              "2     8   183    64     0     0  23.3  0.672   32      1\n",
              "3     1    89    66    23    94  28.1  0.167   21      0\n",
              "4     0   137    40    35   168  43.1  2.288   33      1"
            ]
          },
          "execution_count": 29,
          "metadata": {},
          "output_type": "execute_result"
        }
      ],
      "source": [
        "# Load the Pima Indians Diabetes dataset using the given URL and assign the names\n",
        "\n",
        "url=\"https://raw.githubusercontent.com/jbrownlee/Datasets/master/pima-indians-diabetes.data.csv\"\n",
        "names = ['preg', 'plas', 'pres', 'skin', 'test', 'mass', 'pedi', 'age', 'class']\n",
        "data = pd.read_csv(url, names=names)\n",
        "\n",
        "# Check the head of the data using the head() method\n",
        "data.head()"
      ]
    },
    {
      "cell_type": "markdown",
      "metadata": {
        "id": "u_9gL8x8FqMg"
      },
      "source": [
        "Create a feature matrix X and a target vector y\n"
      ]
    },
    {
      "cell_type": "code",
      "execution_count": 30,
      "metadata": {
        "id": "CRSA67UoknYF"
      },
      "outputs": [],
      "source": [
        "# Assign all the rows up to the 8th column of the data to X\n",
        "X = data.iloc[:,0:8].values\n",
        "\n",
        "# Assign the 9th column of the same data to Y\n",
        "y = data[\"class\"].values"
      ]
    },
    {
      "cell_type": "code",
      "execution_count": 31,
      "metadata": {
        "id": "QE3bVPDbm9Rg"
      },
      "outputs": [],
      "source": [
        "# Split the data into training and testing sets\n",
        "X_train, X_test, y_train, y_test = train_test_split(X, y, test_size=0.2, random_state=42)"
      ]
    },
    {
      "cell_type": "code",
      "execution_count": 32,
      "metadata": {
        "id": "9Y8_YHhzm4V1"
      },
      "outputs": [],
      "source": [
        "# Create an instance of SimpleImputer to fill in missing values with the median\n",
        "imputer = SimpleImputer(strategy='median')\n",
        "X_train_imputed = imputer.fit_transform(X_train)\n",
        "X_test_imputed = imputer.transform(X_test)\n",
        "\n",
        "# Create an instance of MinMaxScaler to scale features to a range of (0, 1)\n",
        "scaler = MinMaxScaler(feature_range=(0, 1))\n",
        "X_train_scaled = scaler.fit_transform(X_train_imputed)\n",
        "X_test_scaled = scaler.transform(X_test_imputed)\n"
      ]
    },
    {
      "cell_type": "code",
      "execution_count": 33,
      "metadata": {
        "id": "5uEtSPGI5Dfz"
      },
      "outputs": [],
      "source": [
        "# Set up the k-fold cross-validation with n_splits to 10\n",
        "kfold = model_selection.KFold(n_splits=10, shuffle=True, random_state=1)\n",
        "\n",
        "# Create a decision tree classifier named cart\n",
        "cart = DecisionTreeClassifier()\n",
        "\n",
        "# The estimator will be set to 100, which is equal to the number of trees\n",
        "num_trees = 100"
      ]
    },
    {
      "cell_type": "markdown",
      "metadata": {
        "id": "WpotA1lQG9cx"
      },
      "source": [
        "#### __Apply the bagging technique__\n",
        "\n",
        "* `oob_score`: This is a method of measuring the prediction error of random forests, bagging, and other ensemble methods that involve bootstrap aggregating\n",
        "\n",
        "We'll talk about it in detail below"
      ]
    },
    {
      "cell_type": "code",
      "execution_count": 34,
      "metadata": {
        "colab": {
          "base_uri": "https://localhost:8080/"
        },
        "id": "xY9AXU9k5Df0",
        "outputId": "f93e1165-3482-48ea-8eda-dfc7d6a79f8b"
      },
      "outputs": [
        {
          "name": "stdout",
          "output_type": "stream",
          "text": [
            "[0.79032258 0.67741935 0.75806452 0.70967742 0.86885246 0.78688525\n",
            " 0.63934426 0.7704918  0.73770492 0.72131148]\n"
          ]
        }
      ],
      "source": [
        "# Create a bagging classifier with the decision tree classifier (cart) as the base estimator\n",
        "# Ensure oob_score is enabled\n",
        "bagging_model = BaggingClassifier(estimator=cart, n_estimators=num_trees, random_state=12, oob_score=True)\n",
        "\n",
        "# Perform cross-validation using the model, feature matrix (X), target vector (y), and specified number of folds (cv)\n",
        "results = model_selection.cross_val_score(bagging_model, X_train_scaled, y_train, cv=kfold)\n",
        "\n",
        "# Print the cross-validation results\n",
        "print(results)"
      ]
    },
    {
      "cell_type": "markdown",
      "metadata": {
        "id": "6HHno_iHl35D"
      },
      "source": [
        "__Observations:__\n",
        "- The results array contains the cross-validation scores for each fold of the data.\n",
        "- The cross-validation scores indicate the performance of the BaggingClassifier model on different subsets of the data.\n",
        "- These scores can assess the generalization ability and performance stability of the BaggingClassifier model across multiple iterations of the training data."
      ]
    },
    {
      "cell_type": "code",
      "execution_count": 35,
      "metadata": {
        "colab": {
          "base_uri": "https://localhost:8080/"
        },
        "id": "U7IU5MPEl35D",
        "outputId": "09a2a227-2a62-4fc4-916e-d7e169c063b3"
      },
      "outputs": [
        {
          "name": "stdout",
          "output_type": "stream",
          "text": [
            "Mean Cross-Validation Score: 0.7460074034902168\n"
          ]
        }
      ],
      "source": [
        "# Calculate the Mean Cross-Validation Score using .mean() function\n",
        "mean_score = np.mean(results)\n",
        "\n",
        "print(\"Mean Cross-Validation Score:\", mean_score)"
      ]
    },
    {
      "cell_type": "markdown",
      "metadata": {
        "id": "f2p9AhRil35E"
      },
      "source": [
        "- The provided code illustrates a bagging implementation with a DecisionTreeClassifier base estimator. It employs KFold cross-validation with 10 folds and applies BaggingClassifier with 100 decision tree estimators to each fold.\n",
        "- The resultant mean cross-validation score of 0.75 demonstrates the ensemble's effectiveness in enhancing predictive performance compared to a single decision tree classifier."
      ]
    },
    {
      "cell_type": "code",
      "execution_count": 36,
      "metadata": {
        "colab": {
          "base_uri": "https://localhost:8080/",
          "height": 675
        },
        "id": "Kbg9G7XiInCU",
        "outputId": "ac035b2c-26fd-4b0a-daaa-72bc41cfc375"
      },
      "outputs": [
        {
          "name": "stdout",
          "output_type": "stream",
          "text": [
            "___________________________Bagging Classifier_______________________\n",
            "\n",
            "# Classification report\n",
            "              precision    recall  f1-score   support\n",
            "\n",
            "           0       0.80      0.79      0.79        99\n",
            "           1       0.62      0.64      0.63        55\n",
            "\n",
            "    accuracy                           0.73       154\n",
            "   macro avg       0.71      0.71      0.71       154\n",
            "weighted avg       0.73      0.73      0.73       154\n",
            "\n",
            "# Confusion matrix\n"
          ]
        },
        {
          "data": {
            "image/png": "[encoded data removed]",
            "text/plain": [
              "<Figure size 640x480 with 2 Axes>"
            ]
          },
          "metadata": {},
          "output_type": "display_data"
        }
      ],
      "source": [
        "# fitting  and evaluating Bagging classifier model in training and test dataset\n",
        "\n",
        "bagging_model.fit(X_train_scaled,y_train)\n",
        "print('___________________________Bagging Classifier_______________________')\n",
        "print()\n",
        "# evaluating model on test dataset\n",
        "y_pred = bagging_model.predict(X_test_scaled)\n",
        "print('# Classification report')\n",
        "print(classification_report(y_test,y_pred))\n",
        "print('# Confusion matrix')\n",
        "cmap = 'summer'\n",
        "display_labels=['Non diabetic','Diabetic']\n",
        "cm = confusion_matrix(y_test,y_pred)\n",
        "disp = ConfusionMatrixDisplay(confusion_matrix=cm, display_labels=display_labels)\n",
        "disp.plot(cmap=cmap)\n",
        "plt.show()"
      ]
    },
    {
      "cell_type": "markdown",
      "metadata": {
        "id": "ex5DqCXcl35E"
      },
      "source": [
        "### __4.1.1 Advantages of Bagging__\n",
        "\n",
        "- It reduces the risk of overfitting by training on various subsets of the data.\n",
        "- It improves the model's accuracy and stability.\n",
        "- It works well with complex models that tend to overfit."
      ]
    },
    {
      "cell_type": "markdown",
      "metadata": {
        "id": "0hirnSNpl35E"
      },
      "source": [
        "### __4.1.2 Disadvantages of Bagging__\n",
        "\n",
        "- It increases computational complexity because it requires training multiple models.\n",
        "- It may not significantly improve performance if the base models are already biased."
      ]
    },
    {
      "cell_type": "markdown",
      "metadata": {
        "id": "krGmB1u6l35E"
      },
      "source": [
        "### __4.1.3  Out-Of-Bag (OOB) Concept__"
      ]
    },
    {
      "cell_type": "markdown",
      "metadata": {
        "id": "GgcmjoxDl35E"
      },
      "source": [
        "In bagging, __out-of-bag (OOB)__ data refers to instances not included in the bootstrap sample for training a specific base model. Since the process trains each model on a random subset of the original data, it naturally leaves out some instances.\n",
        "\n",
        "These OOB instances serve as a built-in validation set for each model, allowing for an assessment of the model's performance on unseen data points. You can compute the OOB error, which offers an efficient way to evaluate the model's generalization ability.\n",
        "\n",
        "This method eliminates the need for additional validation data or cross-validation procedures."
      ]
    },
    {
      "cell_type": "markdown",
      "metadata": {
        "id": "2eL60FStl35F"
      },
      "source": [
        "\n",
        "![link text](https://labcontent.simplicdn.net/data-content/content-assets/Data_and_AI/ML/Lesson_07/Out_Of_Bag_Concept.png)"
      ]
    },
    {
      "cell_type": "markdown",
      "metadata": {
        "id": "_px6EWnll35F"
      },
      "source": [
        "In the above image, Sample 1 lacks Rat and Cow, whereas Sample 3 includes all animals from the primary training set. Data points were randomly chosen with replacement during sample creation, and those omitted from a particular sample are identified as out-of-bag (OOB) points."
      ]
    },
    {
      "cell_type": "markdown",
      "metadata": {
        "id": "LhwNg0aRqwEp"
      },
      "source": [
        " - The OOB score is an estimate of performance that mimics cross-validation. It uses out-of-bag samples to estimate the model's accuracy.\n",
        "\n",
        " - This means that for each tree in a bagging ensemble, only the data not seen by the tree (out-of-bag data) are used to assess that tree’s performance."
      ]
    },
    {
      "cell_type": "code",
      "execution_count": 38,
      "metadata": {
        "colab": {
          "base_uri": "https://localhost:8080/"
        },
        "id": "a7fm_bi5l35F",
        "outputId": "b295f46f-f98e-49a3-f8b4-3a79d2242abf"
      },
      "outputs": [
        {
          "name": "stdout",
          "output_type": "stream",
          "text": [
            "Out-of-Bag Error: 0.250814332247557\n"
          ]
        }
      ],
      "source": [
        "# Perform cross-validation and compute OOB error\n",
        "from sklearn.ensemble import RandomForestClassifier\n",
        "\n",
        "# Define the model with OOB scoring enabled\n",
        "model = RandomForestClassifier(\n",
        "    n_estimators=100,\n",
        "    oob_score=True,\n",
        "    random_state=42\n",
        ")\n",
        "\n",
        "# Fit the model\n",
        "model.fit(X_train_scaled, y_train)\n",
        "\n",
        "# Compute OOB error\n",
        "oob_error = 1 - model.oob_score_\n",
        "\n",
        "print(\"Out-of-Bag Error:\", oob_error)\n"
      ]
    },
    {
      "cell_type": "markdown",
      "metadata": {
        "id": "TCW9NEg2l35F"
      },
      "source": [
        "__Observations:__\n",
        "- The code computes the out-of-bag (OOB) error for a BaggingClassifier model using cross-validation.\n",
        "- It calculates the OOB error by subtracting the OOB score from 1.\n",
        "- The **OOB score** represents the model's accuracy on out-of-bag samples.\n",
        "- The OOB error provides insight into the model's performance on unseen data points, indicating the misclassification rate of the model."
      ]
    },
    {
      "cell_type": "markdown",
      "metadata": {
        "id": "W7-5z7M3l35F"
      },
      "source": [
        "### __4.2 Boosting__"
      ]
    },
    {
      "cell_type": "markdown",
      "metadata": {
        "id": "ayiM-qmal35F"
      },
      "source": [
        "Boosting is a sequential ensemble technique where each model corrects its predecessor's mistakes. The main idea is to train models sequentially, each trying to correct the errors of the previous model.\n",
        "\n",
        "The final prediction is a weighted sum of all the models' predictions. Boosting significantly reduces bias and variance, leading to more accurate models.\n",
        "\n",
        "__Note:__ Popular boosting algorithms include AdaBoost, Gradient Boosting Machines (GBM), and XGBoost."
      ]
    },
    {
      "cell_type": "markdown",
      "metadata": {
        "id": "Bs9TzCm5l35F"
      },
      "source": [
        "\n",
        "![link text](https://labcontent.simplicdn.net/data-content/content-assets/Data_and_AI/ML/updated/Lesson_05/Ensembled_Learning_Boosting.png)"
      ]
    },
    {
      "cell_type": "markdown",
      "metadata": {
        "id": "YnKPkH_Ll35G"
      },
      "source": [
        "__Note:__ The numbering shown in the above image specifically outlines the workflow for boosting."
      ]
    },
    {
      "cell_type": "markdown",
      "metadata": {
        "id": "uQ7Bf8CMCi0m"
      },
      "source": [
        "#### __4.2.1 Boosting Techniques__\n",
        "\n",
        "There are various meta-algorithms in boosting that differentiate how the base models are aggregated, such as:\n",
        "* Adaboost\n",
        "* Gradient Boost\n",
        "* XGBoost\n",
        "* CatBoost\n",
        "\n",
        "**Meta-algorithm** (or meta-learning) involves learning algorithms that are designed to learn how to combine the predictions of multiple machine learning models, often referred to as base models or learners, to improve overall performance"
      ]
    },
    {
      "cell_type": "markdown",
      "metadata": {
        "id": "gYztPf_-C2_2"
      },
      "source": [
        "#### __4.2.2. AdaBoost Algorithm__\n",
        "\n",
        "AdaBoost, an abbreviation for adaptive boosting, stands as one of the leading boosting algorithms with widespread adoption. It focuses on classification problems, aiming to transform a collection of weak classifiers into a single strong classifier. It increases the weights of misclassified instances, directing subsequent classifiers to pay more attention to challenging cases.\n",
        "\n",
        "**The AdaBoost algorithm follows these steps:**\n",
        "1. Initially, the algorithm assigns equal weights to all observations in the dataset.\n",
        "2. A model is constructed using a subset of the data.\n",
        "3. Predictions are made on the entire dataset using this model.\n",
        "4. The algorithm computes errors by comparing these predictions to the actual values.\n",
        "5. In the subsequent model creation, the algorithm assigns higher weights to incorrectly predicted data points.\n",
        "6. Weights are determined based on error values, where higher errors result in heavier observation weights.\n",
        "7. This iterative process continues until the error function stabilizes or the algorithm reaches the maximum limit of estimators.\n",
        "\n"
      ]
    },
    {
      "cell_type": "markdown",
      "metadata": {
        "id": "G1R4WJ0TEV-h"
      },
      "source": [
        "### **Implementation of Adaboost Classifier and Bagging classifier to compare the performance:**"
      ]
    },
    {
      "cell_type": "code",
      "execution_count": 39,
      "metadata": {
        "id": "JcA6Oy36Dzs_"
      },
      "outputs": [],
      "source": [
        "# Import necessary libraries\n",
        "import pandas as pd\n",
        "import numpy as np\n",
        "from sklearn.impute import SimpleImputer\n",
        "from sklearn.preprocessing import MinMaxScaler\n",
        "from sklearn.model_selection import train_test_split\n",
        "from sklearn.pipeline import Pipeline\n",
        "from sklearn.model_selection import KFold, cross_val_score\n",
        "from sklearn.ensemble import AdaBoostClassifier\n",
        "from sklearn.ensemble import BaggingClassifier\n",
        "from sklearn.tree import DecisionTreeClassifier\n",
        "\n",
        "# Load the dataset from the given URL and assign column names\n",
        "data = pd.read_csv('https://archive.ics.uci.edu/ml/machine-learning-databases/breast-cancer-wisconsin/breast-cancer-wisconsin.data', header=None)\n",
        "data.columns = ['Sample code', 'Clump Thickness', 'Uniformity of Cell Size', 'Uniformity of Cell Shape',\n",
        "                'Marginal Adhesion', 'Single Epithelial Cell Size', 'Bare Nuclei', 'Bland Chromatin',\n",
        "                'Normal Nucleoli', 'Mitoses','Class']"
      ]
    },
    {
      "cell_type": "code",
      "execution_count": 40,
      "metadata": {
        "id": "Qj1z1pofLuPp"
      },
      "outputs": [],
      "source": [
        "# Drop the 'Sample code' column as it's not required for prediction\n",
        "data.drop(['Sample code'], axis=1, inplace=True)\n",
        "\n",
        "# Replace '?' with nan to handle missing data, ensuring numerical analysis accuracy and preventing calculation errors.\n",
        "data = data.replace('?', np.nan)"
      ]
    },
    {
      "cell_type": "code",
      "execution_count": 41,
      "metadata": {
        "id": "j7yde7n-P_vZ"
      },
      "outputs": [],
      "source": [
        "# Replace class values to be binary (2 for benign, 4 for malignant)\n",
        "data['Class'] = data['Class'].replace({2: 0, 4: 1})"
      ]
    },
    {
      "cell_type": "code",
      "execution_count": 42,
      "metadata": {
        "id": "sa-dH2XyLuPq"
      },
      "outputs": [],
      "source": [
        "# Convert the 'Bare Nuclei' column to an integer type to ensure a uniform data type across the column,\n",
        "# which is essential for consistent data manipulation and analysis.\n",
        "data['Bare Nuclei'] = pd.to_numeric(data['Bare Nuclei']).fillna(0).astype('int64')"
      ]
    },
    {
      "cell_type": "markdown",
      "metadata": {
        "id": "AqCqVRN1E8K2"
      },
      "source": [
        "- A SimpleImputer handles missing values in a dataset by imputing (i.e., filling in) the missing values with a specified statistic, such as the mean, median, or most frequent value of the respective feature.\n",
        "- This is important because missing values can disrupt the analysis and modeling process, leading to biased results or errors in predictive models.\n",
        "- Imputation helps maintain the integrity and completeness of the dataset, ensuring that the analysis or modeling algorithms can effectively utilize the available data for accurate insights or predictions."
      ]
    },
    {
      "cell_type": "code",
      "execution_count": 43,
      "metadata": {
        "id": "KC8hoEV_E0dg"
      },
      "outputs": [],
      "source": [
        "# Split data into features (X) and target variable (y)\n",
        "X = data.drop('Class', axis=1)\n",
        "y = data['Class']"
      ]
    },
    {
      "cell_type": "code",
      "execution_count": 44,
      "metadata": {
        "id": "mhkCiWGuL_bq"
      },
      "outputs": [],
      "source": [
        "# Split the data into training and testing sets\n",
        "X_train, X_test, y_train, y_test = train_test_split(X, y, test_size=0.2, random_state=7)\n"
      ]
    },
    {
      "cell_type": "code",
      "execution_count": 45,
      "metadata": {
        "colab": {
          "base_uri": "https://localhost:8080/"
        },
        "id": "O-ZSeeBGMDFn",
        "outputId": "fe80aceb-06c1-4d18-acb0-74a4b88b131f"
      },
      "outputs": [
        {
          "name": "stdout",
          "output_type": "stream",
          "text": [
            "AdaBoost Classifier mean accuracy:  0.9534740259740259\n",
            "Adaboost Classifier test accuracy:  0.9571428571428572\n"
          ]
        }
      ],
      "source": [
        "# Define K-fold cross-validation\n",
        "kfold = KFold(n_splits=10, random_state=7, shuffle=True)\n",
        "\n",
        "# Create a pipeline for AdaBoost classifier with Decision Tree base estimator\n",
        "adaboost_pipeline = Pipeline([\n",
        "    ('imputer', SimpleImputer(strategy='mean')),\n",
        "    ('scaler', MinMaxScaler(feature_range=(0, 1))),\n",
        "    ('classifier', AdaBoostClassifier(n_estimators=70, random_state=7))\n",
        "])\n",
        "\n",
        "# Evaluate the Adaboost Classifier pipeline using cross-validation on the training set\n",
        "adaboost_results = cross_val_score(adaboost_pipeline, X_train, y_train, cv=kfold)\n",
        "print(\"AdaBoost Classifier mean accuracy: \", adaboost_results.mean())\n",
        "\n",
        "\n",
        "# Fit the Adaboost Classifier pipeline on the training set and evaluate on the test set\n",
        "adaboost_pipeline.fit(X_train, y_train)\n",
        "adaboost_test_score = adaboost_pipeline.score(X_test, y_test)\n",
        "print(\"Adaboost Classifier test accuracy: \", adaboost_test_score)\n"
      ]
    },
    {
      "cell_type": "code",
      "execution_count": 46,
      "metadata": {
        "colab": {
          "base_uri": "https://localhost:8080/",
          "height": 675
        },
        "id": "kj75Zhg8PIwJ",
        "outputId": "ac187e56-9b3f-4b11-db51-10f122ba08c9"
      },
      "outputs": [
        {
          "name": "stdout",
          "output_type": "stream",
          "text": [
            "___________________________Adaboost Classifier_______________________\n",
            "\n",
            "# Classification report\n",
            "              precision    recall  f1-score   support\n",
            "\n",
            "           0       0.96      0.98      0.97        91\n",
            "           1       0.96      0.92      0.94        49\n",
            "\n",
            "    accuracy                           0.96       140\n",
            "   macro avg       0.96      0.95      0.95       140\n",
            "weighted avg       0.96      0.96      0.96       140\n",
            "\n",
            "# Confusion matrix\n"
          ]
        },
        {
          "data": {
            "image/png": "[encoded data removed]",
            "text/plain": [
              "<Figure size 640x480 with 2 Axes>"
            ]
          },
          "metadata": {},
          "output_type": "display_data"
        }
      ],
      "source": [
        "# fitting  and evaluating Boosting classifier model in training and test dataset\n",
        "\n",
        "print('___________________________Adaboost Classifier_______________________')\n",
        "print()\n",
        "# evaluating model on test dataset\n",
        "y_pred = adaboost_pipeline.predict(X_test)\n",
        "print('# Classification report')\n",
        "print(classification_report(y_test,y_pred))\n",
        "print('# Confusion matrix')\n",
        "cmap = 'summer'\n",
        "display_labels=['Benign','Malignant']\n",
        "cm = confusion_matrix(y_test,y_pred)\n",
        "disp = ConfusionMatrixDisplay(confusion_matrix=cm, display_labels=display_labels)\n",
        "disp.plot(cmap=cmap)\n",
        "plt.show()"
      ]
    },
    {
      "cell_type": "markdown",
      "metadata": {
        "id": "q2dDrw4eFZnt"
      },
      "source": [
        "__Observations:__\n",
        "\n",
        "- This demonstrates the importance and effectiveness of AdaBoost in enhancing the predictive capability of weak learners, like decision trees."
      ]
    },
    {
      "cell_type": "markdown",
      "metadata": {
        "id": "RrtF9-XNFelO"
      },
      "source": [
        "#### __4.2.3. Gradient Boosting Machine__\n",
        "\n",
        "\n",
        "\n",
        "\n"
      ]
    },
    {
      "cell_type": "markdown",
      "metadata": {
        "id": "XKNYtSHlF6w_"
      },
      "source": [
        "Gradient boosting refers to a class of ensemble machine learning algorithms that can be used for classification or regression predictive modeling problems.\n",
        "\n",
        "Gradient boosting is also known as gradient tree boosting, stochastic gradient boosting (an extension), and gradient boosting machines, or GBM for short.\n",
        "\n",
        "Ensembles are constructed from decision tree models. Trees are added one at a time to the ensemble and fit to correct the prediction errors made by prior models\n",
        "\n",
        "**Gradient Boosting involves three main components:**\n",
        "\n",
        "* Loss Function: The choice of loss function depends on the type of problem being solved (e.g., regression, classification). The goal is to find a model that minimizes the loss function.\n",
        "\n",
        "* Weak Learners: Gradient Boosting uses decision trees as the default weak learner. These trees are usually of a fixed size and depth and are created one at a time.\n",
        "\n",
        "* Additive Model: Instead of adjusting the weights of data points like AdaBoost, Gradient Boosting fits new models to the residual errors made by previous models. Essentially, each new model is built on the errors of the whole ensemble so far."
      ]
    },
    {
      "cell_type": "markdown",
      "metadata": {
        "id": "V6-zlpRIGURL"
      },
      "source": [
        "#### __4.2.4. XGBoost__\n",
        "\n",
        "XGBoost, or eXtreme Gradient Boosting, stands out as a premier machine learning framework, widely adopted for its proficiency in supervised learning tasks including classification, regression, and ranking. This advanced algorithm builds upon the principles of gradient boosting and is celebrated for its exceptional accuracy and scalability in handling complex predictive modeling challenges.\n",
        "\n",
        " **XGBoost offers many essential features that make it ideal for classification tasks. Some of the reasons include:**\n",
        "\n",
        "* High performance: As mentioned above, XGBoost is optimized for speed and efficiency, making it appropriate for large datasets and real-time applications.\n",
        "\n",
        "* Regularization methods: L1 (Lasso) and L2 (Ridge) regularisation terms are included in XGBoost to avoid overfitting and increase generalization.\n",
        "\n",
        "* Handle missing data: Moreover, XGBoost can handle missing data automatically, minimizing the need for preprocessing and imputation.\n",
        "\n",
        "\n"
      ]
    },
    {
      "cell_type": "markdown",
      "metadata": {
        "id": "ZH5Jli4RE5Kq"
      },
      "source": [
        "#### __4.2.5. CatBoost__\n",
        "\n",
        "Catboost is a variant of gradient boosting that can handle both categorical and numerical features. It does not require any feature encodings techniques like One-Hot Encoder or Label Encoder to convert categorical features into numerical features."
      ]
    },
    {
      "cell_type": "markdown",
      "metadata": {
        "id": "owZskOIvHJ5R"
      },
      "source": [
        "### **Implementation of XGBoost, Gradient Boost and CatBoost Algorithm:**"
      ]
    },
    {
      "cell_type": "code",
      "execution_count": 47,
      "metadata": {
        "colab": {
          "base_uri": "https://localhost:8080/"
        },
        "id": "GckeLdfKH19w",
        "outputId": "98c3f2f5-8000-47b6-9049-7193076dbe2d"
      },
      "outputs": [
        {
          "name": "stdout",
          "output_type": "stream",
          "text": [
            "Defaulting to user installation because normal site-packages is not writeable\n",
            "Requirement already satisfied: catboost in c:\\users\\jim\\appdata\\roaming\\python\\python313\\site-packages (1.2.8)\n",
            "Requirement already satisfied: graphviz in c:\\users\\jim\\appdata\\roaming\\python\\python313\\site-packages (from catboost) (0.21)\n",
            "Requirement already satisfied: matplotlib in c:\\users\\jim\\appdata\\roaming\\python\\python313\\site-packages (from catboost) (3.10.3)\n",
            "Requirement already satisfied: numpy<3.0,>=1.16.0 in c:\\users\\jim\\appdata\\roaming\\python\\python313\\site-packages (from catboost) (2.0.2)\n",
            "Requirement already satisfied: pandas>=0.24 in c:\\users\\jim\\appdata\\roaming\\python\\python313\\site-packages (from catboost) (2.2.2)\n",
            "Requirement already satisfied: scipy in c:\\users\\jim\\appdata\\roaming\\python\\python313\\site-packages (from catboost) (1.15.3)\n",
            "Requirement already satisfied: plotly in c:\\users\\jim\\appdata\\roaming\\python\\python313\\site-packages (from catboost) (6.1.2)\n",
            "Requirement already satisfied: six in c:\\users\\jim\\appdata\\roaming\\python\\python313\\site-packages (from catboost) (1.17.0)\n",
            "Requirement already satisfied: python-dateutil>=2.8.2 in c:\\users\\jim\\appdata\\roaming\\python\\python313\\site-packages (from pandas>=0.24->catboost) (2.9.0.post0)\n",
            "Requirement already satisfied: pytz>=2020.1 in c:\\users\\jim\\appdata\\roaming\\python\\python313\\site-packages (from pandas>=0.24->catboost) (2025.2)\n",
            "Requirement already satisfied: tzdata>=2022.7 in c:\\users\\jim\\appdata\\roaming\\python\\python313\\site-packages (from pandas>=0.24->catboost) (2025.2)\n",
            "Requirement already satisfied: contourpy>=1.0.1 in c:\\users\\jim\\appdata\\roaming\\python\\python313\\site-packages (from matplotlib->catboost) (1.3.2)\n",
            "Requirement already satisfied: cycler>=0.10 in c:\\users\\jim\\appdata\\roaming\\python\\python313\\site-packages (from matplotlib->catboost) (0.12.1)\n",
            "Requirement already satisfied: fonttools>=4.22.0 in c:\\users\\jim\\appdata\\roaming\\python\\python313\\site-packages (from matplotlib->catboost) (4.58.5)\n",
            "Requirement already satisfied: kiwisolver>=1.3.1 in c:\\users\\jim\\appdata\\roaming\\python\\python313\\site-packages (from matplotlib->catboost) (1.4.8)\n",
            "Requirement already satisfied: packaging>=20.0 in c:\\users\\jim\\appdata\\roaming\\python\\python313\\site-packages (from matplotlib->catboost) (25.0)\n",
            "Requirement already satisfied: pillow>=8 in c:\\users\\jim\\appdata\\roaming\\python\\python313\\site-packages (from matplotlib->catboost) (11.2.1)\n",
            "Requirement already satisfied: pyparsing>=2.3.1 in c:\\users\\jim\\appdata\\roaming\\python\\python313\\site-packages (from matplotlib->catboost) (3.2.3)\n",
            "Requirement already satisfied: narwhals>=1.15.1 in c:\\users\\jim\\appdata\\roaming\\python\\python313\\site-packages (from plotly->catboost) (1.43.0)\n"
          ]
        },
        {
          "name": "stderr",
          "output_type": "stream",
          "text": [
            "WARNING: Ignoring invalid distribution ~orch (C:\\Users\\jim\\AppData\\Roaming\\Python\\Python313\\site-packages)\n",
            "WARNING: Ignoring invalid distribution ~orch (C:\\Users\\jim\\AppData\\Roaming\\Python\\Python313\\site-packages)\n",
            "WARNING: Ignoring invalid distribution ~orch (C:\\Users\\jim\\AppData\\Roaming\\Python\\Python313\\site-packages)\n",
            "\n",
            "[notice] A new release of pip is available: 25.1.1 -> 25.2\n",
            "[notice] To update, run: C:\\Python313\\python.exe -m pip install --upgrade pip\n"
          ]
        }
      ],
      "source": [
        "!pip install catboost"
      ]
    },
    {
      "cell_type": "code",
      "execution_count": 48,
      "metadata": {
        "id": "QItOj6EvN_oM"
      },
      "outputs": [],
      "source": [
        "# Import necessary libraries\n",
        "# Import necessary libraries\n",
        "import pandas as pd\n",
        "import numpy as np\n",
        "from sklearn.impute import SimpleImputer\n",
        "from sklearn.preprocessing import MinMaxScaler\n",
        "from sklearn.pipeline import Pipeline\n",
        "from sklearn.model_selection import KFold, cross_val_score, train_test_split\n",
        "from sklearn.ensemble import GradientBoostingClassifier\n",
        "from xgboost import XGBClassifier\n",
        "from catboost import CatBoostClassifier\n",
        "\n",
        "# Load the dataset from the given URL and assign column names\n",
        "data = pd.read_csv('https://archive.ics.uci.edu/ml/machine-learning-databases/breast-cancer-wisconsin/breast-cancer-wisconsin.data', header=None)\n",
        "data.columns = ['Sample code', 'Clump Thickness', 'Uniformity of Cell Size', 'Uniformity of Cell Shape',\n",
        "                'Marginal Adhesion', 'Single Epithelial Cell Size', 'Bare Nuclei', 'Bland Chromatin',\n",
        "                'Normal Nucleoli', 'Mitoses','Class']"
      ]
    },
    {
      "cell_type": "code",
      "execution_count": 49,
      "metadata": {
        "id": "RWqHZrLxN_oN"
      },
      "outputs": [],
      "source": [
        "# Drop the 'Sample code' column as it's not required for prediction\n",
        "data.drop(['Sample code'], axis=1, inplace=True)\n",
        "\n",
        "# Replace '?' with nan to handle missing data, ensuring numerical analysis accuracy and preventing calculation errors.\n",
        "data = data.replace('?', np.nan)"
      ]
    },
    {
      "cell_type": "code",
      "execution_count": 50,
      "metadata": {
        "id": "IZKoN_FIQbL0"
      },
      "outputs": [],
      "source": [
        "# Replace class values to be binary (2 for benign, 4 for malignant)\n",
        "data['Class'] = data['Class'].replace({2: 0, 4: 1})"
      ]
    },
    {
      "cell_type": "code",
      "execution_count": 51,
      "metadata": {
        "id": "vkRxuK9lN_oN"
      },
      "outputs": [],
      "source": [
        "# Convert the 'Bare Nuclei' column to an integer type to ensure a uniform data type across the column,\n",
        "# which is essential for consistent data manipulation and analysis.\n",
        "data['Bare Nuclei'] = pd.to_numeric(data['Bare Nuclei']).fillna(0).astype('int64')"
      ]
    },
    {
      "cell_type": "code",
      "execution_count": 52,
      "metadata": {
        "id": "qUS5ArjFG9W2"
      },
      "outputs": [],
      "source": [
        "# Split data into features (X) and target variable (y)\n",
        "X = data.drop('Class', axis=1)\n",
        "y = data['Class']\n",
        "\n",
        "# Split the data into training and testing sets\n",
        "X_train, X_test, y_train, y_test = train_test_split(X, y, test_size=0.2, random_state=7)\n",
        "\n",
        "# Define K-fold cross-validation\n",
        "kfold = KFold(n_splits=10, random_state=7, shuffle=True)\n"
      ]
    },
    {
      "cell_type": "code",
      "execution_count": 53,
      "metadata": {
        "colab": {
          "base_uri": "https://localhost:8080/"
        },
        "id": "V_vo60Z2OpIe",
        "outputId": "0a7562a8-57bd-404e-b974-ffb14b5d84f3"
      },
      "outputs": [
        {
          "name": "stdout",
          "output_type": "stream",
          "text": [
            "Gradient Boosting Classifier mean accuracy after cross validation:  0.9588961038961038\n"
          ]
        }
      ],
      "source": [
        "# Gradient Boosting Classifier\n",
        "gb_pipeline = Pipeline([\n",
        "    ('imputer', SimpleImputer(strategy='mean')),\n",
        "    ('scaler', MinMaxScaler(feature_range=(0, 1))),\n",
        "    ('classifier', GradientBoostingClassifier(n_estimators=100, random_state=7))\n",
        "])\n",
        "\n",
        "# Evaluate the Gradient Boosting Classifier pipeline\n",
        "gb_results = cross_val_score(gb_pipeline, X_train, y_train, cv=kfold)\n",
        "print(\"Gradient Boosting Classifier mean accuracy after cross validation: \", gb_results.mean())"
      ]
    },
    {
      "cell_type": "code",
      "execution_count": 54,
      "metadata": {
        "colab": {
          "base_uri": "https://localhost:8080/"
        },
        "id": "ctGIP3YfOrTA",
        "outputId": "13d39e3c-c07d-4b7f-fa3a-7e3345beb8b8"
      },
      "outputs": [
        {
          "name": "stdout",
          "output_type": "stream",
          "text": [
            "Gradient Boosting Classifier test accuracy:  0.9571428571428572\n"
          ]
        }
      ],
      "source": [
        "# Fit the Gradient boosting Classifier pipeline on the training set and evaluate on the test set\n",
        "gb_pipeline.fit(X_train, y_train)\n",
        "gb_boost_test_score = gb_pipeline.score(X_test, y_test)\n",
        "print(\"Gradient Boosting Classifier test accuracy: \", gb_boost_test_score)"
      ]
    },
    {
      "cell_type": "code",
      "execution_count": 55,
      "metadata": {
        "colab": {
          "base_uri": "https://localhost:8080/",
          "height": 675
        },
        "id": "eNHcB9z3RGoQ",
        "outputId": "2df454b0-41ef-4750-9277-b51a3cbf7e4b"
      },
      "outputs": [
        {
          "name": "stdout",
          "output_type": "stream",
          "text": [
            "___________________________Gradient Boosting Classifier_______________________\n",
            "\n",
            "# Classification report\n",
            "              precision    recall  f1-score   support\n",
            "\n",
            "           0       0.97      0.97      0.97        91\n",
            "           1       0.94      0.94      0.94        49\n",
            "\n",
            "    accuracy                           0.96       140\n",
            "   macro avg       0.95      0.95      0.95       140\n",
            "weighted avg       0.96      0.96      0.96       140\n",
            "\n",
            "# Confusion matrix\n"
          ]
        },
        {
          "data": {
            "image/png": "[encoded data removed]",
            "text/plain": [
              "<Figure size 640x480 with 2 Axes>"
            ]
          },
          "metadata": {},
          "output_type": "display_data"
        }
      ],
      "source": [
        "# fitting  and evaluating Boosting classifier model in training and test dataset\n",
        "\n",
        "print('___________________________Gradient Boosting Classifier_______________________')\n",
        "print()\n",
        "# evaluating model on test dataset\n",
        "y_pred = gb_pipeline.predict(X_test)\n",
        "print('# Classification report')\n",
        "print(classification_report(y_test,y_pred))\n",
        "print('# Confusion matrix')\n",
        "cmap = 'summer'\n",
        "display_labels=['Benign','Malignant']\n",
        "cm = confusion_matrix(y_test,y_pred)\n",
        "disp = ConfusionMatrixDisplay(confusion_matrix=cm, display_labels=display_labels)\n",
        "disp.plot(cmap=cmap)\n",
        "plt.show()"
      ]
    },
    {
      "cell_type": "markdown",
      "metadata": {
        "id": "7NJBObmGH8AI"
      },
      "source": [
        "- In XGBoost, one-hot encoding is used for multi-class classification problems to transform the categorical target variables into a binary matrix format.\n",
        "\n",
        "- This conversion is crucial for applying gradient boosting techniques effectively, allowing each model iteration to focus on optimizing classification accuracy across potentially many different classes.\n",
        "\n",
        "- XGBoost, along with other gradient boosting methods, enhances model accuracy by optimizing specific loss functions. Logarithmic Loss (**LogLoss**), also known as Cross-Entropy Loss is  used as an evaluation metric for this classification problems.\n"
      ]
    },
    {
      "cell_type": "code",
      "execution_count": 56,
      "metadata": {
        "colab": {
          "base_uri": "https://localhost:8080/"
        },
        "id": "qGi8HrMaHkxo",
        "outputId": "da3051a3-eda0-4bba-961c-8704c75f4aa6"
      },
      "outputs": [
        {
          "name": "stderr",
          "output_type": "stream",
          "text": [
            "c:\\Users\\jim\\AppData\\Local\\Programs\\Python\\Python311\\Lib\\site-packages\\xgboost\\training.py:183: UserWarning: [10:23:49] WARNING: C:\\actions-runner\\_work\\xgboost\\xgboost\\src\\learner.cc:738: \n",
            "Parameters: { \"use_label_encoder\" } are not used.\n",
            "\n",
            "  bst.update(dtrain, iteration=i, fobj=obj)\n",
            "c:\\Users\\jim\\AppData\\Local\\Programs\\Python\\Python311\\Lib\\site-packages\\xgboost\\training.py:183: UserWarning: [10:23:49] WARNING: C:\\actions-runner\\_work\\xgboost\\xgboost\\src\\learner.cc:738: \n",
            "Parameters: { \"use_label_encoder\" } are not used.\n",
            "\n",
            "  bst.update(dtrain, iteration=i, fobj=obj)\n",
            "c:\\Users\\jim\\AppData\\Local\\Programs\\Python\\Python311\\Lib\\site-packages\\xgboost\\training.py:183: UserWarning: [10:23:49] WARNING: C:\\actions-runner\\_work\\xgboost\\xgboost\\src\\learner.cc:738: \n",
            "Parameters: { \"use_label_encoder\" } are not used.\n",
            "\n",
            "  bst.update(dtrain, iteration=i, fobj=obj)\n",
            "c:\\Users\\jim\\AppData\\Local\\Programs\\Python\\Python311\\Lib\\site-packages\\xgboost\\training.py:183: UserWarning: [10:23:49] WARNING: C:\\actions-runner\\_work\\xgboost\\xgboost\\src\\learner.cc:738: \n",
            "Parameters: { \"use_label_encoder\" } are not used.\n",
            "\n",
            "  bst.update(dtrain, iteration=i, fobj=obj)\n",
            "c:\\Users\\jim\\AppData\\Local\\Programs\\Python\\Python311\\Lib\\site-packages\\xgboost\\training.py:183: UserWarning: [10:23:49] WARNING: C:\\actions-runner\\_work\\xgboost\\xgboost\\src\\learner.cc:738: \n",
            "Parameters: { \"use_label_encoder\" } are not used.\n",
            "\n",
            "  bst.update(dtrain, iteration=i, fobj=obj)\n",
            "c:\\Users\\jim\\AppData\\Local\\Programs\\Python\\Python311\\Lib\\site-packages\\xgboost\\training.py:183: UserWarning: [10:23:49] WARNING: C:\\actions-runner\\_work\\xgboost\\xgboost\\src\\learner.cc:738: \n",
            "Parameters: { \"use_label_encoder\" } are not used.\n",
            "\n",
            "  bst.update(dtrain, iteration=i, fobj=obj)\n",
            "c:\\Users\\jim\\AppData\\Local\\Programs\\Python\\Python311\\Lib\\site-packages\\xgboost\\training.py:183: UserWarning: [10:23:49] WARNING: C:\\actions-runner\\_work\\xgboost\\xgboost\\src\\learner.cc:738: \n",
            "Parameters: { \"use_label_encoder\" } are not used.\n",
            "\n",
            "  bst.update(dtrain, iteration=i, fobj=obj)\n",
            "c:\\Users\\jim\\AppData\\Local\\Programs\\Python\\Python311\\Lib\\site-packages\\xgboost\\training.py:183: UserWarning: [10:23:49] WARNING: C:\\actions-runner\\_work\\xgboost\\xgboost\\src\\learner.cc:738: \n",
            "Parameters: { \"use_label_encoder\" } are not used.\n",
            "\n",
            "  bst.update(dtrain, iteration=i, fobj=obj)\n",
            "c:\\Users\\jim\\AppData\\Local\\Programs\\Python\\Python311\\Lib\\site-packages\\xgboost\\training.py:183: UserWarning: [10:23:49] WARNING: C:\\actions-runner\\_work\\xgboost\\xgboost\\src\\learner.cc:738: \n",
            "Parameters: { \"use_label_encoder\" } are not used.\n",
            "\n",
            "  bst.update(dtrain, iteration=i, fobj=obj)\n",
            "c:\\Users\\jim\\AppData\\Local\\Programs\\Python\\Python311\\Lib\\site-packages\\xgboost\\training.py:183: UserWarning: [10:23:49] WARNING: C:\\actions-runner\\_work\\xgboost\\xgboost\\src\\learner.cc:738: \n",
            "Parameters: { \"use_label_encoder\" } are not used.\n",
            "\n",
            "  bst.update(dtrain, iteration=i, fobj=obj)\n",
            "c:\\Users\\jim\\AppData\\Local\\Programs\\Python\\Python311\\Lib\\site-packages\\xgboost\\training.py:183: UserWarning: [10:23:49] WARNING: C:\\actions-runner\\_work\\xgboost\\xgboost\\src\\learner.cc:738: \n",
            "Parameters: { \"use_label_encoder\" } are not used.\n",
            "\n",
            "  bst.update(dtrain, iteration=i, fobj=obj)\n"
          ]
        },
        {
          "name": "stdout",
          "output_type": "stream",
          "text": [
            "XGBoost Classifier mean accuracy:  0.957012987012987\n",
            "XGBoost Classifier test accuracy:  0.9428571428571428\n",
            "\n",
            "CatBoost Classifier CV mean accuracy:  0.9660389610389611\n",
            "CatBoost Classifier test accuracy:  0.9571428571428572\n"
          ]
        }
      ],
      "source": [
        "from sklearn.preprocessing import LabelEncoder\n",
        "le = LabelEncoder()\n",
        "y = le.fit_transform(y)\n",
        "\n",
        "# Split the data into training and testing sets\n",
        "X_train, X_test, y_train, y_test = train_test_split(X, y, test_size=0.2, random_state=7)\n",
        "\n",
        "# XGBoost Classifier\n",
        "xgb_pipeline = Pipeline([\n",
        "    ('imputer', SimpleImputer(strategy='mean')),\n",
        "    ('scaler', MinMaxScaler(feature_range=(0, 1))),\n",
        "    ('classifier', XGBClassifier(n_estimators=100, random_state=7, use_label_encoder=True, eval_metric='logloss'))\n",
        "])\n",
        "\n",
        "# Evaluate the XGBoost Classifier pipeline\n",
        "xgb_results = cross_val_score(xgb_pipeline, X_train, y_train, cv=kfold, error_score=\"raise\")\n",
        "print(\"XGBoost Classifier mean accuracy: \", xgb_results.mean())\n",
        "\n",
        "# Fit the Gradient boosting Classifier pipeline on the training set and evaluate on the test set\n",
        "xgb_pipeline.fit(X_train, y_train)\n",
        "xgb_test_score = xgb_pipeline.score(X_test, y_test)\n",
        "print(\"XGBoost Classifier test accuracy: \", xgb_test_score)\n",
        "print()\n",
        "# CatBoost Classifier\n",
        "cat_pipeline = Pipeline([\n",
        "    ('imputer', SimpleImputer(strategy='mean')),\n",
        "    ('scaler', MinMaxScaler(feature_range=(0, 1))),\n",
        "    ('classifier', CatBoostClassifier(n_estimators=100, random_state=7, verbose=0))\n",
        "])\n",
        "\n",
        "# Evaluate the CatBoost Classifier pipeline using cross-validation on the training set\n",
        "cat_cv_results = cross_val_score(cat_pipeline, X_train, y_train, cv=kfold)\n",
        "print(\"CatBoost Classifier CV mean accuracy: \", cat_cv_results.mean())\n",
        "\n",
        "# Fit the CatBoost Classifier pipeline on the training set and evaluate on the test set\n",
        "cat_pipeline.fit(X_train, y_train)\n",
        "cat_test_score = cat_pipeline.score(X_test, y_test)\n",
        "print(\"CatBoost Classifier test accuracy: \", cat_test_score)\n"
      ]
    },
    {
      "cell_type": "code",
      "execution_count": 57,
      "metadata": {
        "colab": {
          "base_uri": "https://localhost:8080/",
          "height": 675
        },
        "id": "K_o70u4NRVNS",
        "outputId": "e36c9d96-7416-4545-dd00-05e9d9c5f80f"
      },
      "outputs": [
        {
          "name": "stdout",
          "output_type": "stream",
          "text": [
            "___________________________XGBoost Classifier_______________________\n",
            "\n",
            "# Classification report\n",
            "              precision    recall  f1-score   support\n",
            "\n",
            "           0       0.95      0.97      0.96        91\n",
            "           1       0.94      0.90      0.92        49\n",
            "\n",
            "    accuracy                           0.94       140\n",
            "   macro avg       0.94      0.93      0.94       140\n",
            "weighted avg       0.94      0.94      0.94       140\n",
            "\n",
            "# Confusion matrix\n"
          ]
        },
        {
          "data": {
            "image/png": "[encoded data removed]",
            "text/plain": [
              "<Figure size 640x480 with 2 Axes>"
            ]
          },
          "metadata": {},
          "output_type": "display_data"
        }
      ],
      "source": [
        "# fitting  and evaluating Boosting classifier model in training and test dataset\n",
        "\n",
        "print('___________________________XGBoost Classifier_______________________')\n",
        "print()\n",
        "# evaluating model on test dataset\n",
        "y_pred = xgb_pipeline.predict(X_test)\n",
        "print('# Classification report')\n",
        "print(classification_report(y_test,y_pred))\n",
        "print('# Confusion matrix')\n",
        "cmap = 'summer'\n",
        "display_labels=['Benign','Malignant']\n",
        "cm = confusion_matrix(y_test,y_pred)\n",
        "disp = ConfusionMatrixDisplay(confusion_matrix=cm, display_labels=display_labels)\n",
        "disp.plot(cmap=cmap)\n",
        "plt.show()"
      ]
    },
    {
      "cell_type": "code",
      "execution_count": 58,
      "metadata": {
        "colab": {
          "base_uri": "https://localhost:8080/",
          "height": 675
        },
        "id": "QmMuGFwBRvAz",
        "outputId": "7fabbe56-d7b8-45bb-8b6c-405afe08e009"
      },
      "outputs": [
        {
          "name": "stdout",
          "output_type": "stream",
          "text": [
            "___________________________CatBoost Classifier_______________________\n",
            "\n",
            "# Classification report\n",
            "              precision    recall  f1-score   support\n",
            "\n",
            "           0       0.97      0.97      0.97        91\n",
            "           1       0.94      0.94      0.94        49\n",
            "\n",
            "    accuracy                           0.96       140\n",
            "   macro avg       0.95      0.95      0.95       140\n",
            "weighted avg       0.96      0.96      0.96       140\n",
            "\n",
            "# Confusion matrix\n"
          ]
        },
        {
          "data": {
            "image/png": "[encoded data removed]",
            "text/plain": [
              "<Figure size 640x480 with 2 Axes>"
            ]
          },
          "metadata": {},
          "output_type": "display_data"
        }
      ],
      "source": [
        "# fitting  and evaluating Boosting classifier model in training and test dataset\n",
        "\n",
        "print('___________________________CatBoost Classifier_______________________')\n",
        "print()\n",
        "# evaluating model on test dataset\n",
        "y_pred = cat_pipeline.predict(X_test)\n",
        "print('# Classification report')\n",
        "print(classification_report(y_test,y_pred))\n",
        "print('# Confusion matrix')\n",
        "cmap = 'summer'\n",
        "display_labels=['Benign','Malignant']\n",
        "cm = confusion_matrix(y_test,y_pred)\n",
        "disp = ConfusionMatrixDisplay(confusion_matrix=cm, display_labels=display_labels)\n",
        "disp.plot(cmap=cmap)\n",
        "plt.show()"
      ]
    },
    {
      "cell_type": "markdown",
      "metadata": {
        "id": "ZBJvTzGCl35H"
      },
      "source": [
        "### __4.2.6 Advantages of Boosting__\n",
        "\n",
        "- It enhances accuracy by reducing both bias and variance significantly.\n",
        "- It is adaptable and compatible with various types of models.\n",
        "- It is efficient in complex scenarios where simple models struggle.\n"
      ]
    },
    {
      "cell_type": "markdown",
      "metadata": {
        "id": "ZtTBAqj6l35H"
      },
      "source": [
        "### __4.2.7 Disadvantages of Boosting__\n",
        "\n",
        "- It is more susceptible to overfitting compared to bagging when dealing with noisy data.\n",
        "- It demands more computational resources as models are trained sequentially.\n",
        "- It requires careful parameter tuning to prevent overfitting."
      ]
    },
    {
      "cell_type": "markdown",
      "metadata": {
        "id": "ISzmy1N4l35H"
      },
      "source": [
        "### __4.3 Stacking__"
      ]
    },
    {
      "cell_type": "markdown",
      "metadata": {
        "id": "UFdDShzal35I"
      },
      "source": [
        "Stacking combines multiple classification or regression models via a meta model which could be a meta-classifier or a meta-regressor. After training the base models on the complete dataset, the meta-model trains on the base models' outputs as features, to give final prediction.\n",
        "\n",
        "This technique leverages the strengths of each base model and can achieve higher accuracy.\n",
        "\n",
        "* In stacking, as opposed to bagging, a variety of models (not solely decision trees) are employed, all of which are trained on the same full dataset rather than on subsets.\n",
        "* Unlike boosting, in stacking, a single model is used to learn how to best combine the predictions from the contributing models (e.g. instead of a sequence of models that correct the predictions of prior models)."
      ]
    },
    {
      "cell_type": "markdown",
      "metadata": {
        "id": "c91jJx3ml35I"
      },
      "source": [
        "\n",
        "![link text](https://labcontent.simplicdn.net/data-content/content-assets/Data_and_AI/ML/updated/Lesson_05/image7.png)"
      ]
    },
    {
      "cell_type": "markdown",
      "metadata": {
        "id": "Tld9diA9l35I"
      },
      "source": [
        "__Note:__ The numbering shown in the above image specifically outlines the workflow for stacking."
      ]
    },
    {
      "cell_type": "markdown",
      "metadata": {
        "id": "FfLBZ8lTl35I"
      },
      "source": [
        "- Stacking aims to leverage the advantages of different base models by inputting their predictions into a meta-model.\n",
        "\n",
        "The structure of a stacking model consists of multiple base models, also known as level-0 models, alongside a meta-model that integrates their predictions, known as the level-1 model.\n",
        "\n",
        "* Level-0 Models (**Base Models**): These models are trained on the full training dataset, and their individual predictions are aggregated.\n",
        "* Level-1 Model (**Meta-Model**): This model is designed to optimally combine the predictions of multiple base models to generate the final prediction.\n"
      ]
    },
    {
      "cell_type": "code",
      "execution_count": 59,
      "metadata": {
        "colab": {
          "base_uri": "https://localhost:8080/"
        },
        "id": "usaORpXSl35I",
        "outputId": "d478bcd9-6685-4336-ff3d-f67210c2a563"
      },
      "outputs": [
        {
          "name": "stdout",
          "output_type": "stream",
          "text": [
            "Defaulting to user installation because normal site-packages is not writeable\n",
            "Requirement already satisfied: vecstack in c:\\users\\jim\\appdata\\roaming\\python\\python313\\site-packages (0.4.0)\n",
            "Requirement already satisfied: numpy in c:\\users\\jim\\appdata\\roaming\\python\\python313\\site-packages (from vecstack) (2.0.2)\n",
            "Requirement already satisfied: scipy in c:\\users\\jim\\appdata\\roaming\\python\\python313\\site-packages (from vecstack) (1.15.3)\n",
            "Requirement already satisfied: scikit-learn>=0.18 in c:\\users\\jim\\appdata\\roaming\\python\\python313\\site-packages (from vecstack) (1.7.0)\n",
            "Requirement already satisfied: joblib>=1.2.0 in c:\\users\\jim\\appdata\\roaming\\python\\python313\\site-packages (from scikit-learn>=0.18->vecstack) (1.5.1)\n",
            "Requirement already satisfied: threadpoolctl>=3.1.0 in c:\\users\\jim\\appdata\\roaming\\python\\python313\\site-packages (from scikit-learn>=0.18->vecstack) (3.6.0)\n"
          ]
        },
        {
          "name": "stderr",
          "output_type": "stream",
          "text": [
            "WARNING: Ignoring invalid distribution ~orch (C:\\Users\\jim\\AppData\\Roaming\\Python\\Python313\\site-packages)\n",
            "WARNING: Ignoring invalid distribution ~orch (C:\\Users\\jim\\AppData\\Roaming\\Python\\Python313\\site-packages)\n",
            "WARNING: Ignoring invalid distribution ~orch (C:\\Users\\jim\\AppData\\Roaming\\Python\\Python313\\site-packages)\n",
            "\n",
            "[notice] A new release of pip is available: 25.1.1 -> 25.2\n",
            "[notice] To update, run: C:\\Python313\\python.exe -m pip install --upgrade pip\n"
          ]
        }
      ],
      "source": [
        "# Import Required Libraries\n",
        "# vecstack: is Python package for stacking\n",
        "!pip install vecstack"
      ]
    },
    {
      "cell_type": "code",
      "execution_count": 60,
      "metadata": {
        "id": "TyQx0mmNTZ4h"
      },
      "outputs": [],
      "source": [
        "# Import necessary libraries like pandas, sklearn and vecstack\n",
        "import pandas as pd\n",
        "from sklearn.model_selection import train_test_split\n",
        "from sklearn.neighbors import KNeighborsClassifier\n",
        "from sklearn.ensemble import RandomForestClassifier\n",
        "from xgboost import XGBClassifier\n",
        "from sklearn.linear_model import LogisticRegression\n",
        "from sklearn.metrics import accuracy_score\n",
        "from vecstack import stacking\n",
        "from sklearn.preprocessing import LabelEncoder\n",
        "\n",
        "\n",
        "# Define the URL of the dataset\n",
        "link = 'https://archive.ics.uci.edu/ml/machine-learning-databases/wine/wine.data'\n",
        "\n",
        "# Define column names for the dataset\n",
        "names = ['Class', 'Alcohol', 'Malic acid', 'Ash',\n",
        "         'Alkalinity of ash', 'Magnesium', 'Total phenols',\n",
        "         'Flavanoids', 'Nonflavanoid phenols', 'Proanthocyanins',\n",
        "         'Color intensity', 'Hue', 'OD280/OD315 of diluted wines',\n",
        "         'Proline']\n",
        "\n",
        "# Read the dataset into a DataFrame\n",
        "df = pd.read_csv(link, header=None, names=names)\n",
        "\n",
        "# Separate features and target variable\n",
        "X = df.drop('Class', axis=1)\n",
        "y = df['Class']\n",
        "\n",
        "\n",
        "# Initialize LabelEncoder\n",
        "le = LabelEncoder()\n",
        "\n",
        "# Transform target variable y_train using LabelEncoder\n",
        "y = le.fit_transform(y)\n"
      ]
    },
    {
      "cell_type": "markdown",
      "metadata": {
        "id": "pPGCUEB-Qp3t"
      },
      "source": [
        "- `stacking` in `vecstack` allows for custom cross-validation strategies, including stratified k-fold cross-validation, shuffling, and setting random seeds for reproducibility.\n",
        "- This feature provides more control over model training and evaluation\n",
        "- `vecstack` explicitly generates out-of-fold predictions for the training data, which can be used as features for the meta-model. This process can help in preventing overfitting and providing a robust estimate of model performance."
      ]
    },
    {
      "cell_type": "code",
      "execution_count": 61,
      "metadata": {
        "id": "MrXd18kITvw_"
      },
      "outputs": [],
      "source": [
        "# Split the dataset into training and testing sets\n",
        "X_train, X_test, y_train, y_test = train_test_split(X, y, test_size=0.2, random_state=42)\n",
        "\n",
        "# Define base models\n",
        "models = [KNeighborsClassifier(n_neighbors=5),\n",
        "          RandomForestClassifier(n_estimators=100, random_state=42),\n",
        "          XGBClassifier(use_label_encoder=False, eval_metric='mlogloss')\n",
        "]\n",
        "\n",
        "# Define meta-model\n",
        "meta_model = LogisticRegression(max_iter=1000)"
      ]
    },
    {
      "cell_type": "markdown",
      "metadata": {
        "id": "G_x-axHZl35J"
      },
      "source": [
        "__Observation:__\n",
        "- The different classifiers such as KNN, Random forest and XGBoost classifier are set as the base models.\n",
        "- As the Meta model, Logistic Regression is chosen. Logistic Regression is a common choice for a meta-model in stacking because it is a simple and interpretable linear model that often performs well in combining the outputs of diverse base models."
      ]
    },
    {
      "cell_type": "markdown",
      "metadata": {
        "id": "Sh9mmgV0l35J"
      },
      "source": [
        "__S Train__ refers to a subset of the original training data used for training base models in a stacking ensemble.\n",
        "\n",
        "__S Test__ is another subset used to generate base model predictions, serving as input for the meta-model. It is crucial for generating predictions from these base models, which then act as new features for the meta-model.\n",
        "\n",
        "This two-step approach allows the ensemble to capture and leverage the unique strengths of each base model, thus improving overall predictive performance."
      ]
    },
    {
      "cell_type": "markdown",
      "metadata": {
        "id": "DtiyyVxIl35J"
      },
      "source": [
        "- Let us do the S_train and S_tests, as you will be stacking the models by passing train of X and y."
      ]
    },
    {
      "cell_type": "code",
      "execution_count": 62,
      "metadata": {
        "colab": {
          "base_uri": "https://localhost:8080/"
        },
        "id": "uUAEPzcqUpxt",
        "outputId": "ec73ac7b-76ec-4b24-d888-84f12bcdeba8"
      },
      "outputs": [
        {
          "name": "stderr",
          "output_type": "stream",
          "text": [
            "c:\\Users\\jim\\AppData\\Local\\Programs\\Python\\Python311\\Lib\\site-packages\\sklearn\\utils\\deprecation.py:132: FutureWarning: 'force_all_finite' was renamed to 'ensure_all_finite' in 1.6 and will be removed in 1.8.\n",
            "  warnings.warn(\n",
            "c:\\Users\\jim\\AppData\\Local\\Programs\\Python\\Python311\\Lib\\site-packages\\sklearn\\utils\\deprecation.py:132: FutureWarning: 'force_all_finite' was renamed to 'ensure_all_finite' in 1.6 and will be removed in 1.8.\n",
            "  warnings.warn(\n"
          ]
        },
        {
          "name": "stdout",
          "output_type": "stream",
          "text": [
            "task:         [classification]\n",
            "n_classes:    [3]\n",
            "metric:       [accuracy_score]\n",
            "mode:         [oof_pred_bag]\n",
            "n_models:     [3]\n",
            "\n",
            "model  0:     [KNeighborsClassifier]\n",
            "    fold  0:  [0.82758621]\n",
            "    fold  1:  [0.65517241]\n",
            "    fold  2:  [0.64285714]\n",
            "    fold  3:  [0.64285714]\n",
            "    fold  4:  [0.75000000]\n",
            "    ----\n",
            "    MEAN:     [0.70369458] + [0.07382427]\n",
            "    FULL:     [0.70422535]\n",
            "\n",
            "model  1:     [RandomForestClassifier]\n",
            "    fold  0:  [1.00000000]\n",
            "    fold  1:  [0.96551724]\n",
            "    fold  2:  [1.00000000]\n",
            "    fold  3:  [0.92857143]\n",
            "    fold  4:  [1.00000000]\n",
            "    ----\n",
            "    MEAN:     [0.97881773] + [0.02845227]\n",
            "    FULL:     [0.97887324]\n",
            "\n",
            "model  2:     [XGBClassifier]\n",
            "    fold  0:  [1.00000000]\n",
            "    fold  1:  [0.89655172]\n",
            "    fold  2:  [0.92857143]\n",
            "    fold  3:  [0.92857143]\n",
            "    fold  4:  [1.00000000]\n",
            "    ----\n",
            "    MEAN:     [0.95073892] + [0.04188641]\n",
            "    FULL:     [0.95070423]\n",
            "\n",
            "Accuracy of the stacking ensemble with Logistic Regression as meta-model: 0.97\n"
          ]
        },
        {
          "name": "stderr",
          "output_type": "stream",
          "text": [
            "c:\\Users\\jim\\AppData\\Local\\Programs\\Python\\Python311\\Lib\\site-packages\\xgboost\\training.py:183: UserWarning: [10:24:17] WARNING: C:\\actions-runner\\_work\\xgboost\\xgboost\\src\\learner.cc:738: \n",
            "Parameters: { \"use_label_encoder\" } are not used.\n",
            "\n",
            "  bst.update(dtrain, iteration=i, fobj=obj)\n",
            "c:\\Users\\jim\\AppData\\Local\\Programs\\Python\\Python311\\Lib\\site-packages\\xgboost\\training.py:183: UserWarning: [10:24:17] WARNING: C:\\actions-runner\\_work\\xgboost\\xgboost\\src\\learner.cc:738: \n",
            "Parameters: { \"use_label_encoder\" } are not used.\n",
            "\n",
            "  bst.update(dtrain, iteration=i, fobj=obj)\n",
            "c:\\Users\\jim\\AppData\\Local\\Programs\\Python\\Python311\\Lib\\site-packages\\xgboost\\training.py:183: UserWarning: [10:24:17] WARNING: C:\\actions-runner\\_work\\xgboost\\xgboost\\src\\learner.cc:738: \n",
            "Parameters: { \"use_label_encoder\" } are not used.\n",
            "\n",
            "  bst.update(dtrain, iteration=i, fobj=obj)\n",
            "c:\\Users\\jim\\AppData\\Local\\Programs\\Python\\Python311\\Lib\\site-packages\\xgboost\\training.py:183: UserWarning: [10:24:17] WARNING: C:\\actions-runner\\_work\\xgboost\\xgboost\\src\\learner.cc:738: \n",
            "Parameters: { \"use_label_encoder\" } are not used.\n",
            "\n",
            "  bst.update(dtrain, iteration=i, fobj=obj)\n",
            "c:\\Users\\jim\\AppData\\Local\\Programs\\Python\\Python311\\Lib\\site-packages\\xgboost\\training.py:183: UserWarning: [10:24:17] WARNING: C:\\actions-runner\\_work\\xgboost\\xgboost\\src\\learner.cc:738: \n",
            "Parameters: { \"use_label_encoder\" } are not used.\n",
            "\n",
            "  bst.update(dtrain, iteration=i, fobj=obj)\n"
          ]
        }
      ],
      "source": [
        "# Perform stacking\n",
        "S_train, S_test = stacking(models, X_train, y_train, X_test,\n",
        "                           regression=False, metric=accuracy_score,\n",
        "                           n_folds=5, stratified=True, shuffle=True,\n",
        "                           random_state=42, verbose=2)\n",
        "\n",
        "# Train the meta-model\n",
        "meta_model.fit(S_train, y_train)\n",
        "\n",
        "# Make predictions with the meta-model\n",
        "y_pred = meta_model.predict(S_test)\n",
        "\n",
        "# # Evaluate the model\n",
        "accuracy = accuracy_score(y_test, y_pred)\n",
        "print(f'Accuracy of the stacking ensemble with Logistic Regression as meta-model: {accuracy:.2f}')"
      ]
    },
    {
      "cell_type": "markdown",
      "metadata": {
        "id": "gsDTQvjul35K"
      },
      "source": [
        "__Observations:__\n",
        "\n",
        " You can observe the accuracy score and other metrics for different base models:\n",
        "- For the k-nearest neighbor classifier, the mean accuracy is 70%.\n",
        "- For the random forest, the mean accuracy is 97%.\n",
        "- For the XGBoost classifier, the mean accuracy is 95%.\n",
        "\n",
        "**Accuracy of the stacking ensemble with Logistic regression as the Meta-model: 97%**"
      ]
    },
    {
      "cell_type": "markdown",
      "metadata": {
        "id": "OpzS7tiBl35K"
      },
      "source": [
        "### __4.3.1 Advantages of Stacking__\n",
        "\n",
        "- Accomplishes greater accuracy than simplistic ensemble techniques\n",
        "- Enables diversity among models\n",
        "- Possesses the capability to rectify errors made by base models"
      ]
    },
    {
      "cell_type": "markdown",
      "metadata": {
        "id": "2ByfVEgtl35K"
      },
      "source": [
        "### __4.3.2 Disadvantages of Stacking__\n",
        "\n",
        "- Is more challenging to implement and comprehend\n",
        "- Poses a risk of overfitting the meta-model\n",
        "- Requires careful selection of both base and meta-models\n",
        "\n"
      ]
    },
    {
      "cell_type": "markdown",
      "metadata": {
        "id": "L0a5ej7Ul35Q"
      },
      "source": [
        "## __Conclusion__\n",
        "\n",
        "This lesson explores various ensemble learning techniques and emphasizes their significance in enhancing the performance of machine learning models. Through examples and practical implementations, this lesson underscores the pivotal role of ensemble learning in achieving more reliable and accurate predictions across diverse applications.\n",
        "\n",
        "Specifically, these methods excel in transforming weaker classifiers into robust systems, thereby significantly increasing the performance in classification challenges."
      ]
    }
  ],
  "metadata": {
    "colab": {
      "provenance": []
    },
    "kernelspec": {
      "display_name": "Python 3",
      "language": "python",
      "name": "python3"
    },
    "language_info": {
      "codemirror_mode": {
        "name": "ipython",
        "version": 3
      },
      "file_extension": ".py",
      "mimetype": "text/x-python",
      "name": "python",
      "nbconvert_exporter": "python",
      "pygments_lexer": "ipython3",
      "version": "3.11.9"
    }
  },
  "nbformat": 4,
  "nbformat_minor": 0
}
