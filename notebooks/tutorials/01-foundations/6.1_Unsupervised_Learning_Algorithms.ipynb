{
 "cells": [
  {
   "cell_type": "markdown",
   "metadata": {
    "id": "aMe6D8Ic5r4z"
   },
   "source": [
    "# __Unsupervised Learning__"
   ]
  },
  {
   "cell_type": "markdown",
   "metadata": {
    "id": "Cxr7J95SMRKh"
   },
   "source": [
    "# __Agenda__\n",
    "\n",
    "- Introduction to Unsupervised Learning\n",
    "  - What Is Unsupervised Learning?\n",
    "  - Approaches to Unsupervised algorithm (Clustering, Dimensionality Reduction, Association rule )\n",
    "- Clustering Techniques\n",
    "  - Overview of Clustering\n",
    "  - K-Means Clustering:\n",
    "    - Algorithm and Implementation\n",
    "    - Choosing the Number of Clusters (Elbow Method, Silhouette Score)\n",
    "  - Hierarchical Clustering:\n",
    "    - Agglomerative vs. Divisive Methods\n",
    "    - Dendrograms and Linkage Criteria\n",
    "  - DBSCAN (Density-Based Spatial Clustering of Applications with Noise)"
   ]
  },
  {
   "cell_type": "markdown",
   "metadata": {
    "id": "L3Myc4b5MVNu"
   },
   "source": [
    "## __6.1. Introduction to Unsupervised Learning__"
   ]
  },
  {
   "cell_type": "markdown",
   "metadata": {
    "id": "_2uzoQCuMVNu"
   },
   "source": [
    "### __6.1.1 What Is Unsupervised Learning__\n",
    "Unsupervised learning is a machine learning type where the model learns from unlabeled data to find patterns within it."
   ]
  },
  {
   "cell_type": "markdown",
   "metadata": {
    "id": "XoR3azbSMVNv"
   },
   "source": [
    "- It deals with unlabeled datasets.\n",
    "- It enables algorithms to work independently to discover hidden information or pattern in the data without guidance.\n",
    "- It classifies unsorted information according to patterns, differences, or similarities.\n"
   ]
  },
  {
   "cell_type": "markdown",
   "metadata": {
    "id": "QDH0EHDRMVNv"
   },
   "source": [
    "![link text](https://labcontent.simplicdn.net/data-content/content-assets/Data_and_AI/ML/New/Lesson_06_Unsupervised_Learning/unsupervised_learning.png)"
   ]
  },
  {
   "cell_type": "markdown",
   "metadata": {
    "id": "27ZN3jWpMVNv"
   },
   "source": [
    "Example: A data scientist inputs information about elderly people admitted to the hospital. The algorithm receives no external input to influence categorization.\n"
   ]
  },
  {
   "cell_type": "markdown",
   "metadata": {
    "id": "kxoY2XvtMVNv"
   },
   "source": [
    "Unsupervised learning algorithms are used to detect the following in the data:\n",
    "- Patterns\n",
    "- Differences\n",
    "- Similarities\n"
   ]
  },
  {
   "cell_type": "markdown",
   "metadata": {
    "id": "vj3JZVrcMVNv"
   },
   "source": [
    "Categorization of the given data can be based on age, average time spent in the hospital, and the types of diseases patients suffer from."
   ]
  },
  {
   "cell_type": "markdown",
   "metadata": {
    "id": "kuYyHy3eMVNv"
   },
   "source": [
    "The final categorization of a dataset aids in deriving conclusions based on different patterns generated from the data.\n"
   ]
  },
  {
   "cell_type": "markdown",
   "metadata": {
    "id": "ldaJ84w2MVNv"
   },
   "source": [
    "\n",
    "Clusters formed according to the dataset yield the following inferences:"
   ]
  },
  {
   "cell_type": "markdown",
   "metadata": {
    "id": "E6zhPaCWMVNv"
   },
   "source": [
    "![link text](https://labcontent.simplicdn.net/data-content/content-assets/Data_and_AI/ML/Lesson_06/Updated/new/ul_example.png)"
   ]
  },
  {
   "cell_type": "markdown",
   "metadata": {
    "id": "3FF3L0I8MVNw"
   },
   "source": [
    "![link text](https://labcontent.simplicdn.net/data-content/content-assets/Data_and_AI/ML/Lesson_06/Updated/new/ul_example_classifier.png)"
   ]
  },
  {
   "cell_type": "markdown",
   "metadata": {
    "id": "4RMQQc2EMVNw"
   },
   "source": [
    "- Three clusters are formed based on the average time spent in the hospital.\n"
   ]
  },
  {
   "cell_type": "markdown",
   "metadata": {
    "id": "ap22_j9zMVNw"
   },
   "source": [
    "- The death rate for patients suffering from cancer and heart disease  decreased after 1970."
   ]
  },
  {
   "cell_type": "markdown",
   "metadata": {
    "id": "kkYS-YwpMVNw"
   },
   "source": [
    "- The average hospital stay duration has decreased.\n"
   ]
  },
  {
   "cell_type": "markdown",
   "metadata": {
    "id": "riuCPgNKMVNw"
   },
   "source": [
    "- Life expectancy for a 65-year-old is higher today compared to earlier years."
   ]
  },
  {
   "cell_type": "markdown",
   "metadata": {
    "id": "jNiiKiynMVNw"
   },
   "source": [
    "- A decreasing death rate indicates progress in medical science.\n"
   ]
  },
  {
   "cell_type": "markdown",
   "metadata": {
    "id": "wTNsRQIqMVNw"
   },
   "source": [
    "In unsupervised learning, the model derives insights from the data without being taught anything.\n",
    "- It uncovers several previously unknown patterns in the dataset.\n",
    "- It helps in finding features that may be useful for categorization.\n"
   ]
  },
  {
   "cell_type": "markdown",
   "metadata": {
    "id": "OHe0Q4gmNh8m"
   },
   "source": [
    "### __6.1.2 Approaches to Unsupervised Algorithm__\n",
    "\n",
    "There are several approaches to unsupervised learning, each suited to different tasks:\n",
    "\n"
   ]
  },
  {
   "cell_type": "markdown",
   "metadata": {
    "id": "4qgO1zV1OKp2"
   },
   "source": [
    "1. **Clustering:** This is a popular approach that groups data points into clusters based on their similarities. Common clustering algorithms include k-means, hierarchical clustering, and density-based clustering like DBSCAN.\n",
    "\n",
    "2. **Dimensionality reduction:** This approach aims to reduce the number of features in a dataset while preserving the essential information. This can be useful for visualization and improving the efficiency of other machine learning algorithms. Principal component analysis (PCA) is a widely used dimensionality reduction technique.\n",
    "\n",
    "3. **Association rule learning:** This approach discovers relationships between different variables in a large dataset. It helps identify items that frequently appear together, which can be valuable for tasks like market basket analysis. The Apriori algorithm is a common example of this approach.\n",
    "\n",
    "  *Market basket analysis* is a data mining technique used by retailers to discover relationships between items that people buy together frequently. It's often leveraged in retail sales to identify strong correlations between products. A famous example of market basket analysis is the \"diapers and beer\" story, where it was found that these two products were often purchased together, leading to marketing strategies that placed these items closer to encourage further sales.\n"
   ]
  },
  {
   "cell_type": "markdown",
   "metadata": {
    "id": "SaddYsc4PSj_"
   },
   "source": [
    "### Let's understand each approach in detail one-by-one."
   ]
  },
  {
   "cell_type": "markdown",
   "metadata": {
    "id": "dsDsrn29TAug"
   },
   "source": [
    "## __6.2 Clustering Techniques__"
   ]
  },
  {
   "cell_type": "markdown",
   "metadata": {
    "id": "jnO08AXTQZWu"
   },
   "source": [
    "### __6.2.1 Overview of Clustering__"
   ]
  },
  {
   "cell_type": "markdown",
   "metadata": {
    "id": "3OjJ4Kq3Rfch"
   },
   "source": [
    "Clustering is a technique in unsupervised learning where data points are grouped together based on their similarities, aiming to discover inherent patterns or structures within the data."
   ]
  },
  {
   "cell_type": "markdown",
   "metadata": {
    "id": "hCbr6QycRrXk"
   },
   "source": [
    "![link text](https://labcontent.simplicdn.net/data-content/content-assets/Data_and_AI/ML/New/Lesson_06_Unsupervised_Learning/clustering.png)"
   ]
  },
  {
   "cell_type": "markdown",
   "metadata": {
    "id": "huBv-QDwQZYt"
   },
   "source": [
    "- Clustering techniques divide a set of data points into multiple clusters, ensuring similarity within each cluster.\n",
    "- Its goal is to segregate data points with similar traits.\n",
    "\n"
   ]
  },
  {
   "cell_type": "markdown",
   "metadata": {
    "id": "aEsZNtR1TfbW"
   },
   "source": [
    "The most common clustering algorithms used in unsupervised learning are:\n",
    "- K-means clustering\n",
    "- K-medoids\n",
    "- Agglomerative clustering\n",
    "- Density-based spatial clustering of applications with noise (DBSCAN)"
   ]
  },
  {
   "cell_type": "markdown",
   "metadata": {
    "id": "s3neil9jT4xW"
   },
   "source": [
    "**Let's understand the K-means clustering algorithm and its implementation.**"
   ]
  },
  {
   "cell_type": "markdown",
   "metadata": {
    "id": "bAc9vGwKcI9a"
   },
   "source": [
    "### __6.2.2 K-Means Clustering__"
   ]
  },
  {
   "cell_type": "markdown",
   "metadata": {
    "id": "Lg4smuWpcJA-"
   },
   "source": [
    "K-means clustering is an unsupervised machine learning algorithm that partitions data into k clusters by minimizing the within-cluster variance.\n",
    "\n",
    "- It groups unlabeled data into clusters by identifying the k number of centroids.\n",
    "- It assigns every data point to the closest cluster by calculating and using the pairwise Euclidean distance between points.\n"
   ]
  },
  {
   "cell_type": "markdown",
   "metadata": {
    "id": "d5tOVPFGcJQM"
   },
   "source": [
    "Let us understand the workings of a k-means algorithm with the help of a flow chart."
   ]
  },
  {
   "cell_type": "markdown",
   "metadata": {
    "id": "4xEgUr-acJTX"
   },
   "source": [
    "![link text](https://labcontent.simplicdn.net/data-content/content-assets/Data_and_AI/ML/Lesson_06/Updated/new/Unsupervised.png)"
   ]
  },
  {
   "cell_type": "markdown",
   "metadata": {
    "id": "CTMjZf65bYIv"
   },
   "source": [
    "![link text](https://labcontent.simplicdn.net/data-content/content-assets/Data_and_AI/ML/Lesson_06/Updated/new/K_means.png)"
   ]
  },
  {
   "cell_type": "markdown",
   "metadata": {
    "id": "0F3ISUjYbYLB"
   },
   "source": [
    "Step 1. Select the number of clusters, k (e.g., k = 2 for demonstration).\n",
    "\n",
    "Step 2. Select k random points from the dataset as the initial centroids.\n",
    "\n",
    "Step 3. Calculate the Euclidean distance from each data point to each centroid.\n",
    "\n",
    "Step 4. Assign each data point to the nearest cluster centroid based on the calculated distances.\n",
    "\n",
    "Step 5. Recalculate the centroids of each cluster as the mean of all points assigned to that cluster.\n",
    "\n",
    "Step 6. Reassign each data point to the nearest centroid. If no data points change their cluster assignments or a maximum number of iterations is reached, stop; otherwise, return to Step 5."
   ]
  },
  {
   "cell_type": "markdown",
   "metadata": {
    "id": "3eHaUFaMiXHv"
   },
   "source": [
    "**Now, let's see the implementation of the K-means clustering model.**"
   ]
  },
  {
   "cell_type": "markdown",
   "metadata": {
    "id": "UeSCLcJcezyU"
   },
   "source": [
    "- Import **pandas, NumPy, matplotlib, and KMeans** from sklearn.\n",
    "- Load the Mall_customers.csv dataset.\n"
   ]
  },
  {
   "cell_type": "code",
   "execution_count": 6,
   "metadata": {
    "id": "-dlx0qFFepNL"
   },
   "outputs": [],
   "source": [
    "import pandas as pd\n",
    "import numpy as np\n",
    "import matplotlib.pyplot as plt"
   ]
  },
  {
   "cell_type": "code",
   "execution_count": 7,
   "metadata": {},
   "outputs": [],
   "source": [
    "df = pd.read_csv(\n",
    "    r\"D:\\Desktop\\AMJ Group\\Teaching\\Class Materials\\Dell_GenAI\\Machine_Learning_ILT_Materials\\0.2_LVC\\0.3_Datasets\\Lesson_06_Unsupervised_Learning_Algorithms\\6.1_Unsupervised_Learning_Algorithms\\Mall_customers.csv\"\n",
    ")\n"
   ]
  },
  {
   "cell_type": "code",
   "execution_count": 8,
   "metadata": {
    "colab": {
     "base_uri": "https://localhost:8080/",
     "height": 206
    },
    "executionInfo": {
     "elapsed": 16,
     "status": "ok",
     "timestamp": 1718621779054,
     "user": {
      "displayName": "Aleena Raj",
      "userId": "16635257578699511263"
     },
     "user_tz": -330
    },
    "id": "km7OIyVpepNN",
    "outputId": "ee9ab083-3bc8-4f2b-927c-0356605640e7"
   },
   "outputs": [
    {
     "data": {
      "text/html": [
       "<div>\n",
       "<style scoped>\n",
       "    .dataframe tbody tr th:only-of-type {\n",
       "        vertical-align: middle;\n",
       "    }\n",
       "\n",
       "    .dataframe tbody tr th {\n",
       "        vertical-align: top;\n",
       "    }\n",
       "\n",
       "    .dataframe thead th {\n",
       "        text-align: right;\n",
       "    }\n",
       "</style>\n",
       "<table border=\"1\" class=\"dataframe\">\n",
       "  <thead>\n",
       "    <tr style=\"text-align: right;\">\n",
       "      <th></th>\n",
       "      <th>CustomerID</th>\n",
       "      <th>Gender</th>\n",
       "      <th>Age</th>\n",
       "      <th>Annual Income (k$)</th>\n",
       "      <th>Spending Score (1-100)</th>\n",
       "    </tr>\n",
       "  </thead>\n",
       "  <tbody>\n",
       "    <tr>\n",
       "      <th>0</th>\n",
       "      <td>1</td>\n",
       "      <td>Male</td>\n",
       "      <td>19</td>\n",
       "      <td>15</td>\n",
       "      <td>39</td>\n",
       "    </tr>\n",
       "    <tr>\n",
       "      <th>1</th>\n",
       "      <td>2</td>\n",
       "      <td>Male</td>\n",
       "      <td>21</td>\n",
       "      <td>15</td>\n",
       "      <td>81</td>\n",
       "    </tr>\n",
       "    <tr>\n",
       "      <th>2</th>\n",
       "      <td>3</td>\n",
       "      <td>Female</td>\n",
       "      <td>20</td>\n",
       "      <td>16</td>\n",
       "      <td>6</td>\n",
       "    </tr>\n",
       "    <tr>\n",
       "      <th>3</th>\n",
       "      <td>4</td>\n",
       "      <td>Female</td>\n",
       "      <td>23</td>\n",
       "      <td>16</td>\n",
       "      <td>77</td>\n",
       "    </tr>\n",
       "    <tr>\n",
       "      <th>4</th>\n",
       "      <td>5</td>\n",
       "      <td>Female</td>\n",
       "      <td>31</td>\n",
       "      <td>17</td>\n",
       "      <td>40</td>\n",
       "    </tr>\n",
       "  </tbody>\n",
       "</table>\n",
       "</div>"
      ],
      "text/plain": [
       "   CustomerID  Gender  Age  Annual Income (k$)  Spending Score (1-100)\n",
       "0           1    Male   19                  15                      39\n",
       "1           2    Male   21                  15                      81\n",
       "2           3  Female   20                  16                       6\n",
       "3           4  Female   23                  16                      77\n",
       "4           5  Female   31                  17                      40"
      ]
     },
     "execution_count": 8,
     "metadata": {},
     "output_type": "execute_result"
    }
   ],
   "source": [
    "df.head()"
   ]
  },
  {
   "cell_type": "markdown",
   "metadata": {
    "id": "sePTD1HdLPhz"
   },
   "source": [
    "__Observation:__\n",
    "- Here, you have the age, gender, income, and spending score of the customers."
   ]
  },
  {
   "cell_type": "markdown",
   "metadata": {
    "id": "7Carn1WSe3My"
   },
   "source": [
    "- Extract the relevant features `Annual Income (k$)` and `Spending Score (1-100)` from the dataset.\n"
   ]
  },
  {
   "cell_type": "code",
   "execution_count": 9,
   "metadata": {
    "id": "VfFJs0OLepNO"
   },
   "outputs": [],
   "source": [
    "X = df[['Annual Income (k$)', 'Spending Score (1-100)']].values"
   ]
  },
  {
   "cell_type": "code",
   "execution_count": 10,
   "metadata": {
    "id": "pL1837JHepNO"
   },
   "outputs": [],
   "source": [
    "from sklearn.cluster import KMeans"
   ]
  },
  {
   "cell_type": "markdown",
   "metadata": {
    "id": "_H7q4mLM0O1F"
   },
   "source": [
    "### __Elbow method to find the optimal K__"
   ]
  },
  {
   "cell_type": "markdown",
   "metadata": {
    "id": "ANiSYGDK0-ny"
   },
   "source": [
    "- The elbow method involves plotting the number of clusters against the distortion or inertia to identify a significant flattening point, known as the elbow point.\n",
    "- The elbow point represents a trade-off between capturing meaningful patterns and avoiding excessive complexity, indicating the optimal number of clusters.\n",
    "- By choosing the value of k at the elbow point, you strike a balance between cluster quality and simplicity, resulting in a reasonable number of clusters."
   ]
  },
  {
   "cell_type": "markdown",
   "metadata": {
    "id": "xsvBC-Tce7ac"
   },
   "source": [
    "**Steps to perform:**\n",
    "- Calculate the WCSS (within-cluster sum of squares) for different numbers of clusters.\n",
    "  - WCSS measures how compact a cluster is in k-means clustering. It calculates the total squared distance of all points within a cluster to their cluster's centroid. In simpler terms, it tells you how spread out the points are within a cluster.\n",
    "  - The lower the WCSS, the closer the points are to their cluster's center.\n",
    "- Plot the WCSS values to find the optimal number of clusters.\n"
   ]
  },
  {
   "cell_type": "code",
   "execution_count": 11,
   "metadata": {
    "colab": {
     "base_uri": "https://localhost:8080/",
     "height": 472
    },
    "executionInfo": {
     "elapsed": 2188,
     "status": "ok",
     "timestamp": 1718622854078,
     "user": {
      "displayName": "Aleena Raj",
      "userId": "16635257578699511263"
     },
     "user_tz": -330
    },
    "id": "GMG2QpHaepNO",
    "outputId": "917f1f85-97ce-42b3-a6cb-588853d2cd14"
   },
   "outputs": [
    {
     "data": {
      "image/png": "[encoded data removed]",
      "text/plain": [
       "<Figure size 640x480 with 1 Axes>"
      ]
     },
     "metadata": {},
     "output_type": "display_data"
    }
   ],
   "source": [
    "wcss = []\n",
    "for i in range(1, 11):\n",
    "    model = KMeans(n_clusters = i, n_init=10, init = 'k-means++', random_state = 42)\n",
    "    model.fit(X)\n",
    "    wcss.append(model.inertia_)\n",
    "plt.plot(range(1, 11), wcss)\n",
    "plt.title('The Elbow Method')\n",
    "plt.xlabel('Number of clusters')\n",
    "plt.ylabel('WCSS')\n",
    "plt.show()"
   ]
  },
  {
   "cell_type": "markdown",
   "metadata": {
    "id": "ds6pzkrZ6wFo"
   },
   "source": [
    "#### __Observation__\n",
    "In the plotted graph, identify where the WCSS graph starts to flatten out. The plot flattens at 5. Hence this number is chosen as the Optimal `k`"
   ]
  },
  {
   "cell_type": "markdown",
   "metadata": {
    "id": "zRBrF_obfEYw"
   },
   "source": [
    "- Train the K-means model with the optimal number of clusters.\n"
   ]
  },
  {
   "cell_type": "code",
   "execution_count": 14,
   "metadata": {
    "id": "PId_ufOjepNP"
   },
   "outputs": [],
   "source": [
    "model = KMeans(n_clusters = 5, n_init = 10, init = 'k-means++', random_state = 42)\n",
    "y_kmeans = model.fit_predict(X)"
   ]
  },
  {
   "cell_type": "markdown",
   "metadata": {
    "id": "p63Bj4qcfLMl"
   },
   "source": [
    "- Plot the clusters and their centroids on a scatter plot.\n",
    "- Assign the color for each point.\n",
    "- Consider the title, xlabel, and ylabel."
   ]
  },
  {
   "cell_type": "code",
   "execution_count": 15,
   "metadata": {
    "colab": {
     "base_uri": "https://localhost:8080/"
    },
    "executionInfo": {
     "elapsed": 420,
     "status": "ok",
     "timestamp": 1718623318754,
     "user": {
      "displayName": "Aleena Raj",
      "userId": "16635257578699511263"
     },
     "user_tz": -330
    },
    "id": "N1EOh-6J7j6q",
    "outputId": "3587e0f6-205e-4c1a-d0d9-20b64bf3186d"
   },
   "outputs": [
    {
     "data": {
      "text/plain": [
       "array([4, 2, 4, 2, 4, 2, 4, 2, 4, 2, 4, 2, 4, 2, 4, 2, 4, 2, 4, 2, 4, 2,\n",
       "       4, 2, 4, 2, 4, 2, 4, 2, 4, 2, 4, 2, 4, 2, 4, 2, 4, 2, 4, 2, 4, 0,\n",
       "       4, 2, 0, 0, 0, 0, 0, 0, 0, 0, 0, 0, 0, 0, 0, 0, 0, 0, 0, 0, 0, 0,\n",
       "       0, 0, 0, 0, 0, 0, 0, 0, 0, 0, 0, 0, 0, 0, 0, 0, 0, 0, 0, 0, 0, 0,\n",
       "       0, 0, 0, 0, 0, 0, 0, 0, 0, 0, 0, 0, 0, 0, 0, 0, 0, 0, 0, 0, 0, 0,\n",
       "       0, 0, 0, 0, 0, 0, 0, 0, 0, 0, 0, 0, 0, 1, 3, 1, 0, 1, 3, 1, 3, 1,\n",
       "       0, 1, 3, 1, 3, 1, 3, 1, 3, 1, 0, 1, 3, 1, 3, 1, 3, 1, 3, 1, 3, 1,\n",
       "       3, 1, 3, 1, 3, 1, 3, 1, 3, 1, 3, 1, 3, 1, 3, 1, 3, 1, 3, 1, 3, 1,\n",
       "       3, 1, 3, 1, 3, 1, 3, 1, 3, 1, 3, 1, 3, 1, 3, 1, 3, 1, 3, 1, 3, 1,\n",
       "       3, 1], dtype=int32)"
      ]
     },
     "execution_count": 15,
     "metadata": {},
     "output_type": "execute_result"
    }
   ],
   "source": [
    "y_kmeans"
   ]
  },
  {
   "cell_type": "code",
   "execution_count": 16,
   "metadata": {
    "colab": {
     "base_uri": "https://localhost:8080/",
     "height": 472
    },
    "executionInfo": {
     "elapsed": 1391,
     "status": "ok",
     "timestamp": 1718623194658,
     "user": {
      "displayName": "Aleena Raj",
      "userId": "16635257578699511263"
     },
     "user_tz": -330
    },
    "id": "2hdhINdXepNQ",
    "outputId": "30d881cd-1d6d-4d05-ca66-59a28308bdb0"
   },
   "outputs": [
    {
     "data": {
      "image/png": "[encoded data removed]",
      "text/plain": [
       "<Figure size 640x480 with 1 Axes>"
      ]
     },
     "metadata": {},
     "output_type": "display_data"
    }
   ],
   "source": [
    "plt.scatter(X[y_kmeans == 0, 0], X[y_kmeans == 0, 1], s = 100, c = 'red', label = 'Cluster 1')\n",
    "plt.scatter(X[y_kmeans == 1, 0], X[y_kmeans == 1, 1], s = 100, c = 'blue', label = 'Cluster 2')\n",
    "plt.scatter(X[y_kmeans == 2, 0], X[y_kmeans == 2, 1], s = 100, c = 'green', label = 'Cluster 3')\n",
    "plt.scatter(X[y_kmeans == 3, 0], X[y_kmeans == 3, 1], s = 100, c = 'cyan', label = 'Cluster 4')\n",
    "plt.scatter(X[y_kmeans == 4, 0], X[y_kmeans == 4, 1], s = 100, c = 'magenta', label = 'Cluster 5')\n",
    "plt.scatter(model.cluster_centers_[:, 0], model.cluster_centers_[:, 1], s = 300, c = 'yellow', label = 'Centroids')\n",
    "plt.title('Clusters of customers')\n",
    "plt.xlabel('Annual Income (k$)')\n",
    "plt.ylabel('Spending Score (1-100)')\n",
    "plt.legend()\n",
    "plt.show()"
   ]
  },
  {
   "cell_type": "markdown",
   "metadata": {
    "id": "HgxQDKpQN_35"
   },
   "source": [
    "#### __Observation:__\n",
    "- K-means clusters with K = 5.\n",
    "\n",
    "**Interpretation of Each Cluster**\n",
    "\n",
    "Cluster 1 (Red):\n",
    "\n",
    "Positioned at lower annual income and moderate to high spending scores.\n",
    "This cluster might represent customers who, despite having lower incomes, tend to spend a significant portion of their income.\n",
    "\n",
    "Cluster 2 (Blue):\n",
    "\n",
    "Middle to high annual income with the lowest spending scores among all clusters.\n",
    "These customers are earning a good amount but are conservative in their spending habits.\n",
    "\n",
    "Cluster 3 (Green):\n",
    "\n",
    "Lower income and lower spending scores.\n",
    "Represents a conservative customer group with limited financial flexibility.\n",
    "\n",
    "Cluster 4 (Cyan):\n",
    "\n",
    "Higher income and very high spending scores.\n",
    "These are the premium customers who earn a lot and spend a lot, likely the target for high-end marketing campaigns.\n",
    "\n",
    "Cluster 5 (Magenta):\n",
    "\n",
    "High income but moderate spending scores.\n",
    "Customers in this cluster have high earning potential but do not spend as extravagantly as those in Cluster 4."
   ]
  },
  {
   "cell_type": "markdown",
   "metadata": {
    "id": "KhBUgXVXbx7M"
   },
   "source": [
    "### **Silhouette Score**"
   ]
  },
  {
   "cell_type": "markdown",
   "metadata": {
    "id": "qUs45yNPcrWf"
   },
   "source": [
    "- Silhouette score measures how well data points fit their assigned cluster by considering both similarity within a cluster and separation between clusters.\n",
    "- Measures the quality of clustering by comparing how similar an object is to its own cluster versus other clusters.\n",
    "     - **Intra-cluster distance** is the average distance between points within the same cluster. A lower intra-cluster distance indicates that the cluster is more compact, which is generally desirable.\n",
    "     - **Inter-cluster distance** measures the distance between clusters. Ideally, you want clusters to be as far apart as possible (high inter-cluster distance) to ensure that they are distinct from one another.\n",
    "\n",
    "- The score ranges from -1 to 1.\n",
    "  - **Close to 1:** Indicates that the object is well-clustered and appropriately assigned to its cluster.\n",
    "  - **Close to 0:** Indicates that the object lies on or very close to the boundary between two clusters.\n",
    "  - **Close to -1:** Indicates that the object is poorly clustered and may have been assigned to the wrong cluster.\n",
    "\n",
    "**Note:**  The silhouette score is particularly useful for determining the optimal number of clusters k, in a dataset."
   ]
  },
  {
   "cell_type": "markdown",
   "metadata": {
    "id": "XQ2uH600d9V2"
   },
   "source": [
    "**Now, let's see the implementation of silhouette score.**"
   ]
  },
  {
   "cell_type": "markdown",
   "metadata": {
    "id": "J8OpoLLUraWk"
   },
   "source": [
    "- Import **make_blobs and silhouette_score** from sklearn.\n",
    "- Load the Mall_customers.csv dataset.\n"
   ]
  },
  {
   "cell_type": "code",
   "execution_count": 17,
   "metadata": {
    "id": "7Tumsh7jPRFl"
   },
   "outputs": [],
   "source": [
    "#from sklearn.datasets import make_blobs\n",
    "from sklearn.metrics import silhouette_score"
   ]
  },
  {
   "cell_type": "code",
   "execution_count": 18,
   "metadata": {
    "id": "7-HmYjNSoWfT"
   },
   "outputs": [
    {
     "ename": "FileNotFoundError",
     "evalue": "[Errno 2] No such file or directory: 'Mall_customers.csv'",
     "output_type": "error",
     "traceback": [
      "\u001b[31m---------------------------------------------------------------------------\u001b[39m",
      "\u001b[31mFileNotFoundError\u001b[39m                         Traceback (most recent call last)",
      "\u001b[36mCell\u001b[39m\u001b[36m \u001b[39m\u001b[32mIn[18]\u001b[39m\u001b[32m, line 1\u001b[39m\n\u001b[32m----> \u001b[39m\u001b[32m1\u001b[39m df = \u001b[43mpd\u001b[49m\u001b[43m.\u001b[49m\u001b[43mread_csv\u001b[49m\u001b[43m(\u001b[49m\u001b[33;43m'\u001b[39;49m\u001b[33;43mMall_customers.csv\u001b[39;49m\u001b[33;43m'\u001b[39;49m\u001b[43m)\u001b[49m\n\u001b[32m      2\u001b[39m X = df[[\u001b[33m'\u001b[39m\u001b[33mAnnual Income (k$)\u001b[39m\u001b[33m'\u001b[39m, \u001b[33m'\u001b[39m\u001b[33mSpending Score (1-100)\u001b[39m\u001b[33m'\u001b[39m]].values\n",
      "\u001b[36mFile \u001b[39m\u001b[32mc:\\Users\\jim\\AppData\\Local\\Programs\\Python\\Python311\\Lib\\site-packages\\pandas\\io\\parsers\\readers.py:1026\u001b[39m, in \u001b[36mread_csv\u001b[39m\u001b[34m(filepath_or_buffer, sep, delimiter, header, names, index_col, usecols, dtype, engine, converters, true_values, false_values, skipinitialspace, skiprows, skipfooter, nrows, na_values, keep_default_na, na_filter, verbose, skip_blank_lines, parse_dates, infer_datetime_format, keep_date_col, date_parser, date_format, dayfirst, cache_dates, iterator, chunksize, compression, thousands, decimal, lineterminator, quotechar, quoting, doublequote, escapechar, comment, encoding, encoding_errors, dialect, on_bad_lines, delim_whitespace, low_memory, memory_map, float_precision, storage_options, dtype_backend)\u001b[39m\n\u001b[32m   1013\u001b[39m kwds_defaults = _refine_defaults_read(\n\u001b[32m   1014\u001b[39m     dialect,\n\u001b[32m   1015\u001b[39m     delimiter,\n\u001b[32m   (...)\u001b[39m\u001b[32m   1022\u001b[39m     dtype_backend=dtype_backend,\n\u001b[32m   1023\u001b[39m )\n\u001b[32m   1024\u001b[39m kwds.update(kwds_defaults)\n\u001b[32m-> \u001b[39m\u001b[32m1026\u001b[39m \u001b[38;5;28;01mreturn\u001b[39;00m \u001b[43m_read\u001b[49m\u001b[43m(\u001b[49m\u001b[43mfilepath_or_buffer\u001b[49m\u001b[43m,\u001b[49m\u001b[43m \u001b[49m\u001b[43mkwds\u001b[49m\u001b[43m)\u001b[49m\n",
      "\u001b[36mFile \u001b[39m\u001b[32mc:\\Users\\jim\\AppData\\Local\\Programs\\Python\\Python311\\Lib\\site-packages\\pandas\\io\\parsers\\readers.py:620\u001b[39m, in \u001b[36m_read\u001b[39m\u001b[34m(filepath_or_buffer, kwds)\u001b[39m\n\u001b[32m    617\u001b[39m _validate_names(kwds.get(\u001b[33m\"\u001b[39m\u001b[33mnames\u001b[39m\u001b[33m\"\u001b[39m, \u001b[38;5;28;01mNone\u001b[39;00m))\n\u001b[32m    619\u001b[39m \u001b[38;5;66;03m# Create the parser.\u001b[39;00m\n\u001b[32m--> \u001b[39m\u001b[32m620\u001b[39m parser = \u001b[43mTextFileReader\u001b[49m\u001b[43m(\u001b[49m\u001b[43mfilepath_or_buffer\u001b[49m\u001b[43m,\u001b[49m\u001b[43m \u001b[49m\u001b[43m*\u001b[49m\u001b[43m*\u001b[49m\u001b[43mkwds\u001b[49m\u001b[43m)\u001b[49m\n\u001b[32m    622\u001b[39m \u001b[38;5;28;01mif\u001b[39;00m chunksize \u001b[38;5;129;01mor\u001b[39;00m iterator:\n\u001b[32m    623\u001b[39m     \u001b[38;5;28;01mreturn\u001b[39;00m parser\n",
      "\u001b[36mFile \u001b[39m\u001b[32mc:\\Users\\jim\\AppData\\Local\\Programs\\Python\\Python311\\Lib\\site-packages\\pandas\\io\\parsers\\readers.py:1620\u001b[39m, in \u001b[36mTextFileReader.__init__\u001b[39m\u001b[34m(self, f, engine, **kwds)\u001b[39m\n\u001b[32m   1617\u001b[39m     \u001b[38;5;28mself\u001b[39m.options[\u001b[33m\"\u001b[39m\u001b[33mhas_index_names\u001b[39m\u001b[33m\"\u001b[39m] = kwds[\u001b[33m\"\u001b[39m\u001b[33mhas_index_names\u001b[39m\u001b[33m\"\u001b[39m]\n\u001b[32m   1619\u001b[39m \u001b[38;5;28mself\u001b[39m.handles: IOHandles | \u001b[38;5;28;01mNone\u001b[39;00m = \u001b[38;5;28;01mNone\u001b[39;00m\n\u001b[32m-> \u001b[39m\u001b[32m1620\u001b[39m \u001b[38;5;28mself\u001b[39m._engine = \u001b[38;5;28;43mself\u001b[39;49m\u001b[43m.\u001b[49m\u001b[43m_make_engine\u001b[49m\u001b[43m(\u001b[49m\u001b[43mf\u001b[49m\u001b[43m,\u001b[49m\u001b[43m \u001b[49m\u001b[38;5;28;43mself\u001b[39;49m\u001b[43m.\u001b[49m\u001b[43mengine\u001b[49m\u001b[43m)\u001b[49m\n",
      "\u001b[36mFile \u001b[39m\u001b[32mc:\\Users\\jim\\AppData\\Local\\Programs\\Python\\Python311\\Lib\\site-packages\\pandas\\io\\parsers\\readers.py:1880\u001b[39m, in \u001b[36mTextFileReader._make_engine\u001b[39m\u001b[34m(self, f, engine)\u001b[39m\n\u001b[32m   1878\u001b[39m     \u001b[38;5;28;01mif\u001b[39;00m \u001b[33m\"\u001b[39m\u001b[33mb\u001b[39m\u001b[33m\"\u001b[39m \u001b[38;5;129;01mnot\u001b[39;00m \u001b[38;5;129;01min\u001b[39;00m mode:\n\u001b[32m   1879\u001b[39m         mode += \u001b[33m\"\u001b[39m\u001b[33mb\u001b[39m\u001b[33m\"\u001b[39m\n\u001b[32m-> \u001b[39m\u001b[32m1880\u001b[39m \u001b[38;5;28mself\u001b[39m.handles = \u001b[43mget_handle\u001b[49m\u001b[43m(\u001b[49m\n\u001b[32m   1881\u001b[39m \u001b[43m    \u001b[49m\u001b[43mf\u001b[49m\u001b[43m,\u001b[49m\n\u001b[32m   1882\u001b[39m \u001b[43m    \u001b[49m\u001b[43mmode\u001b[49m\u001b[43m,\u001b[49m\n\u001b[32m   1883\u001b[39m \u001b[43m    \u001b[49m\u001b[43mencoding\u001b[49m\u001b[43m=\u001b[49m\u001b[38;5;28;43mself\u001b[39;49m\u001b[43m.\u001b[49m\u001b[43moptions\u001b[49m\u001b[43m.\u001b[49m\u001b[43mget\u001b[49m\u001b[43m(\u001b[49m\u001b[33;43m\"\u001b[39;49m\u001b[33;43mencoding\u001b[39;49m\u001b[33;43m\"\u001b[39;49m\u001b[43m,\u001b[49m\u001b[43m \u001b[49m\u001b[38;5;28;43;01mNone\u001b[39;49;00m\u001b[43m)\u001b[49m\u001b[43m,\u001b[49m\n\u001b[32m   1884\u001b[39m \u001b[43m    \u001b[49m\u001b[43mcompression\u001b[49m\u001b[43m=\u001b[49m\u001b[38;5;28;43mself\u001b[39;49m\u001b[43m.\u001b[49m\u001b[43moptions\u001b[49m\u001b[43m.\u001b[49m\u001b[43mget\u001b[49m\u001b[43m(\u001b[49m\u001b[33;43m\"\u001b[39;49m\u001b[33;43mcompression\u001b[39;49m\u001b[33;43m\"\u001b[39;49m\u001b[43m,\u001b[49m\u001b[43m \u001b[49m\u001b[38;5;28;43;01mNone\u001b[39;49;00m\u001b[43m)\u001b[49m\u001b[43m,\u001b[49m\n\u001b[32m   1885\u001b[39m \u001b[43m    \u001b[49m\u001b[43mmemory_map\u001b[49m\u001b[43m=\u001b[49m\u001b[38;5;28;43mself\u001b[39;49m\u001b[43m.\u001b[49m\u001b[43moptions\u001b[49m\u001b[43m.\u001b[49m\u001b[43mget\u001b[49m\u001b[43m(\u001b[49m\u001b[33;43m\"\u001b[39;49m\u001b[33;43mmemory_map\u001b[39;49m\u001b[33;43m\"\u001b[39;49m\u001b[43m,\u001b[49m\u001b[43m \u001b[49m\u001b[38;5;28;43;01mFalse\u001b[39;49;00m\u001b[43m)\u001b[49m\u001b[43m,\u001b[49m\n\u001b[32m   1886\u001b[39m \u001b[43m    \u001b[49m\u001b[43mis_text\u001b[49m\u001b[43m=\u001b[49m\u001b[43mis_text\u001b[49m\u001b[43m,\u001b[49m\n\u001b[32m   1887\u001b[39m \u001b[43m    \u001b[49m\u001b[43merrors\u001b[49m\u001b[43m=\u001b[49m\u001b[38;5;28;43mself\u001b[39;49m\u001b[43m.\u001b[49m\u001b[43moptions\u001b[49m\u001b[43m.\u001b[49m\u001b[43mget\u001b[49m\u001b[43m(\u001b[49m\u001b[33;43m\"\u001b[39;49m\u001b[33;43mencoding_errors\u001b[39;49m\u001b[33;43m\"\u001b[39;49m\u001b[43m,\u001b[49m\u001b[43m \u001b[49m\u001b[33;43m\"\u001b[39;49m\u001b[33;43mstrict\u001b[39;49m\u001b[33;43m\"\u001b[39;49m\u001b[43m)\u001b[49m\u001b[43m,\u001b[49m\n\u001b[32m   1888\u001b[39m \u001b[43m    \u001b[49m\u001b[43mstorage_options\u001b[49m\u001b[43m=\u001b[49m\u001b[38;5;28;43mself\u001b[39;49m\u001b[43m.\u001b[49m\u001b[43moptions\u001b[49m\u001b[43m.\u001b[49m\u001b[43mget\u001b[49m\u001b[43m(\u001b[49m\u001b[33;43m\"\u001b[39;49m\u001b[33;43mstorage_options\u001b[39;49m\u001b[33;43m\"\u001b[39;49m\u001b[43m,\u001b[49m\u001b[43m \u001b[49m\u001b[38;5;28;43;01mNone\u001b[39;49;00m\u001b[43m)\u001b[49m\u001b[43m,\u001b[49m\n\u001b[32m   1889\u001b[39m \u001b[43m\u001b[49m\u001b[43m)\u001b[49m\n\u001b[32m   1890\u001b[39m \u001b[38;5;28;01massert\u001b[39;00m \u001b[38;5;28mself\u001b[39m.handles \u001b[38;5;129;01mis\u001b[39;00m \u001b[38;5;129;01mnot\u001b[39;00m \u001b[38;5;28;01mNone\u001b[39;00m\n\u001b[32m   1891\u001b[39m f = \u001b[38;5;28mself\u001b[39m.handles.handle\n",
      "\u001b[36mFile \u001b[39m\u001b[32mc:\\Users\\jim\\AppData\\Local\\Programs\\Python\\Python311\\Lib\\site-packages\\pandas\\io\\common.py:873\u001b[39m, in \u001b[36mget_handle\u001b[39m\u001b[34m(path_or_buf, mode, encoding, compression, memory_map, is_text, errors, storage_options)\u001b[39m\n\u001b[32m    868\u001b[39m \u001b[38;5;28;01melif\u001b[39;00m \u001b[38;5;28misinstance\u001b[39m(handle, \u001b[38;5;28mstr\u001b[39m):\n\u001b[32m    869\u001b[39m     \u001b[38;5;66;03m# Check whether the filename is to be opened in binary mode.\u001b[39;00m\n\u001b[32m    870\u001b[39m     \u001b[38;5;66;03m# Binary mode does not support 'encoding' and 'newline'.\u001b[39;00m\n\u001b[32m    871\u001b[39m     \u001b[38;5;28;01mif\u001b[39;00m ioargs.encoding \u001b[38;5;129;01mand\u001b[39;00m \u001b[33m\"\u001b[39m\u001b[33mb\u001b[39m\u001b[33m\"\u001b[39m \u001b[38;5;129;01mnot\u001b[39;00m \u001b[38;5;129;01min\u001b[39;00m ioargs.mode:\n\u001b[32m    872\u001b[39m         \u001b[38;5;66;03m# Encoding\u001b[39;00m\n\u001b[32m--> \u001b[39m\u001b[32m873\u001b[39m         handle = \u001b[38;5;28;43mopen\u001b[39;49m\u001b[43m(\u001b[49m\n\u001b[32m    874\u001b[39m \u001b[43m            \u001b[49m\u001b[43mhandle\u001b[49m\u001b[43m,\u001b[49m\n\u001b[32m    875\u001b[39m \u001b[43m            \u001b[49m\u001b[43mioargs\u001b[49m\u001b[43m.\u001b[49m\u001b[43mmode\u001b[49m\u001b[43m,\u001b[49m\n\u001b[32m    876\u001b[39m \u001b[43m            \u001b[49m\u001b[43mencoding\u001b[49m\u001b[43m=\u001b[49m\u001b[43mioargs\u001b[49m\u001b[43m.\u001b[49m\u001b[43mencoding\u001b[49m\u001b[43m,\u001b[49m\n\u001b[32m    877\u001b[39m \u001b[43m            \u001b[49m\u001b[43merrors\u001b[49m\u001b[43m=\u001b[49m\u001b[43merrors\u001b[49m\u001b[43m,\u001b[49m\n\u001b[32m    878\u001b[39m \u001b[43m            \u001b[49m\u001b[43mnewline\u001b[49m\u001b[43m=\u001b[49m\u001b[33;43m\"\u001b[39;49m\u001b[33;43m\"\u001b[39;49m\u001b[43m,\u001b[49m\n\u001b[32m    879\u001b[39m \u001b[43m        \u001b[49m\u001b[43m)\u001b[49m\n\u001b[32m    880\u001b[39m     \u001b[38;5;28;01melse\u001b[39;00m:\n\u001b[32m    881\u001b[39m         \u001b[38;5;66;03m# Binary mode\u001b[39;00m\n\u001b[32m    882\u001b[39m         handle = \u001b[38;5;28mopen\u001b[39m(handle, ioargs.mode)\n",
      "\u001b[31mFileNotFoundError\u001b[39m: [Errno 2] No such file or directory: 'Mall_customers.csv'"
     ]
    }
   ],
   "source": [
    "df = pd.read_csv('Mall_customers.csv')\n",
    "X = df[['Annual Income (k$)', 'Spending Score (1-100)']].values"
   ]
  },
  {
   "cell_type": "code",
   "execution_count": 19,
   "metadata": {
    "colab": {
     "base_uri": "https://localhost:8080/",
     "height": 472
    },
    "executionInfo": {
     "elapsed": 2463,
     "status": "ok",
     "timestamp": 1718623583960,
     "user": {
      "displayName": "Aleena Raj",
      "userId": "16635257578699511263"
     },
     "user_tz": -330
    },
    "id": "KUTHRNytqVVX",
    "outputId": "a3b9c58a-946b-4398-e566-b502ca627094"
   },
   "outputs": [
    {
     "data": {
      "image/png": "[encoded data removed]",
      "text/plain": [
       "<Figure size 640x480 with 1 Axes>"
      ]
     },
     "metadata": {},
     "output_type": "display_data"
    }
   ],
   "source": [
    "# Silhouette Score method\n",
    "silhouette_scores = []\n",
    "for i in range(2, 11):\n",
    "    model = KMeans(n_clusters=i, n_init=10,  init='k-means++', random_state=42)\n",
    "    model.fit(X)\n",
    "    score = silhouette_score(X, model.labels_)\n",
    "    silhouette_scores.append(score)\n",
    "\n",
    "plt.plot(range(2, 11), silhouette_scores)\n",
    "plt.title('Silhouette Score Method')\n",
    "plt.xlabel('Number of clusters')\n",
    "plt.ylabel('Silhouette Score')\n",
    "plt.show()"
   ]
  },
  {
   "cell_type": "markdown",
   "metadata": {
    "id": "mawOgt--rPPD"
   },
   "source": [
    "- Train the K-means model with the optimal number of clusters.\n"
   ]
  },
  {
   "cell_type": "markdown",
   "metadata": {
    "id": "W6FpP1HHNOku"
   },
   "source": [
    "#### __Observation__\n",
    "\n",
    "**Choosing the Optimal Number of Clusters:**\n",
    "\n",
    "From the plot, the optimal number of clusters k can be chosen based on the highest Silhouette Score. This score represents a balance between having clusters that are dense and well-separated from each other. Looking at the plot:\n",
    "\n",
    "The Silhouette Score peaks at `k=5`. This suggests that the clusters are most distinct and appropriately separated when the data is divided into 5 clusters."
   ]
  },
  {
   "cell_type": "code",
   "execution_count": 20,
   "metadata": {
    "id": "lrjlx2r5qbhf"
   },
   "outputs": [],
   "source": [
    "# Select the number of clusters with the highest silhouette score\n",
    "optimal_clusters = range(2, 11)[silhouette_scores.index(max(silhouette_scores))]\n",
    "\n",
    "# Fit the model with the optimal number of clusters\n",
    "model = KMeans(n_clusters=optimal_clusters, n_init=10, init='k-means++', random_state=42)\n",
    "y_kmeans = model.fit_predict(X)"
   ]
  },
  {
   "cell_type": "markdown",
   "metadata": {
    "id": "8yrkZGvbrAe3"
   },
   "source": [
    "- Plot the clusters and their centroids on a scatter plot.\n",
    "- Assign the color for each point.\n",
    "- Consider the title, xlabel, and ylabel."
   ]
  },
  {
   "cell_type": "code",
   "execution_count": 21,
   "metadata": {
    "colab": {
     "base_uri": "https://localhost:8080/",
     "height": 472
    },
    "executionInfo": {
     "elapsed": 1375,
     "status": "ok",
     "timestamp": 1718623614114,
     "user": {
      "displayName": "Aleena Raj",
      "userId": "16635257578699511263"
     },
     "user_tz": -330
    },
    "id": "QO_txlodqiBp",
    "outputId": "2917f8e5-1a36-40c6-8fc6-58ed96ad4503"
   },
   "outputs": [
    {
     "data": {
      "image/png": "[encoded data removed]",
      "text/plain": [
       "<Figure size 640x480 with 1 Axes>"
      ]
     },
     "metadata": {},
     "output_type": "display_data"
    }
   ],
   "source": [
    "# Visualize the clusters\n",
    "plt.scatter(X[y_kmeans == 0, 0], X[y_kmeans == 0, 1], s=100, c='red', label='Cluster 1')\n",
    "plt.scatter(X[y_kmeans == 1, 0], X[y_kmeans == 1, 1], s=100, c='blue', label='Cluster 2')\n",
    "plt.scatter(X[y_kmeans == 2, 0], X[y_kmeans == 2, 1], s=100, c='green', label='Cluster 3')\n",
    "plt.scatter(X[y_kmeans == 3, 0], X[y_kmeans == 3, 1], s=100, c='cyan', label='Cluster 4')\n",
    "plt.scatter(X[y_kmeans == 4, 0], X[y_kmeans == 4, 1], s=100, c='magenta', label='Cluster 5')\n",
    "plt.scatter(model.cluster_centers_[:, 0], model.cluster_centers_[:, 1], s=300, c='yellow', label='Centroids')\n",
    "plt.title('Clusters of customers')\n",
    "plt.xlabel('Annual Income (k$)')\n",
    "plt.ylabel('Spending Score (1-100)')\n",
    "plt.legend()\n",
    "plt.show()"
   ]
  },
  {
   "cell_type": "markdown",
   "metadata": {
    "id": "J0E8YeZcH6Ya"
   },
   "source": [
    "__Observation:__\n",
    "- K-means clusters with K = 5."
   ]
  },
  {
   "cell_type": "markdown",
   "metadata": {
    "id": "xTkzhs5P3C7w"
   },
   "source": [
    "### __6.2.3 Hierarchical Clustering__"
   ]
  },
  {
   "cell_type": "markdown",
   "metadata": {
    "id": "wySFcQPKbYBP"
   },
   "source": [
    "\n",
    "Hierarchical clustering is a method that groups data points based on their similarity or distance. It assumes that data points that are close to each other are more similar or related than those that are farther apart."
   ]
  },
  {
   "cell_type": "markdown",
   "metadata": {
    "id": "MRLZEN6S-s9i"
   },
   "source": [
    "Hierarchical clustering, unlike K-Means, does not require specifying the number of clusters in advance. It builds a hierarchy of clusters based on the similarity or distance between data points, capturing complex and nested cluster shapes. This method provides a detailed view of data relationships through a dendrogram, making it more flexible for exploring the data's structure."
   ]
  },
  {
   "cell_type": "markdown",
   "metadata": {
    "id": "-cMxtrT-bYDy"
   },
   "source": [
    "It adopts either of the following approaches for grouping data:\n",
    "- Agglomerative Hierarchical Cluster Analysis: Bottom-to-top approach\n",
    "- Divisive Hierarchical Cluster Analysis: Top-to-bottom approach\n",
    "\n",
    "\n"
   ]
  },
  {
   "cell_type": "markdown",
   "metadata": {
    "id": "k-59EXNjryf4"
   },
   "source": [
    "#### __Dendrograms and Linkage Criteria in Hierarchical Clustering__\n",
    "**Dendrograms:**\n",
    "A dendrogram is a tree-like diagram that displays the relationships between similar objects. Each branch represents a category or class, and the entire diagram shows the hierarchical structure connecting all the categories or classes."
   ]
  },
  {
   "cell_type": "markdown",
   "metadata": {
    "id": "MQlH88H_v2qF"
   },
   "source": [
    "**Components of a Dendrogram**\n",
    "\n",
    "- **Leaves (Terminal Nodes):** These represent the individual data points at the bottom of the dendrogram.\n",
    "- **Branches (Internal Nodes):** These represent the clusters formed by merging or splitting. The height of the branches indicates the distance or dissimilarity between clusters.\n",
    "- **Height:** The vertical axis of the dendrogram represents the distance or dissimilarity at which clusters are merged or split. A greater height indicates a higher dissimilarity."
   ]
  },
  {
   "cell_type": "markdown",
   "metadata": {
    "id": "lWJrZqx_wGQw"
   },
   "source": [
    "**How to Read a Dendrogram**\n",
    "- **Merging:** Starting from the leaves, data points that are close to each other are merged first, forming small clusters.\n",
    "- **Splitting:** As you move up, these small clusters are further merged based on their distance or dissimilarity until all data points are combined into a single cluster at the root.\n",
    "- **Cluster Formation:** By setting a threshold on the height, you can determine the number of clusters. Horizontal cuts across the dendrogram at a specific height level show the clusters formed at that dissimilarity level."
   ]
  },
  {
   "cell_type": "markdown",
   "metadata": {
    "id": "SqNr37a4wkMB"
   },
   "source": [
    "**Linkage Criteria:** It determines how the distance between clusters is calculated during the merging process. Different linkage methods can result in different clustering outcomes."
   ]
  },
  {
   "cell_type": "markdown",
   "metadata": {
    "id": "3d5xAjVpxHbe"
   },
   "source": [
    "**Common Linkage Criteria**\n",
    "1. **Single Linkage (Minimum Linkage):** The distance between two clusters is defined as the minimum distance between any single data point in one cluster and any single data point in the other cluster. It can lead to **chaining** effects, where clusters can form long, elongated shapes.\n",
    "\n",
    "![link text](https://labcontent.simplicdn.net/data-content/content-assets/Data_and_AI/ML/Lesson_06/Updated/new/Single_linkage.png)\n",
    "\n"
   ]
  },
  {
   "cell_type": "markdown",
   "metadata": {
    "id": "rtmEo8ckChsA"
   },
   "source": [
    "2. **Complete Linkage (Maximum Linkage):** The distance between two clusters is defined as the maximum distance between any single data point in one cluster and any single data point in the other cluster. It tends to create more compact and spherical clusters.\n",
    "\n",
    "![link text](https://labcontent.simplicdn.net/data-content/content-assets/Data_and_AI/ML/Lesson_06/Updated/new/Complete_linkage.png)"
   ]
  },
  {
   "cell_type": "markdown",
   "metadata": {
    "id": "qUM8TPBECj7_"
   },
   "source": [
    "3. **Average Linkage:** The distance between two clusters is defined as the average distance between all pairs of data points, one from each cluster. It provides a balance between single and complete linkage.\n",
    "\n",
    "![link text](https://labcontent.simplicdn.net/data-content/content-assets/Data_and_AI/ML/Lesson_06/Updated/new/average_linkage.png)"
   ]
  },
  {
   "cell_type": "markdown",
   "metadata": {
    "id": "mQZ03JheCmWk"
   },
   "source": [
    "4. **Centroid Linkage:** The distance between two clusters is defined as the distance between the centroids (mean points) of the clusters. It can be sensitive to the shapes of the clusters.\n",
    "\n",
    "![link text](https://labcontent.simplicdn.net/data-content/content-assets/Data_and_AI/ML/Lesson_06/Updated/new/centroid_linkage.png)"
   ]
  },
  {
   "cell_type": "markdown",
   "metadata": {
    "id": "rPNrUZ1zbYF5"
   },
   "source": [
    "#### __Working of Hierarchical Clustering__"
   ]
  },
  {
   "cell_type": "markdown",
   "metadata": {
    "id": "XPrUil27cIXX"
   },
   "source": [
    "Consider a dataset of n different types of animals.\n",
    "- Assume that each animal is a distinct cluster by itself, that is, n clusters.\n",
    "- Take the two closest data points and make them into a cluster. Now, there are n-1 clusters.\n",
    "- Repeat the process as mammals are grouped into one cluster, reptiles into another, fish into a third cluster, and so on.\n",
    "- Group mammals, reptiles, and fish into the vertebrate cluster and insects, corals, and arachnids into the invertebrate cluster.\n",
    "\n"
   ]
  },
  {
   "cell_type": "markdown",
   "metadata": {
    "id": "aQn8X4RXcIa1"
   },
   "source": [
    "Hierarchical clustering is the result of the of the creation of a tree-shaped structure known as a dendrogram.\n",
    "\n",
    "- A dendrogram is a visual interpretation of the hierarchical connections between items.\n",
    "- The goal is to find the best approach to assigning items to a cluster.\n"
   ]
  },
  {
   "cell_type": "markdown",
   "metadata": {
    "id": "ma0EgZzycIeT"
   },
   "source": [
    "![link text](https://labcontent.simplicdn.net/data-content/content-assets/Data_and_AI/ML/Lesson_06/Updated/new/dendrogram.png)"
   ]
  },
  {
   "cell_type": "markdown",
   "metadata": {
    "id": "quwZMxHXcIhS"
   },
   "source": [
    "#### __Choosing the Number of Clusters__\n",
    "\n",
    "Consider the following diagram:\n"
   ]
  },
  {
   "cell_type": "markdown",
   "metadata": {
    "id": "9zr1Pp6icIkf"
   },
   "source": [
    "![link text](https://labcontent.simplicdn.net/data-content/content-assets/Data_and_AI/ML/Lesson_06/Updated/new/Choosing_no_of_clusters.png)"
   ]
  },
  {
   "cell_type": "markdown",
   "metadata": {
    "id": "pd1BQYzwcI0Y"
   },
   "source": [
    "To choose the number of clusters to be created:\n",
    "- Identify the longest line that traverses the maximum vertical distance without intersecting any of the merging points in the dendrogram.\n",
    "- Draw a horizontal line where the line can traverse the maximum vertical distance without intersecting the merging point.\n",
    "- The number of vertical lines it intersects is the optimal number of clusters.\n"
   ]
  },
  {
   "cell_type": "markdown",
   "metadata": {
    "id": "3L7OrnKqcI3y"
   },
   "source": [
    "Let us see the implementation of hierarchical clustering."
   ]
  },
  {
   "cell_type": "markdown",
   "metadata": {
    "id": "nuIN5K-NeX8j"
   },
   "source": [
    "\n",
    "- Import the pandas, NumPy, and matplotlib.pyplot libraries.\n",
    "- Configure matplotlib settings.\n"
   ]
  },
  {
   "cell_type": "code",
   "execution_count": 22,
   "metadata": {
    "id": "l28GB-q80z84"
   },
   "outputs": [],
   "source": [
    "import matplotlib.pyplot as plt\n",
    "import pandas as pd\n",
    "import numpy as np"
   ]
  },
  {
   "cell_type": "markdown",
   "metadata": {
    "id": "-a7J0SbAeadW"
   },
   "source": [
    "\n",
    "- Load the Mall_customers.csv dataset.\n",
    "- Display the first few rows of the dataset.\n",
    "- Extract the necessary columns and store them in a variable called df.\n"
   ]
  },
  {
   "cell_type": "code",
   "execution_count": 24,
   "metadata": {},
   "outputs": [],
   "source": [
    "df = pd.read_csv(r\"D:\\Desktop\\AMJ Group\\Teaching\\Class Materials\\Dell_GenAI\\Machine_Learning_ILT_Materials\\0.2_LVC\\0.3_Datasets\\Lesson_06_Unsupervised_Learning_Algorithms\\6.1_Unsupervised_Learning_Algorithms\\Mall_customers.csv\")\n"
   ]
  },
  {
   "cell_type": "code",
   "execution_count": 25,
   "metadata": {
    "colab": {
     "base_uri": "https://localhost:8080/",
     "height": 206
    },
    "executionInfo": {
     "elapsed": 4,
     "status": "ok",
     "timestamp": 1718624513882,
     "user": {
      "displayName": "Aleena Raj",
      "userId": "16635257578699511263"
     },
     "user_tz": -330
    },
    "id": "Tg5VGuLc0z86",
    "outputId": "da591c9f-e3b3-4971-bf1b-023f8d564226"
   },
   "outputs": [
    {
     "data": {
      "text/html": [
       "<div>\n",
       "<style scoped>\n",
       "    .dataframe tbody tr th:only-of-type {\n",
       "        vertical-align: middle;\n",
       "    }\n",
       "\n",
       "    .dataframe tbody tr th {\n",
       "        vertical-align: top;\n",
       "    }\n",
       "\n",
       "    .dataframe thead th {\n",
       "        text-align: right;\n",
       "    }\n",
       "</style>\n",
       "<table border=\"1\" class=\"dataframe\">\n",
       "  <thead>\n",
       "    <tr style=\"text-align: right;\">\n",
       "      <th></th>\n",
       "      <th>CustomerID</th>\n",
       "      <th>Gender</th>\n",
       "      <th>Age</th>\n",
       "      <th>Annual Income (k$)</th>\n",
       "      <th>Spending Score (1-100)</th>\n",
       "    </tr>\n",
       "  </thead>\n",
       "  <tbody>\n",
       "    <tr>\n",
       "      <th>0</th>\n",
       "      <td>1</td>\n",
       "      <td>Male</td>\n",
       "      <td>19</td>\n",
       "      <td>15</td>\n",
       "      <td>39</td>\n",
       "    </tr>\n",
       "    <tr>\n",
       "      <th>1</th>\n",
       "      <td>2</td>\n",
       "      <td>Male</td>\n",
       "      <td>21</td>\n",
       "      <td>15</td>\n",
       "      <td>81</td>\n",
       "    </tr>\n",
       "    <tr>\n",
       "      <th>2</th>\n",
       "      <td>3</td>\n",
       "      <td>Female</td>\n",
       "      <td>20</td>\n",
       "      <td>16</td>\n",
       "      <td>6</td>\n",
       "    </tr>\n",
       "    <tr>\n",
       "      <th>3</th>\n",
       "      <td>4</td>\n",
       "      <td>Female</td>\n",
       "      <td>23</td>\n",
       "      <td>16</td>\n",
       "      <td>77</td>\n",
       "    </tr>\n",
       "    <tr>\n",
       "      <th>4</th>\n",
       "      <td>5</td>\n",
       "      <td>Female</td>\n",
       "      <td>31</td>\n",
       "      <td>17</td>\n",
       "      <td>40</td>\n",
       "    </tr>\n",
       "  </tbody>\n",
       "</table>\n",
       "</div>"
      ],
      "text/plain": [
       "   CustomerID  Gender  Age  Annual Income (k$)  Spending Score (1-100)\n",
       "0           1    Male   19                  15                      39\n",
       "1           2    Male   21                  15                      81\n",
       "2           3  Female   20                  16                       6\n",
       "3           4  Female   23                  16                      77\n",
       "4           5  Female   31                  17                      40"
      ]
     },
     "execution_count": 25,
     "metadata": {},
     "output_type": "execute_result"
    }
   ],
   "source": [
    "df.head()"
   ]
  },
  {
   "cell_type": "markdown",
   "metadata": {
    "id": "KNMKCeBk-igI"
   },
   "source": [
    "__Observations:__\n",
    "- Here, you are using customer data from a mall.\n",
    "- You know their gender, age, income, and spending score."
   ]
  },
  {
   "cell_type": "code",
   "execution_count": 26,
   "metadata": {
    "colab": {
     "base_uri": "https://localhost:8080/"
    },
    "id": "7xlZzJ7_BUOE",
    "outputId": "2dc7438f-7a80-4dd4-d6ec-d21655e82c15"
   },
   "outputs": [
    {
     "name": "stdout",
     "output_type": "stream",
     "text": [
      "<class 'pandas.core.frame.DataFrame'>\n",
      "RangeIndex: 200 entries, 0 to 199\n",
      "Data columns (total 5 columns):\n",
      " #   Column                  Non-Null Count  Dtype \n",
      "---  ------                  --------------  ----- \n",
      " 0   CustomerID              200 non-null    int64 \n",
      " 1   Gender                  200 non-null    object\n",
      " 2   Age                     200 non-null    int64 \n",
      " 3   Annual Income (k$)      200 non-null    int64 \n",
      " 4   Spending Score (1-100)  200 non-null    int64 \n",
      "dtypes: int64(4), object(1)\n",
      "memory usage: 7.9+ KB\n"
     ]
    }
   ],
   "source": [
    "df.info()"
   ]
  },
  {
   "cell_type": "markdown",
   "metadata": {
    "id": "oyE6aZsGBfgI"
   },
   "source": [
    "__Observation:__\n",
    "- Here, you can see that there are non-null values or no missing values.\n",
    "\n",
    "\n",
    "- Create a df1."
   ]
  },
  {
   "cell_type": "code",
   "execution_count": 27,
   "metadata": {
    "id": "zc1ikEMn0z87"
   },
   "outputs": [],
   "source": [
    "# Choosing the first 50 rows from df to create a new dataframe df1 with relevant features\n",
    "df1 = df.iloc[:51, 3:5].values"
   ]
  },
  {
   "cell_type": "markdown",
   "metadata": {
    "id": "-QrtTwNJDRyl"
   },
   "source": [
    "__Observation:__\n",
    "- Here, you can see the annual income and spending score data."
   ]
  },
  {
   "cell_type": "markdown",
   "metadata": {
    "id": "lcssp-yvecfb"
   },
   "source": [
    "\n",
    "- Import the scipy.cluster.hierarchy library.\n",
    "- Create a dendrogram of the dataset.\n"
   ]
  },
  {
   "cell_type": "code",
   "execution_count": 28,
   "metadata": {
    "colab": {
     "base_uri": "https://localhost:8080/",
     "height": 501
    },
    "executionInfo": {
     "elapsed": 1825,
     "status": "ok",
     "timestamp": 1718624726277,
     "user": {
      "displayName": "Aleena Raj",
      "userId": "16635257578699511263"
     },
     "user_tz": -330
    },
    "id": "nd4U4E3c0z87",
    "outputId": "3760944e-3b47-414f-eebf-d83b0c5d6e09"
   },
   "outputs": [
    {
     "data": {
      "text/plain": [
       "Text(0, 0.5, 'Distance between clusters')"
      ]
     },
     "execution_count": 28,
     "metadata": {},
     "output_type": "execute_result"
    },
    {
     "data": {
      "image/png": "[encoded data removed]",
      "text/plain": [
       "<Figure size 1300x500 with 1 Axes>"
      ]
     },
     "metadata": {},
     "output_type": "display_data"
    }
   ],
   "source": [
    "import scipy.cluster.hierarchy as shc\n",
    "\n",
    "plt.figure(figsize=(13, 5))\n",
    "plt.title(\"Customer Dendograms\")\n",
    "dend = shc.dendrogram(shc.linkage(df1, method='ward'))\n",
    "plt.xlabel('Customers')\n",
    "plt.ylabel('Distance between clusters')"
   ]
  },
  {
   "cell_type": "markdown",
   "metadata": {
    "id": "xSI5XszYDlsM"
   },
   "source": [
    "__Observations:__\n",
    "- Here, you can see the dendrogram for customer data.\n",
    "- There are different clusters that have been created.\n",
    "- Blue represents one cluster; orange represents one cluster; and the entire green represents one whole cluster.\n"
   ]
  },
  {
   "cell_type": "markdown",
   "metadata": {
    "id": "R1zmufBk1Mip"
   },
   "source": [
    "#### __Agglomerative Hierarchical Cluster Analysis: Bottom-to-Top Approach__"
   ]
  },
  {
   "cell_type": "markdown",
   "metadata": {
    "id": "EkWxOiRx_jwf"
   },
   "source": [
    "Agglomerative hierarchical cluster analysis or the bottom-up approach, creates a more informative structure than flat clustering. This method doesn't require specifying the number of clusters beforehand. It starts with each data point as its own cluster and progressively merges pairs of clusters until all data points are combined into a single cluster.\n",
    "\n",
    "![link text](https://labcontent.simplicdn.net/data-content/content-assets/Data_and_AI/ML/Lesson_06/Updated/Agglomerative.png)\n",
    "\n",
    "\n",
    "\n",
    "\n"
   ]
  },
  {
   "cell_type": "markdown",
   "metadata": {
    "id": "eukmb9NYefD0"
   },
   "source": [
    "\n",
    "- Import `AgglomerativeClustering` from `sklearn.cluster`.\n",
    "- Fit and predict the clusters using agglomerative clustering.\n",
    "- Display the predicted cluster labels.\n"
   ]
  },
  {
   "cell_type": "code",
   "execution_count": 29,
   "metadata": {
    "id": "7R_6iEE80z88"
   },
   "outputs": [],
   "source": [
    "from sklearn.cluster import AgglomerativeClustering\n",
    "\n",
    "model = AgglomerativeClustering(n_clusters=5, metric='euclidean', linkage='ward')\n",
    "labels_=model.fit_predict(df1)"
   ]
  },
  {
   "cell_type": "code",
   "execution_count": 30,
   "metadata": {
    "colab": {
     "base_uri": "https://localhost:8080/"
    },
    "executionInfo": {
     "elapsed": 420,
     "status": "ok",
     "timestamp": 1718625637887,
     "user": {
      "displayName": "Aleena Raj",
      "userId": "16635257578699511263"
     },
     "user_tz": -330
    },
    "id": "xMW3-WR30z88",
    "outputId": "ca73cf47-5818-432b-afd5-caac95e2b9cd"
   },
   "outputs": [
    {
     "data": {
      "text/plain": [
       "array([4, 0, 2, 0, 4, 0, 2, 3, 2, 0, 2, 3, 2, 0, 2, 0, 4, 0, 4, 3, 4, 0,\n",
       "       2, 0, 2, 3, 4, 0, 4, 3, 2, 0, 2, 3, 2, 3, 2, 0, 1, 0, 1, 3, 1, 0,\n",
       "       1, 0, 1, 1, 1, 1, 1])"
      ]
     },
     "execution_count": 30,
     "metadata": {},
     "output_type": "execute_result"
    }
   ],
   "source": [
    "labels_"
   ]
  },
  {
   "cell_type": "markdown",
   "metadata": {
    "id": "6ocXf_ZEIjvK"
   },
   "source": [
    "__Observation:__\n",
    "- Here, you can see the labels."
   ]
  },
  {
   "cell_type": "markdown",
   "metadata": {
    "id": "VofBoVa1eg_r"
   },
   "source": [
    "- Create a scatter plot of the dataset with colors corresponding to the predicted cluster labels.\n"
   ]
  },
  {
   "cell_type": "code",
   "execution_count": 31,
   "metadata": {
    "colab": {
     "base_uri": "https://localhost:8080/",
     "height": 658
    },
    "executionInfo": {
     "elapsed": 636,
     "status": "ok",
     "timestamp": 1718625775249,
     "user": {
      "displayName": "Aleena Raj",
      "userId": "16635257578699511263"
     },
     "user_tz": -330
    },
    "id": "DIf3f3rO0z88",
    "outputId": "ce76ca9b-d99d-4439-ba23-51368fc2b900"
   },
   "outputs": [
    {
     "ename": "AttributeError",
     "evalue": "'numpy.ndarray' object has no attribute 'iloc'",
     "output_type": "error",
     "traceback": [
      "\u001b[31m---------------------------------------------------------------------------\u001b[39m",
      "\u001b[31mAttributeError\u001b[39m                            Traceback (most recent call last)",
      "\u001b[36mCell\u001b[39m\u001b[36m \u001b[39m\u001b[32mIn[31]\u001b[39m\u001b[32m, line 2\u001b[39m\n\u001b[32m      1\u001b[39m plt.figure(figsize=(\u001b[32m10\u001b[39m, \u001b[32m7\u001b[39m))\n\u001b[32m----> \u001b[39m\u001b[32m2\u001b[39m plt.scatter(\u001b[43mdf1\u001b[49m\u001b[43m.\u001b[49m\u001b[43miloc\u001b[49m[:,\u001b[32m0\u001b[39m], df1.iloc[:,\u001b[32m1\u001b[39m], c=model.labels_, cmap=\u001b[33m'\u001b[39m\u001b[33mrainbow\u001b[39m\u001b[33m'\u001b[39m)\n\u001b[32m      3\u001b[39m plt.title(\u001b[33m'\u001b[39m\u001b[33mClusters of Customers\u001b[39m\u001b[33m'\u001b[39m)\n\u001b[32m      4\u001b[39m plt.xlabel(\u001b[33m'\u001b[39m\u001b[33mAnnual Income (k$)\u001b[39m\u001b[33m'\u001b[39m)\n",
      "\u001b[31mAttributeError\u001b[39m: 'numpy.ndarray' object has no attribute 'iloc'"
     ]
    },
    {
     "data": {
      "text/plain": [
       "<Figure size 1000x700 with 0 Axes>"
      ]
     },
     "metadata": {},
     "output_type": "display_data"
    }
   ],
   "source": [
    "plt.figure(figsize=(10, 7))\n",
    "plt.scatter(df1.iloc[:,0], df1.iloc[:,1], c=model.labels_, cmap='rainbow')\n",
    "plt.title('Clusters of Customers')\n",
    "plt.xlabel('Annual Income (k$)')\n",
    "plt.ylabel('Spending Score (1-100)')"
   ]
  },
  {
   "cell_type": "markdown",
   "metadata": {
    "id": "5hHiCKeVGH7i"
   },
   "source": [
    "__Observations:__\n",
    "- Within the spread, you can see that five separate clusters have been created, forming the agglomerative cluster of five clusters.\n",
    "-  The cluster is represented by red, green, blue, violet, and yellow.\n"
   ]
  },
  {
   "cell_type": "markdown",
   "metadata": {
    "id": "CMb1zeFCJbMb"
   },
   "source": [
    "#### __Divisive Hierarchical Cluster Analysis: Top-to-Bottom Approach__"
   ]
  },
  {
   "cell_type": "markdown",
   "metadata": {
    "id": "oIroE1P1LWKC"
   },
   "source": [
    "This method, also called **top-down** clustering, begins with all data points in one large cluster. It then repeatedly splits this cluster into smaller sub-clusters based on their differences.\n",
    "\n",
    "![link text](https://labcontent.simplicdn.net/data-content/content-assets/Data_and_AI/ML/Lesson_06/Divisive.png)\n"
   ]
  },
  {
   "cell_type": "markdown",
   "metadata": {
    "id": "IaVVyxjqcagp"
   },
   "source": [
    "\n",
    "**Steps of Divisive Clustering**\n",
    "\n",
    "1. Start with All Data in One Cluster: Begin with a single cluster containing all data points.\n",
    "2. Select a Cluster to Split: Choose a cluster to split based on some criteria (e.g., the largest cluster or the one with the highest variance).\n",
    "3. Split the Cluster: Divide the selected cluster into two smaller clusters using a clustering algorithm (e.g., k-means with $𝑘=2$).\n",
    "4. Repeat: Repeat steps 2 and 3 until a stopping criterion is met (e.g., a specified number of clusters is reached or the clusters cannot be split further).\n"
   ]
  },
  {
   "cell_type": "markdown",
   "metadata": {
    "id": "rcg4yd-YobxF"
   },
   "source": [
    "**Example with Diagram**\n",
    "\n",
    "Consider a simple dataset with 6 data points in a 2-dimensional space:\n",
    "\n",
    "(1, 2), (2, 1), (3, 3), (8, 8), (9, 9), (10, 10)\n",
    "- Initial Cluster: Start with a single cluster containing all points\n",
    "  - Cluster 1: {(1, 2), (2, 1), (3, 3), (8, 8), (9, 9), (10, 10)}\n",
    "- First Split: Use a clustering algorithm (e.g., k-means with $𝑘=2$) to split this cluster into two clusters\n",
    "  - Cluster 1.1: {(1, 2), (2, 1), (3, 3)}\n",
    "  - Cluster 1.2: {(8, 8), (9, 9), (10, 10)}\n",
    "- Second Split: Select one of the clusters to split further\n",
    "  - Cluster 1.1.1: {(1, 2), (2, 1)}\n",
    "  - Cluster 1.1.2: {(3, 3)}\n",
    "\n",
    "At this point, you might decide to stop if the clusters are sufficiently small or if a specified number of clusters is reached."
   ]
  },
  {
   "cell_type": "markdown",
   "metadata": {
    "id": "7ffyoOnvysy-"
   },
   "source": [
    "### __6.2.4 DBSCAN (Density-Based Spatial Clustering of Applications with Noise)__"
   ]
  },
  {
   "cell_type": "markdown",
   "metadata": {
    "id": "l3Knb0bq95j_"
   },
   "source": [
    "DBSCAN is a popular unsupervised machine learning algorithm primarily used for clustering tasks, where the goal is to group closely packed data points based on some notion of distance. It identifies points that are alone in low-density regions as outliers or noise.\n",
    "\n"
   ]
  },
  {
   "cell_type": "markdown",
   "metadata": {
    "id": "nnm8y03_95mK"
   },
   "source": [
    "Below are the advantages of DBSCAN:\n"
   ]
  },
  {
   "cell_type": "markdown",
   "metadata": {
    "id": "c32Z0AJM95of"
   },
   "source": [
    "- It does not require specifying the number of clusters a priori, unlike K-means.\n",
    "- It can find arbitrarily shaped clusters that other clustering algorithms might not find.\n",
    "- It is robust to outliers; points that don’t belong to a cluster are treated as noise.\n"
   ]
  },
  {
   "cell_type": "markdown",
   "metadata": {
    "id": "aE5ssLCU95rr"
   },
   "source": [
    "DBSCAN is widely used in various domains, such as anomaly detection, spatial data analysis, and image segmentation, due to its simplicity and effectiveness with spatial data.\n"
   ]
  },
  {
   "cell_type": "markdown",
   "metadata": {
    "id": "TSpaxnlK2PPn"
   },
   "source": [
    "Let us see the implementation of DBSCAN."
   ]
  },
  {
   "cell_type": "markdown",
   "metadata": {
    "id": "HbmaP7ND6Lnk"
   },
   "source": [
    "**Install Necessary Libraries**\n",
    "\n",
    "Make sure you have the required libraries installed"
   ]
  },
  {
   "cell_type": "code",
   "execution_count": 32,
   "metadata": {
    "id": "dkyIVkwLqle6"
   },
   "outputs": [],
   "source": [
    "import pandas as pd\n",
    "import numpy as np\n",
    "import matplotlib.pyplot as plt\n",
    "from sklearn.cluster import DBSCAN\n",
    "from sklearn.model_selection import train_test_split"
   ]
  },
  {
   "cell_type": "markdown",
   "metadata": {
    "id": "Otfyhgqv6Sf4"
   },
   "source": [
    "**Load the Dataset**\n",
    "\n",
    "Load the `Mall_customers` dataset using pandas"
   ]
  },
  {
   "cell_type": "markdown",
   "metadata": {
    "id": "JfRWdVhQ6gzp"
   },
   "source": [
    "**Preprocess the Data and Perform Train-test Split**\n",
    "\n",
    "- Select relevant features for clustering. For this example, let's use `Annual Income (k$)` and `Spending Score (1-100)`\n",
    "- Split the data into training and testing sets"
   ]
  },
  {
   "cell_type": "code",
   "execution_count": 34,
   "metadata": {},
   "outputs": [
    {
     "name": "stdout",
     "output_type": "stream",
     "text": [
      "   CustomerID  Gender  Age  Annual Income (k$)  Spending Score (1-100)\n",
      "0           1    Male   19                  15                      39\n",
      "1           2    Male   21                  15                      81\n",
      "2           3  Female   20                  16                       6\n",
      "3           4  Female   23                  16                      77\n",
      "4           5  Female   31                  17                      40\n"
     ]
    }
   ],
   "source": [
    "import pandas as pd\n",
    "\n",
    "data = pd.read_csv(r\"D:\\Desktop\\AMJ Group\\Teaching\\Class Materials\\Dell_GenAI\\Machine_Learning_ILT_Materials\\0.2_LVC\\0.3_Datasets\\Lesson_06_Unsupervised_Learning_Algorithms\\6.1_Unsupervised_Learning_Algorithms\\Mall_customers.csv\")\n",
    "print(data.head())\n"
   ]
  },
  {
   "cell_type": "code",
   "execution_count": 35,
   "metadata": {
    "id": "4yJFXkJ62uiV"
   },
   "outputs": [],
   "source": [
    "# Select relevant features\n",
    "X = data[['Annual Income (k$)', 'Spending Score (1-100)']].values\n",
    "X_train, X_test = train_test_split(X, test_size=0.4, random_state=42)"
   ]
  },
  {
   "cell_type": "markdown",
   "metadata": {
    "id": "l4Qz4nhy61G-"
   },
   "source": [
    "**Apply DBSCAN**\n",
    "\n",
    "Apply DBSCAN to the training and testing set"
   ]
  },
  {
   "cell_type": "markdown",
   "metadata": {
    "id": "n-Hu35MLJSxK"
   },
   "source": [
    "DBSCAN Parameters:\n",
    " We've chosen `eps=5` and `min_samples=5`. These parameters are crucial as they determine the density requirement for forming clusters:\n",
    "\n",
    "  `eps (epsilon)` specifies how close points must be to each other to be considered part of a cluster. It essentially defines the neighborhood around a point.\n",
    "\n",
    "  `min_samples` determines the minimum number of points required to form a dense region, which DBSCAN treats as a cluster.\n",
    "\n",
    "**Note:** DBSCAN does not predict new cluster labels for unseen data because it’s not a predictive model but a fitting model. `.fit_predict()` will effectively treat your test set as a new dataset and find clusters independently of the training set, which might not align with the clusters identified in the training set."
   ]
  },
  {
   "cell_type": "code",
   "execution_count": 36,
   "metadata": {
    "id": "0WEMqps62yl9"
   },
   "outputs": [],
   "source": [
    "# Apply DBSCAN to the training set\n",
    "db = DBSCAN(eps=5, min_samples=5).fit(X_train)\n",
    "labels_train = db.labels_\n",
    "\n",
    "# Apply DBSCAN to the test set\n",
    "labels_test = db.fit_predict(X_test)"
   ]
  },
  {
   "cell_type": "markdown",
   "metadata": {
    "id": "Z5sVu0AQ7Gl0"
   },
   "source": [
    "**Number of Clusters**\n",
    "\n",
    "Calculate the number of clusters in training and testing sets and ignore the noice points"
   ]
  },
  {
   "cell_type": "code",
   "execution_count": 37,
   "metadata": {
    "colab": {
     "base_uri": "https://localhost:8080/"
    },
    "executionInfo": {
     "elapsed": 457,
     "status": "ok",
     "timestamp": 1718627063845,
     "user": {
      "displayName": "Aleena Raj",
      "userId": "16635257578699511263"
     },
     "user_tz": -330
    },
    "id": "UoTENBNC2-v_",
    "outputId": "6b7ff77b-4571-4fac-a990-7c29e664712e"
   },
   "outputs": [
    {
     "name": "stdout",
     "output_type": "stream",
     "text": [
      "Estimated number of clusters (train): 2\n",
      "Estimated number of noise points (train): 75\n",
      "Estimated number of clusters (test): 2\n",
      "Estimated number of noise points (test): 58\n"
     ]
    }
   ],
   "source": [
    "# Number of clusters in labels, ignoring noise if present.\n",
    "n_clusters_train = len(set(labels_train)) - (1 if -1 in labels_train else 0)\n",
    "n_noise_train = list(labels_train).count(-1)\n",
    "\n",
    "n_clusters_test = len(set(labels_test)) - (1 if -1 in labels_test else 0)\n",
    "n_noise_test = list(labels_test).count(-1)\n",
    "\n",
    "print(f'Estimated number of clusters (train): {n_clusters_train}')\n",
    "print(f'Estimated number of noise points (train): {n_noise_train}')\n",
    "print(f'Estimated number of clusters (test): {n_clusters_test}')\n",
    "print(f'Estimated number of noise points (test): {n_noise_test}')"
   ]
  },
  {
   "cell_type": "markdown",
   "metadata": {
    "id": "mxpemrN89sns"
   },
   "source": [
    "**Plot the clusters for training set**\n",
    "\n",
    "- ```unique_labels_train = set(labels_train)``` Extracts unique cluster labels from labels_train. This ensures we know all the different clusters present in the training data.\n",
    "\n",
    "- ```colors = [plt.cm.Spectral(each) for each in np.linspace(0, 1, len(unique_labels_train))]``` Generates a list of colors, one for each unique cluster. The np.linspace(0, 1, len(unique_labels_train)) creates evenly spaced values between 0 and 1, which are then mapped to colors using plt.cm.Spectral.\n",
    "\n",
    "- ```for k, col in zip(unique_labels_train, colors):``` Loops through each unique label k and its corresponding color col.\n",
    "- ```if k == -1:``` Checks if the label is -1, which typically denotes noise points in clustering algorithms.\n",
    "- ```col = [0, 0, 0, 1]``` If the label is -1, assigns the color black to these points.\n",
    "\n",
    "- ```class_member_mask = (labels_train == k)``` Creates a boolean mask that selects data points belonging to the current cluster k.\n",
    "- ```xy = X_train[class_member_mask]``` Applies the mask to X_train to extract the data points for the current cluster.\n",
    "- ```plt.plot(xy[:, 0], xy[:, 1], 'o', markerfacecolor=tuple(col), markeredgecolor='k', markersize=6)``` Plots the data points. xy[:, 0] and xy[:, 1] represent the coordinates of the data points. The points are plotted as circles ('o') with the specified face color, edge color, and size."
   ]
  },
  {
   "cell_type": "code",
   "execution_count": 38,
   "metadata": {
    "colab": {
     "base_uri": "https://localhost:8080/",
     "height": 564
    },
    "executionInfo": {
     "elapsed": 707,
     "status": "ok",
     "timestamp": 1718627212661,
     "user": {
      "displayName": "Aleena Raj",
      "userId": "16635257578699511263"
     },
     "user_tz": -330
    },
    "id": "iLa5Eu_x3Co6",
    "outputId": "23c2ec5a-c86d-41dc-ae90-48c4b306ceea"
   },
   "outputs": [
    {
     "data": {
      "image/png": "[encoded data removed]",
      "text/plain": [
       "<Figure size 1200x600 with 1 Axes>"
      ]
     },
     "metadata": {},
     "output_type": "display_data"
    }
   ],
   "source": [
    "# Plot the clusters for training set\n",
    "unique_labels_train = set(labels_train)\n",
    "colors = [plt.cm.Spectral(each) for each in np.linspace(0, 1, len(unique_labels_train))]\n",
    "\n",
    "plt.figure(figsize=(12, 6))\n",
    "\n",
    "for k, col in zip(unique_labels_train, colors):\n",
    "    if k == -1:\n",
    "        # Black used for noise.\n",
    "        col = [0, 0, 0, 1]\n",
    "\n",
    "    class_member_mask = (labels_train == k)\n",
    "\n",
    "    xy = X_train[class_member_mask]\n",
    "    plt.plot(xy[:, 0], xy[:, 1], 'o', markerfacecolor=tuple(col), markeredgecolor='k', markersize=6)\n",
    "\n",
    "plt.title(f'Training Set: Estimated number of clusters: {n_clusters_train}')\n",
    "plt.xlabel('Annual Income (k$)')\n",
    "plt.ylabel('Spending Score (1-100)')\n",
    "plt.show()\n"
   ]
  },
  {
   "cell_type": "markdown",
   "metadata": {
    "id": "C0pizclI_G5R"
   },
   "source": [
    "**Plot the clusters for testing set**"
   ]
  },
  {
   "cell_type": "code",
   "execution_count": 39,
   "metadata": {
    "colab": {
     "base_uri": "https://localhost:8080/",
     "height": 564
    },
    "executionInfo": {
     "elapsed": 679,
     "status": "ok",
     "timestamp": 1718627234989,
     "user": {
      "displayName": "Aleena Raj",
      "userId": "16635257578699511263"
     },
     "user_tz": -330
    },
    "id": "IF8OupL13SMc",
    "outputId": "bbcb4c06-622a-433b-cb76-50eaa1a96e4b"
   },
   "outputs": [
    {
     "data": {
      "image/png": "[encoded data removed]",
      "text/plain": [
       "<Figure size 1200x600 with 1 Axes>"
      ]
     },
     "metadata": {},
     "output_type": "display_data"
    }
   ],
   "source": [
    "# Plot the clusters for test set\n",
    "unique_labels_test = set(labels_test)\n",
    "colors = [plt.cm.Spectral(each) for each in np.linspace(0, 1, len(unique_labels_test))]\n",
    "\n",
    "plt.figure(figsize=(12, 6))\n",
    "\n",
    "for k, col in zip(unique_labels_test, colors):\n",
    "    if k == -1:\n",
    "        # Black used for noise.\n",
    "        col = [0, 0, 0, 1]\n",
    "\n",
    "    class_member_mask = (labels_test == k)\n",
    "\n",
    "    xy = X_test[class_member_mask]\n",
    "    plt.plot(xy[:, 0], xy[:, 1], 'o', markerfacecolor=tuple(col),\n",
    "             markeredgecolor='k', markersize=6)\n",
    "\n",
    "plt.title(f'Test Set: Estimated number of clusters: {n_clusters_test}')\n",
    "plt.xlabel('Annual Income (k$)')\n",
    "plt.ylabel('Spending Score (1-100)')\n",
    "plt.show()"
   ]
  },
  {
   "cell_type": "markdown",
   "metadata": {
    "id": "x4MLk373Aba0"
   },
   "source": [
    "**Observation:**\n",
    "\n",
    "The DBSCAN clustering algorithm identified 2 clusters in both the training and test sets, with a significant number of noise points (black dots) spread across the entire feature space. Cluster 1 is positioned around an annual income of 60k and a spending score of 60, while Cluster 2 is centered around an annual income of 60k and a spending score of 40. The presence of these two clusters in both datasets indicates that the clustering is consistent, though the majority of data points are classified as noise."
   ]
  }
 ],
 "metadata": {
  "colab": {
   "provenance": []
  },
  "kernelspec": {
   "display_name": "Python 3",
   "name": "python3"
  },
  "language_info": {
   "codemirror_mode": {
    "name": "ipython",
    "version": 3
   },
   "file_extension": ".py",
   "mimetype": "text/x-python",
   "name": "python",
   "nbconvert_exporter": "python",
   "pygments_lexer": "ipython3",
   "version": "3.11.9"
  }
 },
 "nbformat": 4,
 "nbformat_minor": 0
}
